{
 "cells": [
  {
   "cell_type": "code",
   "execution_count": 11,
   "metadata": {},
   "outputs": [],
   "source": [
    "import sys\n",
    "import os\n",
    "import logging\n",
    "import json\n",
    "from dotenv import load_dotenv\n",
    "\n",
    "# Change cwd to the DataEnrichment root folder\n",
    "data_enrichment_root_path = os.path.abspath(os.path.join(os.getcwd(), \"..\", \"..\"))\n",
    "os.chdir(data_enrichment_root_path)\n",
    "\n",
    "if data_enrichment_root_path not in sys.path:\n",
    "    sys.path.append(data_enrichment_root_path)\n",
    "\n",
    "load_dotenv()\n",
    "\n",
    "import db\n",
    "from worker import process\n",
    "from utils import download\n",
    "from utils.get_video_description import get_video_description\n",
    "from AudioProcessor.transcriber import transcribe_audio\n",
    "from AudioProcessor.sentiment import SentimentAnalyzer\n",
    "import VideoProcessor\n",
    "import AudioProcessor"
   ]
  },
  {
   "cell_type": "code",
   "execution_count": 2,
   "metadata": {},
   "outputs": [
    {
     "name": "stderr",
     "output_type": "stream",
     "text": [
      "INFO - [EnrichmentWorker] - Successfully Connected to Database\n"
     ]
    }
   ],
   "source": [
    "db_conn = db.get_connection()\n",
    "video_id = \"7528389380721904918\""
   ]
  },
  {
   "cell_type": "code",
   "execution_count": 3,
   "metadata": {},
   "outputs": [
    {
     "name": "stderr",
     "output_type": "stream",
     "text": [
      "INFO - [EnrichmentWorker] - Downloading MP4 for 7528389380721904918 → /Users/rolandteslaru/Desktop/ZeruelNet/packages/DataEnrichment/tmp/video/7528389380721904918.mp4\n",
      "INFO - [EnrichmentWorker] - Audio 7528389380721904918 is already downloaded in /Users/rolandteslaru/Desktop/ZeruelNet/packages/DataEnrichment/tmp/audio/7528389380721904918.wav. Skipping\n"
     ]
    }
   ],
   "source": [
    "video_url, video_path, audio_path = download.tiktok_full(video_id)\n"
   ]
  },
  {
   "cell_type": "code",
   "execution_count": 4,
   "metadata": {},
   "outputs": [
    {
     "name": "stderr",
     "output_type": "stream",
     "text": [
      "INFO - [EnrichmentWorker] - Starting transcriber model ggml-large-v3.bin for audio in /Users/rolandteslaru/Desktop/ZeruelNet/packages/DataEnrichment/tmp/audio/7528389380721904918.wav\n",
      "INFO - [EnrichmentWorker] - De la 1 ianuarie, impozitul pe proprietate va fi mai mare.\n",
      " Asta pentru că va fi calculat în funcție de valoarea de piață a locuinței\n",
      " și nu de cea veche înregistrată la primărie și neactualizată de ani de zile.\n",
      " Schimbarea va aduce mai mulți bani la buget,\n",
      " mai ales că România este țara din Uniunea Europeană cu cei mai mulți proprietari.\n",
      " Efectele vor fi resimțite de cei care au case și apartamente în orașe mari,\n",
      " precum București, Cluj-Napoca sau Iași, unde impozitele ar putea să se dubleze.\n",
      " Modificarea este o condiție asumată de România în PNRR.\n",
      " De la 1 ianuarie vom plăti impozit pe proprietate în funcție de valoarea de piață reală a locuinței.\n",
      " La guvern se lucrează în aceste zile la dezvoltarea aplicației e-Proprietatea,\n",
      " care va centraliza datele despre prețurile reale de tranzacționare ale proprietăților imobiliare.\n",
      " Informațiile vor ajunge într-un sistem centralizat controlat de Ministerul Finanțelor.\n",
      " Se va lucra cu hărți digitale, coordonate GPS, date cadastrale,\n",
      " imagini din satelit și detalii despre autorizațiile de construcție.\n",
      " Fiecare proprietate va avea un ID unic.\n",
      " Asociat CNP-ului sau CIF-ului proprietarului.\n",
      " Cea mai importantă schimbare se referă la modul de calcul al impozitelor.\n",
      " În prezent, cota este stabilită pe baza unor grile vechi de evaluare aflate la primărie,\n",
      " care nu reflectă mereu valoarea reală a proprietății.\n",
      " În sistemul e-Proprietate, evaluarea va fi făcută automat pe baza unor algoritmi\n",
      " care țin cont de prețurile cu care se vând locuințele pe piața imobiliară.\n",
      " De asemenea, vor fi luate în calcul, printre altele, și zona în care se află imobilul,\n",
      " accesul la utilități și starea juridică.\n",
      " Iar asta ar putea duce la o majorare substanțială a impozitelor.\n",
      " Experții spun că se poate ajunge la dublarea sau chiar triplarea lor.\n",
      " De exemplu, pentru un apartament cu două camere,\n",
      " achiziționat la finalul anului trecut pentru suma de 78.000 de euro situată în județul Ilfov,\n",
      " proprietarul a plătit un impozit de 241 de lei.\n",
      " Asta pentru că primăria i-a stabilit valoarea impozabilă de doar 40.000 de euro.\n",
      " O dată introdus în platformă, din calculul impozitorului,\n",
      " realizat cu ajutorul valorii reale a proprietății înregistrat la notar,\n",
      " ar urma să rezulte un impozit de 474 de lei, cu 233 de lei mai mult, adică o majorare cu 90%.\n",
      " Taxele locale pentru locuințe și mai ales case sunt divizorii.\n",
      " Trebuie să ne așteptăm la creșteri peste tot, eu zic între 50 și 100%.\n",
      " În orașele principale ale țării, cel puțin, la partea de locuințe, case și imobile,\n",
      " simtă o creștere mai mare.\n",
      " La guvern s-a creat un grup de lucru care pregătește implementarea platformei e-proprietatea,\n",
      " dar și modalitatea de calcul a impozitului.\n",
      " Pentru început ar urma să fie lansat un proiect pilot în următoarele luni\n",
      " în orașele cu cel mai mare număr de locuitori, București, Cluj-Napoca și Iași.\n",
      " Guvernul speră să strângă anual în plus 6 miliarde de lei doar din noul impozit pe proprietăți.\n",
      " Trebuie să facem reforma impozitolul pe proprietate, care va duce cu siguranță,\n",
      " la o creștere a impozitelor pe proprietate la persoanele fizice de la începutul anului viitor.\n",
      " Mi se pare corect să le spunem asta românilor.\n",
      " De ce? Pentru că avem o pondere foarte mică ai acestor impozite în veniturile statului.\n",
      " Conform Eurostat, în 2023, țara noastră avea cei mai mulți proprietari din Uniunea Europeană.\n",
      " 96% din familiile din România dețin o locuință.\n"
     ]
    }
   ],
   "source": [
    "model_name = \"ggml-large-v3.bin\" \n",
    "transcript, lang, output = transcribe_audio(audio_path, model_name)\n",
    "logging.info(transcript)"
   ]
  },
  {
   "cell_type": "code",
   "execution_count": 5,
   "metadata": {},
   "outputs": [
    {
     "name": "stderr",
     "output_type": "stream",
     "text": [
      "INFO - [EnrichmentWorker] - Loading model DGurgurov/xlm-r_romanian_sentiment for language ro\n",
      "INFO - [EnrichmentWorker] - Successfully loaded model DGurgurov/xlm-r_romanian_sentiment\n",
      "/Users/rolandteslaru/Desktop/ZeruelNet/packages/DataEnrichment/venv/lib/python3.13/site-packages/torch/nn/modules/module.py:1762: FutureWarning: `encoder_attention_mask` is deprecated and will be removed in version 4.55.0 for `XLMRobertaSdpaSelfAttention.forward`.\n",
      "  return forward_call(*args, **kwargs)\n",
      "INFO - [EnrichmentWorker] - SENTIMENT MODEL OUTPUT SequenceClassifierOutput(loss=None, logits=tensor([[ 0.5810, -0.1974]], grad_fn=<AddmmBackward0>), hidden_states=None, attentions=None)\n",
      "INFO - [EnrichmentWorker] - SENTIMENT MODEL SCORES [0.6853467  0.31465325]\n"
     ]
    }
   ],
   "source": [
    "sentiment_results = SentimentAnalyzer.get_sentiment(transcript, \"ro\")"
   ]
  },
  {
   "cell_type": "code",
   "execution_count": 6,
   "metadata": {},
   "outputs": [
    {
     "data": {
      "text/plain": [
       "{'positive': 0.3146532475948334,\n",
       " 'neutral': 0.0,\n",
       " 'negative': 0.6853467226028442}"
      ]
     },
     "execution_count": 6,
     "metadata": {},
     "output_type": "execute_result"
    }
   ],
   "source": [
    "sentiment_results"
   ]
  },
  {
   "cell_type": "code",
   "execution_count": 7,
   "metadata": {},
   "outputs": [],
   "source": [
    "description = get_video_description(video_id, db_conn)"
   ]
  },
  {
   "cell_type": "code",
   "execution_count": 12,
   "metadata": {},
   "outputs": [
    {
     "name": "stderr",
     "output_type": "stream",
     "text": [
      "INFO - [EnrichmentWorker] - Starting video processing for /Users/rolandteslaru/Desktop/ZeruelNet/packages/DataEnrichment/tmp/video/7528389380721904918.mp4\n",
      "INFO - [EnrichmentWorker] - AFC is enabled with max remote calls: 10.\n",
      "INFO - [EnrichmentWorker] - HTTP Request: POST https://aiplatform.googleapis.com/v1beta1/projects/zeruel-ney/locations/global/publishers/google/models/gemini-2.5-flash-lite:generateContent \"HTTP/1.1 200 OK\"\n",
      "INFO - [EnrichmentWorker] - AFC remote call 1 is done.\n",
      "INFO - [EnrichmentWorker] - VIDEO Analysis result {'summary': \"The video discusses the upcoming increase in property taxes in Romania starting January 1st. The new tax will be calculated based on the real market value of properties, replacing the old, outdated registered values. This change is expected to increase budget revenue and is a condition of Romania's National Recovery and Resilience Plan (PNRR). The report highlights that Romania has a high rate of homeownership within the EU and provides examples of how the tax might increase, potentially doubling or tripling in major cities. A new digital platform, e-Proprietatea, is being developed to manage this data, utilizing digital maps, GPS coordinates, satellite imagery, and construction permits to assign a unique ID to each property. The government anticipates collecting an additional 6 billion lei annually from this new tax.\", 'identified_subjects': [{'subject': 'romania', 'stance': 0.1}, {'subject': 'property tax', 'stance': -0.7}, {'subject': 'pnrr', 'stance': 0.8}, {'subject': 'e-proprietatea', 'stance': 0.5}, {'subject': 'ministerul finantelor', 'stance': 0.1}, {'subject': 'eurostat', 'stance': 0.2}, {'subject': 'homeownership', 'stance': 0.3}, {'subject': 'tax increases', 'stance': -0.8}, {'subject': 'budget revenue', 'stance': 0.3}], 'overall_alignment': 0.1}\n"
     ]
    }
   ],
   "source": [
    "analysis_result_json = VideoProcessor.process(video_path, transcript, sentiment_results, description)"
   ]
  },
  {
   "cell_type": "code",
   "execution_count": 13,
   "metadata": {},
   "outputs": [
    {
     "data": {
      "text/plain": [
       "{'summary': \"The video discusses the upcoming increase in property taxes in Romania starting January 1st. The new tax will be calculated based on the real market value of properties, replacing the old, outdated registered values. This change is expected to increase budget revenue and is a condition of Romania's National Recovery and Resilience Plan (PNRR). The report highlights that Romania has a high rate of homeownership within the EU and provides examples of how the tax might increase, potentially doubling or tripling in major cities. A new digital platform, e-Proprietatea, is being developed to manage this data, utilizing digital maps, GPS coordinates, satellite imagery, and construction permits to assign a unique ID to each property. The government anticipates collecting an additional 6 billion lei annually from this new tax.\",\n",
       " 'identified_subjects': [{'subject': 'romania', 'stance': 0.1},\n",
       "  {'subject': 'property tax', 'stance': -0.7},\n",
       "  {'subject': 'pnrr', 'stance': 0.8},\n",
       "  {'subject': 'e-proprietatea', 'stance': 0.5},\n",
       "  {'subject': 'ministerul finantelor', 'stance': 0.1},\n",
       "  {'subject': 'eurostat', 'stance': 0.2},\n",
       "  {'subject': 'homeownership', 'stance': 0.3},\n",
       "  {'subject': 'tax increases', 'stance': -0.8},\n",
       "  {'subject': 'budget revenue', 'stance': 0.3}],\n",
       " 'overall_alignment': 0.1}"
      ]
     },
     "execution_count": 13,
     "metadata": {},
     "output_type": "execute_result"
    }
   ],
   "source": [
    "analysis_result_json"
   ]
  },
  {
   "cell_type": "code",
   "execution_count": 9,
   "metadata": {},
   "outputs": [
    {
     "data": {
      "text/plain": [
       "{'summary': \"The video discusses an upcoming increase in property taxes in Romania starting January 1st. The new tax will be calculated based on the real market value of properties, replacing older, unupdated valuations. This change is expected to increase state revenue and is a condition of Romania's National Recovery and Resilience Plan (PNRR). The report highlights that Romania has a high rate of homeownership within the EU and provides examples of potential tax increases, showing a significant jump from current to future calculations. The government is developing a digital platform, e-Proprietatea, to manage this data, which will incorporate various data sources like satellite imagery and cadastral information. A pilot program is planned for major cities like Bucharest, Cluj-Napoca, and Iași.\",\n",
       " 'identified_subjects': [{'subject': 'romania', 'stance': 0.1},\n",
       "  {'subject': 'pnrr', 'stance': 1.0},\n",
       "  {'subject': 'property tax', 'stance': -0.7},\n",
       "  {'subject': 'real estate market', 'stance': 0.0},\n",
       "  {'subject': 'government revenue', 'stance': 0.2},\n",
       "  {'subject': 'homeownership', 'stance': 0.3},\n",
       "  {'subject': 'taxation', 'stance': -0.5},\n",
       "  {'subject': 'e-proprietatea', 'stance': 0.5},\n",
       "  {'subject': 'digitalization', 'stance': 0.7},\n",
       "  {'subject': 'ministerul finantelor', 'stance': 0.3},\n",
       "  {'subject': 'eurostat', 'stance': 0.5}],\n",
       " 'overall_alignment': 0.1}"
      ]
     },
     "execution_count": 9,
     "metadata": {},
     "output_type": "execute_result"
    }
   ],
   "source": [
    "analysis_result_json"
   ]
  }
 ],
 "metadata": {
  "kernelspec": {
   "display_name": "venv",
   "language": "python",
   "name": "python3"
  },
  "language_info": {
   "codemirror_mode": {
    "name": "ipython",
    "version": 3
   },
   "file_extension": ".py",
   "mimetype": "text/x-python",
   "name": "python",
   "nbconvert_exporter": "python",
   "pygments_lexer": "ipython3",
   "version": "3.13.5"
  }
 },
 "nbformat": 4,
 "nbformat_minor": 2
}
