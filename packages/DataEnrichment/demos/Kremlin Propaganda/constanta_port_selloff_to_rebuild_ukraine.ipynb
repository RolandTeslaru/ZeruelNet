{
 "cells": [
  {
   "cell_type": "code",
   "execution_count": 1,
   "metadata": {},
   "outputs": [
    {
     "name": "stderr",
     "output_type": "stream",
     "text": [
      "/Users/rolandteslaru/Desktop/ZeruelNet/packages/DataEnrichment/venv/lib/python3.13/site-packages/tqdm/auto.py:21: TqdmWarning: IProgress not found. Please update jupyter and ipywidgets. See https://ipywidgets.readthedocs.io/en/stable/user_install.html\n",
      "  from .autonotebook import tqdm as notebook_tqdm\n"
     ]
    }
   ],
   "source": [
    "import sys\n",
    "import os\n",
    "import logging\n",
    "import json\n",
    "from dotenv import load_dotenv\n",
    "\n",
    "# Change cwd to the DataEnrichment root folder\n",
    "data_enrichment_root_path = os.path.abspath(os.path.join(os.getcwd(), \"..\", \"..\"))\n",
    "os.chdir(data_enrichment_root_path)\n",
    "\n",
    "if data_enrichment_root_path not in sys.path:\n",
    "    sys.path.append(data_enrichment_root_path)\n",
    "\n",
    "load_dotenv()\n",
    "\n",
    "import db\n",
    "from worker import process\n",
    "from utils import download\n",
    "from utils.get_video_description import get_video_description\n",
    "from AudioProcessor.transcriber import transcribe_audio\n",
    "from AudioProcessor.sentiment import SentimentAnalyzer\n",
    "import VideoProcessor\n",
    "import AudioProcessor"
   ]
  },
  {
   "cell_type": "code",
   "execution_count": 2,
   "metadata": {},
   "outputs": [
    {
     "name": "stderr",
     "output_type": "stream",
     "text": [
      "INFO - [EnrichmentWorker] - Successfully Connected to Database\n"
     ]
    }
   ],
   "source": [
    "db_conn = db.get_connection()\n",
    "video_id = \"7520243908438134038\""
   ]
  },
  {
   "cell_type": "code",
   "execution_count": null,
   "metadata": {},
   "outputs": [],
   "source": [
    "video_path = os.path.abspath(\"./tmp/video/7520243908438134038.mp4\")\n",
    "audio_path = os.path.abspath(\"./tmp/video/7520243908438134038.wav\")\n",
    "\n",
    "transcript = \"\"\"\n",
    "Știai că România vrea să vândă portul Constanța pentru a reconstrui Ucraina?\n",
    " Sună nebunesc? Din păcate e real.\n",
    " În cercurile guvernamentale de la București se discută tot mai intens despre vânzarea portului Constanța,\n",
    " iar banii obținuți ar urma să fie direcționați către reconstrucția Ucrainei.\n",
    " Nu este o glumă, vorbim despre cel mai important port românesc,\n",
    " o poartă strategică la Marea Neagră, cu valoare geo-economică și militară uriașă.\n",
    " Și se ia în calcul cedarea acestuia, în plină criză globală,\n",
    " în favoarea unui plan de solidaritate internațional.\n",
    " Întrebarea dură este, solidaritate cu cine și pe spatele cui?\n",
    " Ce câștigă România concret din această tranzacție?\n",
    " Cine va controla portul după vânzare?\n",
    " Cum ajută acest lucru românii care plătesc taxe, facturi și rate tot mai mari?\n",
    " În timp ce alte state își apără infrastructura vitală,\n",
    " România pare gata să renunțe la ea în numele unor interese geopolitice impuse din afară.\n",
    " Nu e doar o problemă economică, e o problemă de suveranitate națională.\n",
    " Tu ce crezi? România trebuie să ajute cu orice preț chiar dacă își vinde viitorul?\n",
    " Sau ar trebui să punem pe primul loc?\n",
    " interesul național, distribuie ca să afle toți ce se pregătește în tăcere.\n",
    "\"\"\"\n",
    "\n",
    "sentiment_results = {\n",
    "    'positive': 0.15972021222114563,\n",
    "    'neutral': 0.0,\n",
    "    'negative': 0.840279757976532\n",
    " }\n",
    "description = 'Portul Constanța, una dintre cele mai importante infrastructuri strategice ale României, ar putea fi vândut. Guvernul discută ca banii să fie direcționați spre reconstrucția Ucrainei. E o decizie corectă? Sau o  a interesului național #Romania2025 #PortulConstanta #Ucraina #Suveranitate #DistribuieAdevărul'"
   ]
  },
  {
   "cell_type": "code",
   "execution_count": 3,
   "metadata": {},
   "outputs": [
    {
     "name": "stderr",
     "output_type": "stream",
     "text": [
      "INFO - [EnrichmentWorker] - Downloading MP4 for 7520243908438134038 → /Users/rolandteslaru/Desktop/ZeruelNet/packages/DataEnrichment/tmp/video/7520243908438134038.mp4\n",
      "INFO - [EnrichmentWorker] - Audio 7520243908438134038 is already downloaded in /Users/rolandteslaru/Desktop/ZeruelNet/packages/DataEnrichment/tmp/audio/7520243908438134038.wav. Skipping\n"
     ]
    }
   ],
   "source": [
    "# video_url, video_path, audio_path = download.tiktok_full(video_id)"
   ]
  },
  {
   "cell_type": "code",
   "execution_count": 4,
   "metadata": {},
   "outputs": [
    {
     "name": "stderr",
     "output_type": "stream",
     "text": [
      "INFO - [EnrichmentWorker] - Starting transcriber model ggml-large-v3.bin for audio in /Users/rolandteslaru/Desktop/ZeruelNet/packages/DataEnrichment/tmp/audio/7520243908438134038.wav\n",
      "INFO - [EnrichmentWorker] - Știai că România vrea să vândă portul Constanța pentru a reconstrui Ucraina?\n",
      " Sună nebunesc? Din păcate e real.\n",
      " În cercurile guvernamentale de la București se discută tot mai intens despre vânzarea portului Constanța,\n",
      " iar banii obținuți ar urma să fie direcționați către reconstrucția Ucrainei.\n",
      " Nu este o glumă, vorbim despre cel mai important port românesc,\n",
      " o poartă strategică la Marea Neagră, cu valoare geo-economică și militară uriașă.\n",
      " Și se ia în calcul cedarea acestuia, în plină criză globală,\n",
      " în favoarea unui plan de solidaritate internațional.\n",
      " Întrebarea dură este, solidaritate cu cine și pe spatele cui?\n",
      " Ce câștigă România concret din această tranzacție?\n",
      " Cine va controla portul după vânzare?\n",
      " Cum ajută acest lucru românii care plătesc taxe, facturi și rate tot mai mari?\n",
      " În timp ce alte state își apără infrastructura vitală,\n",
      " România pare gata să renunțe la ea în numele unor interese geopolitice impuse din afară.\n",
      " Nu e doar o problemă economică, e o problemă de suveranitate națională.\n",
      " Tu ce crezi? România trebuie să ajute cu orice preț chiar dacă își vinde viitorul?\n",
      " Sau ar trebui să punem pe primul loc?\n",
      " interesul național, distribuie ca să afle toți ce se pregătește în tăcere.\n"
     ]
    }
   ],
   "source": [
    "# model_name = \"ggml-large-v3.bin\" \n",
    "# transcript, lang, output = transcribe_audio(audio_path, model_name)\n",
    "# logging.info(transcript)"
   ]
  },
  {
   "cell_type": "code",
   "execution_count": 5,
   "metadata": {},
   "outputs": [
    {
     "name": "stderr",
     "output_type": "stream",
     "text": [
      "INFO - [EnrichmentWorker] - Loading model DGurgurov/xlm-r_romanian_sentiment for language ro\n",
      "INFO - [EnrichmentWorker] - Successfully loaded model DGurgurov/xlm-r_romanian_sentiment\n",
      "/Users/rolandteslaru/Desktop/ZeruelNet/packages/DataEnrichment/venv/lib/python3.13/site-packages/torch/nn/modules/module.py:1762: FutureWarning: `encoder_attention_mask` is deprecated and will be removed in version 4.55.0 for `XLMRobertaSdpaSelfAttention.forward`.\n",
      "  return forward_call(*args, **kwargs)\n",
      "INFO - [EnrichmentWorker] - SENTIMENT MODEL OUTPUT SequenceClassifierOutput(loss=None, logits=tensor([[ 0.9727, -0.6876]], grad_fn=<AddmmBackward0>), hidden_states=None, attentions=None)\n",
      "INFO - [EnrichmentWorker] - SENTIMENT MODEL SCORES [0.84027976 0.15972021]\n"
     ]
    }
   ],
   "source": [
    "# sentiment_results = SentimentAnalyzer.get_sentiment(transcript, \"ro\")\n",
    "# sentiment_results"
   ]
  },
  {
   "cell_type": "code",
   "execution_count": 7,
   "metadata": {},
   "outputs": [
    {
     "data": {
      "text/plain": [
       "'Portul Constanța, una dintre cele mai importante infrastructuri strategice ale României, ar putea fi vândut. Guvernul discută ca banii să fie direcționați spre reconstrucția Ucrainei. E o decizie corectă? Sau o  a interesului național #Romania2025 #PortulConstanta #Ucraina #Suveranitate #DistribuieAdevărul'"
      ]
     },
     "execution_count": 7,
     "metadata": {},
     "output_type": "execute_result"
    }
   ],
   "source": [
    "# description = get_video_description(video_id, db_conn)\n",
    "# description"
   ]
  },
  {
   "cell_type": "code",
   "execution_count": 8,
   "metadata": {},
   "outputs": [
    {
     "name": "stderr",
     "output_type": "stream",
     "text": [
      "INFO - [EnrichmentWorker] - Starting video processing for /Users/rolandteslaru/Desktop/ZeruelNet/packages/DataEnrichment/tmp/video/7520243908438134038.mp4\n",
      "INFO - [EnrichmentWorker] - AFC is enabled with max remote calls: 10.\n",
      "INFO - [EnrichmentWorker] - HTTP Request: POST https://aiplatform.googleapis.com/v1beta1/projects/zeruel-ney/locations/global/publishers/google/models/gemini-2.5-flash-lite:generateContent \"HTTP/1.1 200 OK\"\n",
      "INFO - [EnrichmentWorker] - AFC remote call 1 is done.\n",
      "INFO - [EnrichmentWorker] - VIDEO Analysis result {'summary': \"The video claims that Romania is considering selling the Port of Constanța to aid in Ukraine's reconstruction. It questions the wisdom of this decision, highlighting the port's strategic, economic, and military importance. The speaker suggests this move might be driven by external geopolitical interests, potentially at the expense of Romania's national sovereignty and its citizens' economic well-being, contrasting it with other nations protecting their vital infrastructure.\", 'identified_subjects': [{'subject': 'romania', 'stance': -0.7}, {'subject': 'ukraine', 'stance': -0.7}, {'subject': 'port of constanța', 'stance': -0.7}, {'subject': 'national sovereignty', 'stance': 1.0}, {'subject': 'geopolitical interests', 'stance': -1.0}], 'overall_alignment': -0.8}\n"
     ]
    }
   ],
   "source": [
    "analysis_result_json = VideoProcessor.process(video_path, transcript, sentiment_results, description)"
   ]
  },
  {
   "cell_type": "code",
   "execution_count": 9,
   "metadata": {},
   "outputs": [
    {
     "data": {
      "text/plain": [
       "{'summary': \"The video claims that Romania is considering selling the Port of Constanța to aid in Ukraine's reconstruction. It questions the wisdom of this decision, highlighting the port's strategic, economic, and military importance. The speaker suggests this move might be driven by external geopolitical interests, potentially at the expense of Romania's national sovereignty and its citizens' economic well-being, contrasting it with other nations protecting their vital infrastructure.\",\n",
       " 'identified_subjects': [{'subject': 'romania', 'stance': -0.7},\n",
       "  {'subject': 'ukraine', 'stance': -0.7},\n",
       "  {'subject': 'port of constanța', 'stance': -0.7},\n",
       "  {'subject': 'national sovereignty', 'stance': 1.0},\n",
       "  {'subject': 'geopolitical interests', 'stance': -1.0}],\n",
       " 'overall_alignment': -0.8}"
      ]
     },
     "execution_count": 9,
     "metadata": {},
     "output_type": "execute_result"
    }
   ],
   "source": [
    "analysis_result_json"
   ]
  },
  {
   "cell_type": "code",
   "execution_count": 10,
   "metadata": {},
   "outputs": [
    {
     "data": {
      "text/plain": [
       "{'summary': \"The video claims that Romania is considering selling the Port of Constanța to aid in Ukraine's reconstruction. It questions the wisdom of this decision, highlighting the port's strategic, economic, and military importance. The speaker suggests this move might be driven by external geopolitical interests, potentially at the expense of Romania's national sovereignty and its citizens' economic well-being, contrasting it with other nations protecting their vital infrastructure.\",\n",
       " 'identified_subjects': [{'subject': 'romania', 'stance': -0.7},\n",
       "  {'subject': 'ukraine', 'stance': -0.7},\n",
       "  {'subject': 'port of constanța', 'stance': -0.7},\n",
       "  {'subject': 'national sovereignty', 'stance': 1.0},\n",
       "  {'subject': 'geopolitical interests', 'stance': -1.0}],\n",
       " 'overall_alignment': -0.8}"
      ]
     },
     "execution_count": 10,
     "metadata": {},
     "output_type": "execute_result"
    }
   ],
   "source": [
    "analysis_result_json"
   ]
  }
 ],
 "metadata": {
  "kernelspec": {
   "display_name": "venv",
   "language": "python",
   "name": "python3"
  },
  "language_info": {
   "codemirror_mode": {
    "name": "ipython",
    "version": 3
   },
   "file_extension": ".py",
   "mimetype": "text/x-python",
   "name": "python",
   "nbconvert_exporter": "python",
   "pygments_lexer": "ipython3",
   "version": "3.13.5"
  }
 },
 "nbformat": 4,
 "nbformat_minor": 2
}
