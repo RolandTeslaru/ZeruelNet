{
 "cells": [
  {
   "cell_type": "code",
   "execution_count": 1,
   "metadata": {},
   "outputs": [
    {
     "name": "stderr",
     "output_type": "stream",
     "text": [
      "/Users/rolandteslaru/Desktop/ZeruelNet/packages/DataEnrichment/venv/lib/python3.13/site-packages/tqdm/auto.py:21: TqdmWarning: IProgress not found. Please update jupyter and ipywidgets. See https://ipywidgets.readthedocs.io/en/stable/user_install.html\n",
      "  from .autonotebook import tqdm as notebook_tqdm\n"
     ]
    }
   ],
   "source": [
    "import sys\n",
    "import os\n",
    "import logging\n",
    "import json\n",
    "from dotenv import load_dotenv\n",
    "\n",
    "# Change cwd to the DataEnrichment root folder\n",
    "data_enrichment_root_path = os.path.abspath(os.path.join(os.getcwd(), \"..\", \"..\"))\n",
    "os.chdir(data_enrichment_root_path)\n",
    "\n",
    "if data_enrichment_root_path not in sys.path:\n",
    "    sys.path.append(data_enrichment_root_path)\n",
    "\n",
    "load_dotenv()\n",
    "\n",
    "import db\n",
    "from worker import process\n",
    "from utils import download\n",
    "from utils.get_video_description import get_video_description\n",
    "from AudioProcessor.transcriber import transcribe_audio\n",
    "from AudioProcessor.sentiment import SentimentAnalyzer\n",
    "import AlignmentCalculator\n",
    "import VideoProcessor\n",
    "import AudioProcessor"
   ]
  },
  {
   "cell_type": "code",
   "execution_count": 2,
   "metadata": {},
   "outputs": [
    {
     "name": "stderr",
     "output_type": "stream",
     "text": [
      "INFO - [EnrichmentWorker] - Successfully Connected to Database\n"
     ]
    }
   ],
   "source": [
    "db_conn = db.get_connection()\n",
    "video_id = \"7527601571677441302\"\n",
    "video_path = os.path.abspath(f\"./tmp/video/{video_id}.mp4\")\n",
    "audio_path = os.path.abspath(f\"./tmp/video/{video_id}.wav\")"
   ]
  },
  {
   "cell_type": "code",
   "execution_count": 3,
   "metadata": {},
   "outputs": [
    {
     "name": "stderr",
     "output_type": "stream",
     "text": [
      "INFO - [EnrichmentWorker] - Downloading MP4 for 7527601571677441302 → /Users/rolandteslaru/Desktop/ZeruelNet/packages/DataEnrichment/tmp/video/7527601571677441302.mp4\n",
      "INFO - [EnrichmentWorker] - Successfully extracted audio to: /Users/rolandteslaru/Desktop/ZeruelNet/packages/DataEnrichment/tmp/audio/7527601571677441302.wav\n"
     ]
    }
   ],
   "source": [
    "video_url, video_path, audio_path = download.tiktok_full(video_id)"
   ]
  },
  {
   "cell_type": "code",
   "execution_count": 4,
   "metadata": {},
   "outputs": [
    {
     "name": "stderr",
     "output_type": "stream",
     "text": [
      "INFO - [EnrichmentWorker] - Starting transcriber model ggml-large-v3.bin for audio in /Users/rolandteslaru/Desktop/ZeruelNet/packages/DataEnrichment/tmp/audio/7527601571677441302.wav\n",
      "INFO - [EnrichmentWorker] - Dragii mei, ce se întâmplă astăzi în scandalul USAID este absolut șocant la nivel global, dar minunat în același timp.\n",
      " Trezirea în conștiința întregii lumi se produce mai profund ca niciodată.\n",
      " Ceea ce credeam că este democrație se dovedește că a fost doară cionzură globală.\n",
      " O mită împachetată într-o formă de ajutor social cu implicații teribile la adresa libertății civile.\n",
      " În întreaga lume, inclusiv în România, au fost demascate televiziuni și publicații care se dovedește că au avut o singură și unică misiune\n",
      " a ceea de a manipula percepția publică în interes globalist, fiind profund dăunătoare democrației interne și, mai grav,\n",
      " producând un atac direct.\n",
      " Acest lucru a fost destul de răbdăcut și a fost îndreptat la suveranitatea fiecărei țări.\n",
      " Felicit și mulțumesc US Doge pentru curajul de a demasca această rețea și adevărul, evident, ne va elibera și corupții vor plăti pentru fiecare ticăroșie și minciună pe care au emis-o în vederea manipulării și alterării realității în defavoarea poporului roman.\n",
      " Corupția este un fenomen pe care îl îndreptăm.\n",
      " Este un fenomen pe care trebuie distrus definitiv.\n",
      " Toate problemele noastre vin în acest fenomen oribil, în această voală ce părea incurabilă, până la venirea președintelui Donald Trump la conducerea Statelor Unitele Merge.\n",
      " Acum jocul s-a schimbat și se numește libertate, suveranitate, sinceritate.\n",
      " Vedeam că Uniunea Europeană este un pilon al democrației și civilizației.\n",
      " Ei bine, vom afla curând că în conducerea de la Brusel se află doar o grupare de prădători care au atacat parșit democrația din România și care acum a pus ochii și pe alte state din Europa, începând cu Germania și Polonia.\n",
      " Televiziunele românești?\n",
      " Televiziunele românești?\n",
      " Televiziunele românești?\n",
      " Contribuitori a economiei românești, adică întrepindele miști și mijlocii, antreprenorul român și tot ceea ce este românesc și produs românesc.\n",
      " Am în mână doar câteva din datele publice cu privire la cele mai mari companii din România.\n",
      " Am în mână doar câteva din datele publice cu privire la cele mai mari companii din România.\n",
      " Am în mână doar câteva din datele publice cu privire la cele mai mari companii din România.\n",
      " Am în mână doar câteva din datele publice cu privire la cele mai mari companii din România.\n",
      " Am în mână doar câteva din datele publice cu privire la cele mai mari companii din România.\n",
      " Am în mână doar câteva din datele publice cu privire la cele mai mari companii din România.\n",
      " Am în mână doar câteva din datele publice cu privire la cele mai mari companii din România.\n",
      " Am în mână doar câteva din datele publice cu privire la cele mai mari companii din România.\n",
      " Am în mână doar câteva din datele publice cu privire la cele mai mari companii din România.\n",
      " Am în mână doar câteva din datele publice cu privire la cele mai mari companii din România.\n",
      " Am în mână doar câteva din datele publice cu privire la cele mai mari companii din România.\n",
      " Am în mână doar câteva din datele publice cu privire la cele mai mari companii din România.\n",
      " Am în mână doar câteva din datele publice cu privire la cele mai mari companii din România.\n",
      " Am în mână doar câteva din datele publice cu privire la cele mai mari companii din România.\n",
      " Am în mână doar câteva din datele publice cu privire la cele mai mari companii din România.\n",
      " Am în mână doar câteva din datele publice cu privire la cele mai mari companii din România.\n",
      " Am în mână doar câteva din datele publice cu privire la cele mai mari companii din România.\n",
      " Am în mână doar câteva din datele publice cu privire la cele mai mari companii din România.\n",
      " Am în mână doar câteva din datele publice cu privire la cele mai mari companii din România.\n",
      " Am în mână doar câteva din datele publice cu privire la cele mai mari companii din România.\n",
      " Am în mână doar câteva din datele publice cu privire la cele mai mari companii din România.\n",
      " Mă gândesc că nu v-ați fi extins în fiecare oraș dacă nu vă mergea bine.\n",
      " Eu știu că dacă nu ai profit într-o afacere, atunci e închis afacerea.\n",
      " Dar voi extindeți afacerile, evident, cu profit zero.\n",
      " Interesant.\n",
      " Eu vă spun așa, se apropie momentul în care și în România, ca și în America,\n",
      " vom afla cum este posibil că există aceste minuni.\n",
      " De asemenea, am văzut că plâng toți de mila marilor magazine sub pretextul că\n",
      " aceștia ne-au făcut favoruri și au angajat români de-ai noștrii pe care trebuie să-i protejam.\n",
      " Serios?\n",
      " Dar ce facem cu toate reducele de personal pe care aceste magazine le-au făcut?\n",
      " Prin introducerea forțată a caselor de marcat rapide.\n",
      " Adică acele case unde vă duceți și vă plătiți singuri produsele?\n",
      " De câte ori ați rugat angajații magazinilor să se mai deschidă o casă de marcat?\n",
      " Pentru că erau pozimense.\n",
      " De multe ori nu e așa.\n",
      " Asta e realitatea.\n",
      " Pentru că în aceste magazine angajații sunt împovărați să lucreze,\n",
      " și la casă de marcat, și în depozit, și în magazin.\n",
      " Sunt doar o mână de oameni în fiecare magazin,\n",
      " care sunt folosiți până la epuizare,\n",
      " în timp ce noi, clienții, trebuie să ne achităm singuri produsele.\n",
      " Cam asta este cu aceste magazine cărora le plângem de milă că le boicotăm.\n",
      " Azi nu-i știți.\n",
      " Oricum declară profit zero.\n",
      " Deci în condițiile astea,\n",
      " nu cred că le afectăm existența, corect?\n",
      " Atenție, ați venit în România să faceți afaceri.\n",
      " Atunci plătiți corect impozitările.\n",
      " Nu mai jucați șifrele în contabilitate.\n",
      " Angajați românii pe care să-i plătiți de-amn\n",
      " și să-l oferiți respect, așa cum faceți și în Occident.\n",
      " Cumpărați și revindeți produsele românești la prețuri corecte.\n",
      " Ajutați micii producători români\n",
      " să crească producția,\n",
      " oferiți-ne produse de bună calitate\n",
      " și terminați cu creșterea artificială de prețuri.\n",
      " Încetați cu casele rapide de mercat menite doar\n",
      " să vă maximizeze vouă profitul acela de zero lei sau zero euro.\n",
      " Respectați Românii și România.\n",
      " Și apropo, dacă am înțeles bine\n",
      " că vă permiteți pe 10 februarie să faceți reduceri,\n",
      " atunci tot mai ați dovedit că aveți de unde reduce.\n",
      " Pentru că prețurile sunt nejustificate mari doar ca voi să aveți profit.\n",
      " Da, profitul acela zero pe care îl declarați cu mare enfază.\n",
      " Și mai vorbiți de etică în afaceri?\n",
      " Păi nu aveți deloc, nici voi, nici propaganda deșansată\n",
      " care susține boicotul la adresa interesului național.\n",
      " Voi, marile companii multinazionale cu zero profit,\n",
      " sunteți de fapt singurii care boicotați economii în România de ani de zile.\n",
      " Și în acest motiv, vă rog, dragii mei români,\n",
      " ca luni, pe 10 februarie, să dăm un semnal clar de demnitate și verticalitate,\n",
      " că poporul nu mai tolerează exploatarea și păcălirea noastră ca neam și țară.\n",
      " Cu atât mai mult.\n",
      " Cu cât această zi,\n",
      " nu a fost aleasă întâmplător.\n",
      " Este ziua Sfântului Haralambie.\n",
      " Sfântul rodului care o crotește de lipsuri și de foamete,\n",
      " care aduce belșug în familie și în locul unde este cinstit.\n",
      " Așa s-ajute Dumnezeu România, familia noastră mare.\n",
      " Noi suntem poporul, noi suntem România.\n"
     ]
    }
   ],
   "source": [
    "model_name = \"ggml-large-v3.bin\" \n",
    "transcript, lang, output = transcribe_audio(audio_path, model_name)\n",
    "logging.info(transcript)"
   ]
  },
  {
   "cell_type": "code",
   "execution_count": 5,
   "metadata": {},
   "outputs": [
    {
     "name": "stderr",
     "output_type": "stream",
     "text": [
      "INFO - [EnrichmentWorker] - Loading model DGurgurov/xlm-r_romanian_sentiment for language ro\n",
      "INFO - [EnrichmentWorker] - Successfully loaded model DGurgurov/xlm-r_romanian_sentiment\n",
      "/Users/rolandteslaru/Desktop/ZeruelNet/packages/DataEnrichment/venv/lib/python3.13/site-packages/torch/nn/modules/module.py:1762: FutureWarning: `encoder_attention_mask` is deprecated and will be removed in version 4.55.0 for `XLMRobertaSdpaSelfAttention.forward`.\n",
      "  return forward_call(*args, **kwargs)\n",
      "INFO - [EnrichmentWorker] - SENTIMENT MODEL OUTPUT SequenceClassifierOutput(loss=None, logits=tensor([[ 1.1188, -0.8836]], grad_fn=<AddmmBackward0>), hidden_states=None, attentions=None)\n",
      "INFO - [EnrichmentWorker] - SENTIMENT MODEL SCORES [0.88104385 0.11895618]\n"
     ]
    },
    {
     "data": {
      "text/plain": [
       "{'positive': 0.11895617842674255,\n",
       " 'neutral': 0.0,\n",
       " 'negative': 0.8810438513755798}"
      ]
     },
     "execution_count": 5,
     "metadata": {},
     "output_type": "execute_result"
    }
   ],
   "source": [
    "sentiment_results = SentimentAnalyzer.get_sentiment(transcript, \"ro\")\n",
    "sentiment_results"
   ]
  },
  {
   "cell_type": "code",
   "execution_count": 6,
   "metadata": {},
   "outputs": [
    {
     "data": {
      "text/plain": [
       "'#doamneajuta #🙏❤️🇷🇴 #suveranitate #romania #@calin.georgescu.real #fyp #OnoaresiRespect🙏❤️🇷🇴 '"
      ]
     },
     "execution_count": 6,
     "metadata": {},
     "output_type": "execute_result"
    }
   ],
   "source": [
    "description = get_video_description(video_id, db_conn)\n",
    "description"
   ]
  },
  {
   "cell_type": "code",
   "execution_count": 7,
   "metadata": {},
   "outputs": [
    {
     "name": "stderr",
     "output_type": "stream",
     "text": [
      "INFO - [EnrichmentWorker] - Starting video processing for /Users/rolandteslaru/Desktop/ZeruelNet/packages/DataEnrichment/tmp/video/7527601571677441302.mp4\n",
      "INFO - [EnrichmentWorker] - AFC is enabled with max remote calls: 10.\n",
      "INFO - [EnrichmentWorker] - HTTP Request: POST https://aiplatform.googleapis.com/v1beta1/projects/zeruel-ney/locations/global/publishers/google/models/gemini-2.5-flash-lite:generateContent \"HTTP/1.1 200 OK\"\n",
      "INFO - [EnrichmentWorker] - AFC remote call 1 is done.\n",
      "INFO - [EnrichmentWorker] - VIDEO Analysis result {'summary': \"The video alleges that the USAID scandal reveals a global manipulation of public perception by 'globalists' and corrupt institutions, which is detrimental to democracy and national sovereignty. It praises Călin Georgescu for exposing this system and criticizes multinational companies operating in Romania for allegedly exploiting the country and its people by reporting zero profit while engaging in artificial price increases. The speaker calls for supporting Romanian producers and demanding ethical business practices, suggesting that the current economic situation is a result of these corrupt practices.\", 'identified_subjects': [{'subject': 'calin georgescu', 'stance': 0.8}, {'subject': 'usaid', 'stance': -0.8}, {'subject': 'globalists', 'stance': -0.9}, {'subject': 'democracy', 'stance': -0.5}, {'subject': 'institutions', 'stance': -0.7}, {'subject': 'romania', 'stance': 0.6}, {'subject': 'european union', 'stance': -0.7}, {'subject': 'germany', 'stance': -0.5}, {'subject': 'poland', 'stance': -0.5}, {'subject': 'donald trump', 'stance': 0.7}, {'subject': 'nationalism', 'stance': 0.8}, {'subject': 'patriotism', 'stance': 0.7}], 'overall_alignment': -0.95}\n"
     ]
    },
    {
     "data": {
      "text/plain": [
       "{'summary': \"The video alleges that the USAID scandal reveals a global manipulation of public perception by 'globalists' and corrupt institutions, which is detrimental to democracy and national sovereignty. It praises Călin Georgescu for exposing this system and criticizes multinational companies operating in Romania for allegedly exploiting the country and its people by reporting zero profit while engaging in artificial price increases. The speaker calls for supporting Romanian producers and demanding ethical business practices, suggesting that the current economic situation is a result of these corrupt practices.\",\n",
       " 'identified_subjects': [{'subject': 'calin georgescu', 'stance': 0.8},\n",
       "  {'subject': 'usaid', 'stance': -0.8},\n",
       "  {'subject': 'globalists', 'stance': -0.9},\n",
       "  {'subject': 'democracy', 'stance': -0.5},\n",
       "  {'subject': 'institutions', 'stance': -0.7},\n",
       "  {'subject': 'romania', 'stance': 0.6},\n",
       "  {'subject': 'european union', 'stance': -0.7},\n",
       "  {'subject': 'germany', 'stance': -0.5},\n",
       "  {'subject': 'poland', 'stance': -0.5},\n",
       "  {'subject': 'donald trump', 'stance': 0.7},\n",
       "  {'subject': 'nationalism', 'stance': 0.8},\n",
       "  {'subject': 'patriotism', 'stance': 0.7}],\n",
       " 'overall_alignment': -0.95}"
      ]
     },
     "execution_count": 7,
     "metadata": {},
     "output_type": "execute_result"
    }
   ],
   "source": [
    "analysis_result_json = VideoProcessor.process(video_path, transcript, sentiment_results, description)\n",
    "analysis_result_json"
   ]
  },
  {
   "cell_type": "code",
   "execution_count": 8,
   "metadata": {},
   "outputs": [
    {
     "name": "stdout",
     "output_type": "stream",
     "text": [
      "llm_overall_alignment: -0.95 \n",
      "final_alignment: -0.8573091603053434 \n",
      "deterministic_alignment: -0.5792366412213741 \n",
      "alignment_conflict: 0.3707633587786259\n"
     ]
    }
   ],
   "source": [
    "identified_subjects = analysis_result_json[\"identified_subjects\"]\n",
    "llm_overall_alignment = analysis_result_json[\"overall_alignment\"]\n",
    "final_alignment, deterministic_alignment, alignment_conflict = AlignmentCalculator.calculate(identified_subjects, llm_overall_alignment, alpha=0.25)\n",
    "print(f\"llm_overall_alignment: {llm_overall_alignment} \\nfinal_alignment: {final_alignment} \\ndeterministic_alignment: {deterministic_alignment} \\nalignment_conflict: {alignment_conflict}\")"
   ]
  }
 ],
 "metadata": {
  "kernelspec": {
   "display_name": "venv",
   "language": "python",
   "name": "python3"
  },
  "language_info": {
   "codemirror_mode": {
    "name": "ipython",
    "version": 3
   },
   "file_extension": ".py",
   "mimetype": "text/x-python",
   "name": "python",
   "nbconvert_exporter": "python",
   "pygments_lexer": "ipython3",
   "version": "3.13.5"
  }
 },
 "nbformat": 4,
 "nbformat_minor": 2
}
