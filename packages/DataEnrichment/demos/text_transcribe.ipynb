{
 "cells": [
  {
   "cell_type": "markdown",
   "metadata": {},
   "source": [
    "# Audio Transcriber Demo\n",
    "This project uses the whisper.cpp models https://github.com/ggml-org/whisper.cpp <br/>\n",
    "For my case I generated a Core ML model to run on Apple's Neural Engine"
   ]
  },
  {
   "cell_type": "code",
   "execution_count": 3,
   "metadata": {},
   "outputs": [
    {
     "name": "stderr",
     "output_type": "stream",
     "text": [
      "/Users/rolandteslaru/Desktop/ZeruelNet/packages/DataEnrichment/venv/lib/python3.13/site-packages/tqdm/auto.py:21: TqdmWarning: IProgress not found. Please update jupyter and ipywidgets. See https://ipywidgets.readthedocs.io/en/stable/user_install.html\n",
      "  from .autonotebook import tqdm as notebook_tqdm\n"
     ]
    }
   ],
   "source": [
    "import sys\n",
    "import os\n",
    "from dotenv import load_dotenv\n",
    "\n",
    "# Change cwd to the DataEnrichment root folder\n",
    "data_enrichment_root_path = os.path.abspath(os.path.join(os.getcwd(), \"..\"))\n",
    "os.chdir(data_enrichment_root_path)\n",
    "\n",
    "if data_enrichment_root_path not in sys.path:\n",
    "    sys.path.append(data_enrichment_root_path)\n",
    "\n",
    "load_dotenv()\n",
    "\n",
    "from AudioProcessor.transcriber import transcribe_audio"
   ]
  },
  {
   "cell_type": "code",
   "execution_count": 10,
   "metadata": {},
   "outputs": [
    {
     "data": {
      "text/plain": [
       "True"
      ]
     },
     "execution_count": 10,
     "metadata": {},
     "output_type": "execute_result"
    }
   ],
   "source": [
    "audio_path = os.path.abspath(\"./tmp/audio/7533678652916043021.wav\")\n",
    "os.path.exists(audio_path)"
   ]
  },
  {
   "cell_type": "code",
   "execution_count": 11,
   "metadata": {},
   "outputs": [
    {
     "name": "stderr",
     "output_type": "stream",
     "text": [
      "2025-08-06 13:05:37,494 - INFO - Starting transcriber for audio in /Users/rolandteslaru/Desktop/ZeruelNet/packages/DataEnrichment/tmp/audio/7533678652916043021.wav\n"
     ]
    }
   ],
   "source": [
    "transcript, lang, output = transcribe_audio(audio_path)"
   ]
  },
  {
   "cell_type": "code",
   "execution_count": 12,
   "metadata": {},
   "outputs": [
    {
     "name": "stderr",
     "output_type": "stream",
     "text": [
      "2025-08-06 13:05:40,108 - INFO - We have some breaking news from the president, who just announced he is repositioning nuclear\n",
      " submarines around Russia in response to what he called inflammatory statements from the former\n",
      " Russian president. Trump just posted, quote, \"Based on the highly provocative statements of\n",
      " the former president of Russia, Demetri Medvedev, who is now the deputy chairman of the Security\n",
      " Council of the Russian Federation, I have ordered two nuclear submarines to be positioned in the\n",
      " appropriate regions, just in case these foolish and inflammatory statements are more than just\n",
      " words. Words are very important and can often lead to unintended consequences. I hope this\n",
      " will not be one of those instances.\" He's apparently referring to Medvedev statements recently\n",
      " criticizing Trump's foreign policy and appearing to reference a nuclear strike.\n"
     ]
    }
   ],
   "source": [
    "import logging\n",
    "logging.info(transcript)"
   ]
  }
 ],
 "metadata": {
  "kernelspec": {
   "display_name": "venv",
   "language": "python",
   "name": "python3"
  },
  "language_info": {
   "codemirror_mode": {
    "name": "ipython",
    "version": 3
   },
   "file_extension": ".py",
   "mimetype": "text/x-python",
   "name": "python",
   "nbconvert_exporter": "python",
   "pygments_lexer": "ipython3",
   "version": "3.13.5"
  }
 },
 "nbformat": 4,
 "nbformat_minor": 2
}
