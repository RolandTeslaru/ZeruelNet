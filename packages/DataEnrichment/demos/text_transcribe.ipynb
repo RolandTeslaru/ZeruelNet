{
 "cells": [
  {
   "cell_type": "markdown",
   "metadata": {},
   "source": [
    "# Audio Transcriber Demo\n",
    "This project uses the whisper.cpp models https://github.com/ggml-org/whisper.cpp <br/>\n",
    "For my case I generated a Core ML model to run on Apple's Neural Engine"
   ]
  },
  {
   "cell_type": "code",
   "execution_count": 1,
   "metadata": {},
   "outputs": [
    {
     "name": "stderr",
     "output_type": "stream",
     "text": [
      "/Users/rolandteslaru/Desktop/ZeruelNet/packages/DataEnrichment/venv/lib/python3.13/site-packages/tqdm/auto.py:21: TqdmWarning: IProgress not found. Please update jupyter and ipywidgets. See https://ipywidgets.readthedocs.io/en/stable/user_install.html\n",
      "  from .autonotebook import tqdm as notebook_tqdm\n"
     ]
    }
   ],
   "source": [
    "import sys\n",
    "import os\n",
    "from dotenv import load_dotenv\n",
    "import logging\n",
    "\n",
    "\n",
    "# Change cwd to the DataEnrichment root folder\n",
    "data_enrichment_root_path = os.path.abspath(os.path.join(os.getcwd(), \"..\"))\n",
    "os.chdir(data_enrichment_root_path)\n",
    "\n",
    "if data_enrichment_root_path not in sys.path:\n",
    "    sys.path.append(data_enrichment_root_path)\n",
    "\n",
    "load_dotenv()\n",
    "\n",
    "from AudioProcessor.transcriber import transcribe_audio"
   ]
  },
  {
   "cell_type": "code",
   "execution_count": 2,
   "metadata": {},
   "outputs": [
    {
     "data": {
      "text/plain": [
       "True"
      ]
     },
     "execution_count": 2,
     "metadata": {},
     "output_type": "execute_result"
    }
   ],
   "source": [
    "audio_path = os.path.abspath(\"./tmp/audio/test_audio_romanian.mp3\")\n",
    "os.path.exists(audio_path)"
   ]
  },
  {
   "cell_type": "code",
   "execution_count": 3,
   "metadata": {},
   "outputs": [
    {
     "name": "stderr",
     "output_type": "stream",
     "text": [
      "2025-08-20 01:04:20,766 - INFO - Starting transcriber for audio in /Users/rolandteslaru/Desktop/ZeruelNet/packages/DataEnrichment/tmp/audio/test_audio_romanian.mp3\n",
      "2025-08-20 01:04:26,631 - INFO - De la Anteia, noarie impositul pe proprietate va fi mai mare, asta pentru că va fi calculat în funcție de valora de piata locunței și nu de ce avei chiar registrată la primărie și naactualizaltă de Andesile.\n",
      " Schimbarea va aduce mai mulțibă la budget, mai lesca România este zara din unul neuropană cu cei mai mulțe proprietari.\n",
      " Efectele vor fi rețințită de cei care au casă și apartament în orașe mari, precum bucurești, cluj na poca să aviași, unde impositelar putea să se dubleză.\n",
      " Modificarea este o conditiea sumata de România în penerele.\n",
      " De la Anteia, noarie vom plătim posit pe proprietate în funcție de valora de piata reală a locunței.\n",
      " La govern se lucrează în aceste zile la dezvoltarea aplicației e proprietatea care va centralizea datele despre prețurile reale de transaccionare ale proprietăților imobiliare.\n",
      " Informațile vor ajunge într-un sistem centralizat controlat de ministerul finanțelor.\n",
      " Se va lucra cu hărți digitale, coordonate GPS, dateca da strale, imagini din satelit și detalii despre autorizatile de construcție.\n",
      " Fiecare proprietate va avea un ai di unica, sociiat ce ne peului sau cifului proprietarului.\n",
      " Cea mai importantă schimbare se referă la modul de calcul al impositelor.\n",
      " În prezent cota este stabilită pe baza unor grile vechi de valoarea flate la primărie, care nu reflectăm mereu valoarea reală a proprietății.\n",
      " În sistemul e proprietate, valoarea va fi făcuta automat pe baza unor algoritmi carețin cont de prețurile cu care se vândlă cu insele pe piata imobiliara.\n",
      " Deasemenea vor filoate în calcul prin trealtele și zona în care să aflei imobilol, suprafața, accesul la utilități și estarea juridică.\n",
      " Ea rastă ar putea duce la o majorare substanțială a impositelor.\n",
      " Experții spun că se poate ajunge la doblare sau chiar triplarea lor.\n",
      " De exemplu pentru un apartament cu două camere a chizitionat la finalul anului trecut pentru suma de 17.000 euro situată în județul Ilphov, proprietarul a plătit un imposit de 241 de lei.\n",
      " Asta pentru că primaria e a stabilit valoarea imposabilă de doar 40.000 euro.\n",
      " Hodate introduțant platformă din calculul impositului realizat cu ajutorul valori reale a proprietăție în registrat la notar,\n",
      " a rormasă rezulte un imposit de 474 de lei cu 233 de lei mai multe, adică o majorare cu 900.\n",
      " Taxiul locale pentru lucuinte și malescase sunt de izori, trebuie să-ne așteptăm la creșter este tot eu zic între 500.000 euro.\n",
      " Na orașele principale arețării cea putin, la parte de lucuinte case și imobile acolo să se simtă o creșteră mai mare.\n",
      " La govern s-a creat un grup de lucru care pregătește implementarea platforme e proprietatea de a dar și modalitatea de calcula impositului.\n",
      " Intr-un ce putea rorma să fie lansat un proiect pilote în următoarele luni în orașele cu cel mai mare număr de lucuiitorii.\n",
      " București, Cluj, N-Apoca și Iași.\n",
      " Governul speră să strângă anual în plus 6 miliarde de lei doar din nou l-imposit pe proprietății.\n",
      " Trebuie să facem reforma impositolor pe proprietate care va duce cu siguranță la o creștele a impositolor pe proprietate la persoanele fizice de lancepută anul evitor.\n",
      " Mi se pare corec să le spune amastă ruminilor de ce, pentru că avem opondere foarte mică ani acestor impozite invenitul le statule.\n",
      " Conform euro stat în 2020-a ranoastra vea cei mai multi proprietari din uniiunea europeană.\n",
      " 96 la sută din familile din România de Zinolo Quinsă.\n"
     ]
    }
   ],
   "source": [
    "model_name = \"ggml-base.bin\" \n",
    "transcript, lang, output = transcribe_audio(audio_path, model_name)\n",
    "logging.info(transcript)"
   ]
  },
  {
   "cell_type": "code",
   "execution_count": 4,
   "metadata": {},
   "outputs": [
    {
     "name": "stderr",
     "output_type": "stream",
     "text": [
      "2025-08-20 01:04:26,636 - INFO - Starting transcriber for audio in /Users/rolandteslaru/Desktop/ZeruelNet/packages/DataEnrichment/tmp/audio/test_audio_romanian.mp3\n",
      "2025-08-20 01:04:39,248 - INFO - Delantă ianuarie impozitul pe proprietate va fi mai mare, asta pentru că va fi calculat în funcție de valoarea de piața locuinței și nu de cea vechi înregistrată la primărie și ne-a actualizată de an de zile.\n",
      " Schimbarea va aduce mai mulți balabuget, mai ales că România este țara din unul neuropeană, cu cei mai mulți proprietari.\n",
      " Efectele vor fi ressințite de cei care au casă și apartament în orașe mari precum București, Clujnapoca sau Iaș, unde impozitel ar putea să se dubleze. Modificarea este o condiție asumată de România în PNR-e.\n",
      " Delantă ianuarie vom plăti impozit pe proprietate în funcție de valoarea de piață reală a locuinței. La guvern se lucrează în aceste zile la dezvoltarea aplicației e proprietatea care va centraliza datele despre prețurile reale de transacționare ale proprietăților imobiliare.\n",
      " Informațile vor ajunge într-un sistem centralizat controlat de ministerul finanțelor. Se va lucra cu hărți digitale, coordonate GPS, date cadastrale, imagini din satelit și detalii despre autorizațile de construcție.\n",
      " Fiecare proprietate va avea un ID unic asociat CNP-ului sau CIF-ului proprietarului. Cea mai importantă schimbare se referă la modul de calcul al impozitelor. În prezent, cota este stabilită pe baza unor grile vechi de valoarea aflate la primărie, care nu reflectă mereu valoarea reală a proprietății.\n",
      " În sistemul e proprietate, evaluarea va fi făcut automat pe baza unor algoritmii care țin cont de prețurile cu care se vând locuințele pe piața imobiliară. De asemenea, vor fi luat în calcul printre altele și zona în care să afle imobilul, suprafața, accesul la utilități și starea juridică.\n",
      " De asta ar pute aduce la o majorare substanțială a impozitelor. Expertii spun că se poate ajunge la dublarea sau chiar triplarea lor.\n",
      " De exemplu, pentru un apartament cu două camere achiziționat la finalul anului trecut pentru suma de 78.000 euro situat în județul Ilfov, proprietarul a plătit un impozit de 241 de lei. Asta pentru că primăria e a stabilit valoarea imposabilă de doar 40.000 euro.\n",
      " O dată introduzând platformă din calcul olimpozitului realizat cu ajutorul valorii reale a proprietății înregistrat la notar, ar urma să rezulte un impozit de 474 de lei cu 233 de lei mai mult, adică o majorare cu 90%.\n",
      " Taxi locale pentru locuințe și male scase sunt de izori. Trebuie să ne așteptăm la creștere peste tot. Eu zic între 50% ast. În orașele principale, ale țării cel puțin, la partea de locuințe, case și imobile, acolo să se simtă o creștere mai mare.\n",
      " La guvern să creat un grup de lucru care pregătește implementarea platformei e proprietatea, dar și modalitatea de calculă impozitului.\n",
      " Pentru început ar urma să fie lansat un proiect pilot în următoarele luni în orașele cu cel mai mare număr de locuitori. București, Clujnapoca și Iași, guvernul sper să strângă anual în plus 6 miliarde de lei doar din nou limpozit pe proprietății.\n",
      " Trebuie să facem reforma impozitelor pe proprietate care va duce cu siguranță la o creștere a impozitelor pe proprietate la persoanele fizice de la începutul anului viitor.\n",
      " Mi se pare corect să le spuneam asta ruminilor. De ce? Pentru că avem opondere foarte mică ai acestor impozite în veniturile statului.\n",
      " Conform euro-stat, în 2023, țara noastră avea cei mai mulți proprietari din Uniunea Europeană. 96% din familile din România dețin o locuință.\n"
     ]
    }
   ],
   "source": [
    "model_name = \"ggml-small.bin\" \n",
    "transcript, lang, output = transcribe_audio(audio_path, model_name)\n",
    "logging.info(transcript)"
   ]
  },
  {
   "cell_type": "code",
   "execution_count": 5,
   "metadata": {},
   "outputs": [
    {
     "name": "stderr",
     "output_type": "stream",
     "text": [
      "2025-08-20 01:04:39,252 - INFO - Starting transcriber for audio in /Users/rolandteslaru/Desktop/ZeruelNet/packages/DataEnrichment/tmp/audio/test_audio_romanian.mp3\n",
      "2025-08-20 01:05:04,911 - INFO - De la 1 ianuarie, impozitul pe proprietate va fi mai mare, asta pentru că va fi calculat în funcție de valoarea de piața locuinței și nu de cea veche înregistrată la primărie și n-a actualizată de ani de zile.\n",
      " Schimbarea va aduce mai mulți bani la buget, mai ales că România este țara din Uniunea Europeană cu cei mai mulți proprietari.\n",
      " Efectele vor fi resimțite de cei care au case și apartamente în orașe mari precum București, Cluj-Napoca sau Iași, unde impozitel ar putea să se dubleze. Modificarea este o condiție asumată de România în PNR.\n",
      " De la 1 ianuarie vom plăti impozit pe proprietate în funcție de valoarea de piață reală a locuinței. La guvern se lucrează în aceste zile la dezvoltarea aplicației e-proprietatea, care va centraliza datele despre prețurile reale de tranzacționare ale proprietăților imobiliare.\n",
      " Informațiile vor ajunge într-un sistem centralizat controlat de Ministerul Finanțelor. Se va lucra cu hărți digitale, coordonate GPS, date cadastrale, imagini din satelit și detalii despre autorizațiile de construcție.\n",
      " Chiecare proprietate va avea un ID unic asociat CNP-ului sau CIF-ului proprietarului. Cea mai importantă schimbare se referă la modul de calcul al impozitelor. În prezent, cota este stabilită pe baza unor grile vechi de evaluare aflate la primărie, care nu reflectă mereu valoarea reală a proprietății.\n",
      " În sistemul e-proprietate, evaluarea va fi făcut automat pe baza unor algoritmii care țin cont de prețurile cu care se vând locuințele pe piața imobiliară. De asemenea, vor fi luate în calcul, printre altele, și zona în care să afle imobilul, suprafața, accesul la utilități și starea juridică.\n",
      " Iar asta ar putea duce la o majorare substanțială a impozitelor. Experții spun că se poate ajunge la dublarea sau chiar triplarea lor. De exemplu, pentru un apartament cu două camere achiziționat la finalul anului trecut pentru suma de 78.000 de euro situată în județul Ilfov, proprietarul a plătit un impozit de 241 de lei. Asta pentru că primăria i-a stabilit valoarea imposabilă de doar 40.000 de euro.\n",
      " Am introdus în platformă, din calculul impozitului realizat cu ajutorul valorii reale a proprietății înregistrat la notar, ar urma să rezulte un impozit de 474 de lei cu 233 de lei mai mult, adică o majorare cu 90%.\n",
      " Așteptăm la creștere peste tot, eu zic între cinci de zi și sud-aust. În orașele principale ale țării cel puțin, la partea de lucuințe, case și imobile, acolo să se simtă o creștere mai mare.\n",
      " La guvern s-a creat un grup de lucru care pregătește implementarea platformei e-proprietatea, dar și modalitatea de calcul a impozitului.\n",
      " Pentru început, ar urma să fie lansat un proiect pilot în următoarele luni în orașele cu cel mai mare număr de locuitori – București, Cluj-Napoca și Iași.\n",
      " Guvernul speră să strângă anual în plus 6 miliarde de lei doar din nou l'impozit pe proprietăți.\n",
      " Trebuie să facem reforma impozitulor pe proprietate, care va duce cu siguranță la o creștere a impozitulor pe proprietate la persoanele fizice de la începutul anului viitor.\n",
      " Mi se pare corect să le spunem asta româilor. De ce? Pentru că avem o pondere foarte mică ai acestor impozite în veniturile statului.\n",
      " Conform Eurostat, în 2023 țara noastră avea cei mai mulți proprietari din Uniunea Europeană. 96% din familiile din România dețin o locuință.\n"
     ]
    }
   ],
   "source": [
    "model_name = \"ggml-medium.bin\" \n",
    "transcript, lang, output = transcribe_audio(audio_path, model_name)\n",
    "logging.info(transcript)"
   ]
  },
  {
   "cell_type": "code",
   "execution_count": 7,
   "metadata": {},
   "outputs": [
    {
     "name": "stderr",
     "output_type": "stream",
     "text": [
      "2025-08-20 01:06:50,641 - INFO - Starting transcriber for audio in /Users/rolandteslaru/Desktop/ZeruelNet/packages/DataEnrichment/tmp/audio/test_audio_romanian.mp3\n",
      "2025-08-20 01:07:35,165 - INFO - De la 1 ianuarie, impozitul pe proprietate va fi mai mare.\n",
      " Asta pentru că va fi calculat în funcție de valoarea de piață a locuinței\n",
      " și nu de cea veche înregistrată la primărie și neactualizată de ani de zile.\n",
      " Schimbarea va aduce mai mulți bani la buget,\n",
      " mai ales că România este țara din Uniunea Europeană cu cei mai mulți proprietari.\n",
      " Efectele vor fi resimțite de cei care au case și apartamente în orașe mari,\n",
      " precum București, Cluj-Napoca sau Iași, unde impozitul ar putea să se dubleze.\n",
      " Modificarea este o condiție asumată de România în PNRR.\n",
      " De la 1 ianuarie vom plăti impozit pe proprietate în funcție de valoarea de piață reală a locuinței.\n",
      " La guvern se lucrează în aceste zile la dezvoltarea aplicației e-Proprietatea,\n",
      " care va centraliza datele despre prețurile reale de tranzacționare ale proprietăților imobiliare.\n",
      " Informațiile vor ajunge într-un sistem centralizat controlat de Ministerul Finanțelor.\n",
      " Se va lucra cu hărți digitale, coordonate GPS, date cadastrale,\n",
      " imagini din satelit și detalii despre autorizațiile de construcție.\n",
      " Fiecare proprietate va avea un ID unic.\n",
      " Asociat CNP-ului sau CIF-ului proprietarului.\n",
      " Cea mai importantă schimbare se referă la modul de calcul al impozitelor.\n",
      " În prezent, cota este stabilită pe baza unor grile vechi de evaluare aflate la primărie,\n",
      " care nu reflectă mereu valoarea reală a proprietății.\n",
      " În sistemul e-Proprietate, evaluarea va fi făcută automat pe baza unor algoritmi\n",
      " care țin cont de prețurile cu care se vând locuințele pe piața imobiliară.\n",
      " De asemenea, vor fi luate în calcul, printre altele, și zona în care se află imobilul,\n",
      " suprafața,\n",
      " accesul la utilități și starea juridică.\n",
      " Iar asta ar putea duce la o majorare substanțială a impozitelor.\n",
      " Experții spun că se poate ajunge la dublarea sau chiar triplarea lor.\n",
      " De exemplu, pentru un apartament cu două camere,\n",
      " achiziționat la finalul anului trecut pentru suma de 78.000 de euro situată în județul Ilfov,\n",
      " proprietarul a plătit un impozit de 241 de lei.\n",
      " Asta pentru că primăria i-a stabilit valoarea impozabilă de doar 40.000 de euro.\n",
      " O dată introdus în platformă,\n",
      " din calculul impozitului realizat cu ajutorul valorii reale a proprietății înregistrat la notar,\n",
      " ar urma să rezulte un impozit de 474 de lei, cu 233 de lei mai mult, adică o majorare cu 90%.\n",
      " Taxele locale pentru locuințe și mai ales case sunt dirizorii.\n",
      " Trebuie să ne așteptăm la creșteri peste tot, eu zic între 50% și 100%.\n",
      " În orașele principale ale țării, cel puțin, la partea de locuințe, case și imobile,\n",
      " acolo o să se simtă o creștere mai mare.\n",
      " La guvern s-a creat un grup de lucru care pregătește implementarea platformei e-Proprietatea,\n",
      " dar și modalitatea de calcul a impozitului.\n",
      " Pentru început ar urma să fie lansat un proiect pilot în următoarele luni,\n",
      " în orașele cu cel mai mare număr de locuitori: București, Cluj-Napoca și Iași.\n",
      " Guvernul speră să strângă anual, în plus, 6 miliarde de lei doar din noul impozit pe proprietăți.\n",
      " Trebuie să facem reforma impozitolul pe proprietate,\n",
      " care va duce cu siguranță la o creștere a impozitilor pe proprietate la persoanele fizice de la începutul anului viitor.\n",
      " Mi se pare corect să le spunem asta românilor.\n",
      " De ce? Pentru că avem o pondere foarte mică ai acestor impozite în veniturile statului.\n",
      " Conform Eurostat, în 2023, țara noastră avea cei mai mulți proprietari din Uniunea Europeană.\n",
      " 96% din familiile din România dețin o locuință.\n"
     ]
    }
   ],
   "source": [
    "model_name = \"ggml-large-v3.bin\" \n",
    "transcript, lang, output = transcribe_audio(audio_path, model_name)\n",
    "logging.info(transcript)"
   ]
  }
 ],
 "metadata": {
  "kernelspec": {
   "display_name": "venv",
   "language": "python",
   "name": "python3"
  },
  "language_info": {
   "codemirror_mode": {
    "name": "ipython",
    "version": 3
   },
   "file_extension": ".py",
   "mimetype": "text/x-python",
   "name": "python",
   "nbconvert_exporter": "python",
   "pygments_lexer": "ipython3",
   "version": "3.13.5"
  }
 },
 "nbformat": 4,
 "nbformat_minor": 2
}
