{
 "cells": [
  {
   "cell_type": "markdown",
   "metadata": {},
   "source": [
    "# Text Sentiment Demo"
   ]
  },
  {
   "cell_type": "code",
   "execution_count": 1,
   "metadata": {},
   "outputs": [
    {
     "name": "stderr",
     "output_type": "stream",
     "text": [
      "/Users/rolandteslaru/Desktop/ZeruelNet/packages/DataEnrichment/venv/lib/python3.13/site-packages/tqdm/auto.py:21: TqdmWarning: IProgress not found. Please update jupyter and ipywidgets. See https://ipywidgets.readthedocs.io/en/stable/user_install.html\n",
      "  from .autonotebook import tqdm as notebook_tqdm\n"
     ]
    }
   ],
   "source": [
    "import sys\n",
    "import os\n",
    "from dotenv import load_dotenv\n",
    "\n",
    "# Change cwd to the DataEnrichment root folder\n",
    "data_enrichment_root_path = os.path.abspath(os.path.join(os.getcwd(), \"..\"))\n",
    "os.chdir(data_enrichment_root_path)\n",
    "\n",
    "if data_enrichment_root_path not in sys.path:\n",
    "    sys.path.append(data_enrichment_root_path)\n",
    "\n",
    "load_dotenv()\n",
    "\n",
    "from AudioProcessor.sentiment import SentimentAnalyzer"
   ]
  },
  {
   "cell_type": "code",
   "execution_count": 2,
   "metadata": {},
   "outputs": [],
   "source": [
    "transcription = \"\"\" \n",
    " De la 1 ianuarie, impozitul pe proprietate va fi mai mare. Asta pentru că va fi calculat în funcție de valoarea de piață a locuinței și nu de cea veche înregistrată la primărie și neactualizată de ani de zile. Schimbarea va aduce mai mulți bani la buget, mai ales că România este țara din Uniunea Europeană cu cei mai mulți proprietari. Efectele vor fi resimțite de cei care au case și apartamente în orașe mari, precum București, Cluj-Napoca sau Iași, unde impozitele ar putea să se dubleze. Modificarea este o condiție asumată de România în PNRR. De la 1 ianuarie vom plăti impozit pe proprietate în funcție de valoarea de piață reală a locuinței. La guvern se lucrează în aceste zile la dezvoltarea aplicației e-Proprietatea, care va centraliza datele despre prețurile reale de tranzacționare ale proprietăților imobiliare. Informațiile vor ajunge într-un sistem centralizat controlat de Ministerul Finanțelor. Se va lucra cu hărți digitale, coordonate GPS, date cadastrale, imagini din satelit și detalii despre autorizațiile de construcție. Fiecare proprietate va avea un ID unic. Asociat CNP-ului sau CIF-ului proprietarului. Cea mai importantă schimbare se referă la modul de calcul al impozitelor. În prezent, cota este stabilită pe baza unor grile vechi de evaluare aflate la primărie, care nu reflectă mereu valoarea reală a proprietății. În sistemul e-Proprietate, evaluarea va fi făcută automat pe baza unor algoritmi care țin cont de prețurile cu care se vând locuințele pe piața imobiliară. De asemenea, vor fi luate în calcul, printre altele, și zona în care se află imobilul, accesul la utilități și starea juridică. Iar asta ar putea duce la o majorare substanțială a impozitelor. Experții spun că se poate ajunge la dublarea sau chiar triplarea lor. De exemplu, pentru un apartament cu două camere, achiziționat la finalul anului trecut pentru suma de 78.000 de euro situată în județul Ilfov, proprietarul a plătit un impozit de 241 de lei. Asta pentru că primăria i-a stabilit valoarea impozabilă de doar 40.000 de euro. O dată introdus în platformă, din calculul impozitorului, realizat cu ajutorul valorii reale a proprietății înregistrat la notar, ar urma să rezulte un impozit de 474 de lei, cu 233 de lei mai mult, adică o majorare cu 90%. Taxele locale pentru locuințe și mai ales case sunt divizorii. Trebuie să ne așteptăm la creșteri peste tot, eu zic între 50 și 100%. În orașele principale ale țării, cel puțin, la partea de locuințe, case și imobile, simtă o creștere mai mare. La guvern s-a creat un grup de lucru care pregătește implementarea platformei e-proprietatea, dar și modalitatea de calcul a impozitului. Pentru început ar urma să fie lansat un proiect pilot în următoarele luni în orașele cu cel mai mare număr de locuitori, București, Cluj-Napoca și Iași. Guvernul speră să strângă anual în plus 6 miliarde de lei doar din noul impozit pe proprietăți. Trebuie să facem reforma impozitolul pe proprietate, care va duce cu siguranță, la o creștere a impozitelor pe proprietate la persoanele fizice de la începutul anului viitor. Mi se pare corect să le spunem asta românilor. De ce? Pentru că avem o pondere foarte mică ai acestor impozite în veniturile statului. Conform Eurostat, în 2023, țara noastră avea cei mai mulți proprietari din Uniunea Europeană. 96% din familiile din România dețin o locuință.\n",
    "\"\"\""
   ]
  },
  {
   "cell_type": "code",
   "execution_count": 3,
   "metadata": {},
   "outputs": [
    {
     "name": "stderr",
     "output_type": "stream",
     "text": [
      "2025-08-20 03:07:16,045 - INFO - Loading model DGurgurov/xlm-r_romanian_sentiment for language ro\n",
      "2025-08-20 03:07:17,470 - INFO - Successfully loaded model DGurgurov/xlm-r_romanian_sentiment\n",
      "/Users/rolandteslaru/Desktop/ZeruelNet/packages/DataEnrichment/venv/lib/python3.13/site-packages/torch/nn/modules/module.py:1762: FutureWarning: `encoder_attention_mask` is deprecated and will be removed in version 4.55.0 for `XLMRobertaSdpaSelfAttention.forward`.\n",
      "  return forward_call(*args, **kwargs)\n",
      "2025-08-20 03:07:18,194 - INFO - SENTIMENT MODEL OUTPUT SequenceClassifierOutput(loss=None, logits=tensor([[ 0.5810, -0.1974]], grad_fn=<AddmmBackward0>), hidden_states=None, attentions=None)\n",
      "2025-08-20 03:07:18,196 - INFO - SENTIMENT MODEL SCORES [0.6853467  0.31465325]\n"
     ]
    }
   ],
   "source": [
    "sentiment_results = SentimentAnalyzer.get_sentiment(transcription, \"ro\")"
   ]
  },
  {
   "cell_type": "code",
   "execution_count": 4,
   "metadata": {},
   "outputs": [
    {
     "data": {
      "text/plain": [
       "{'positive': 0.3146532475948334,\n",
       " 'neutral': 0.0,\n",
       " 'negative': 0.6853467226028442}"
      ]
     },
     "execution_count": 4,
     "metadata": {},
     "output_type": "execute_result"
    }
   ],
   "source": [
    "sentiment_results"
   ]
  },
  {
   "cell_type": "code",
   "execution_count": null,
   "metadata": {},
   "outputs": [],
   "source": []
  }
 ],
 "metadata": {
  "kernelspec": {
   "display_name": "venv",
   "language": "python",
   "name": "python3"
  },
  "language_info": {
   "codemirror_mode": {
    "name": "ipython",
    "version": 3
   },
   "file_extension": ".py",
   "mimetype": "text/x-python",
   "name": "python",
   "nbconvert_exporter": "python",
   "pygments_lexer": "ipython3",
   "version": "3.13.5"
  }
 },
 "nbformat": 4,
 "nbformat_minor": 2
}
