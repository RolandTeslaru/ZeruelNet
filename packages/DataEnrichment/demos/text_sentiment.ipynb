{
 "cells": [
  {
   "cell_type": "markdown",
   "metadata": {},
   "source": [
    "# Text Sentiment Demo"
   ]
  },
  {
   "cell_type": "code",
   "execution_count": 1,
   "metadata": {},
   "outputs": [
    {
     "name": "stderr",
     "output_type": "stream",
     "text": [
      "/Users/rolandteslaru/Desktop/ZeruelNet/packages/DataEnrichment/venv/lib/python3.13/site-packages/tqdm/auto.py:21: TqdmWarning: IProgress not found. Please update jupyter and ipywidgets. See https://ipywidgets.readthedocs.io/en/stable/user_install.html\n",
      "  from .autonotebook import tqdm as notebook_tqdm\n"
     ]
    }
   ],
   "source": [
    "import sys\n",
    "import os\n",
    "from dotenv import load_dotenv\n",
    "\n",
    "# Change cwd to the DataEnrichment root folder\n",
    "data_enrichment_root_path = os.path.abspath(os.path.join(os.getcwd(), \"..\"))\n",
    "os.chdir(data_enrichment_root_path)\n",
    "\n",
    "if data_enrichment_root_path not in sys.path:\n",
    "    sys.path.append(data_enrichment_root_path)\n",
    "\n",
    "load_dotenv()\n",
    "\n",
    "from AudioProcessor.sentiment import SentimentAnalyzer"
   ]
  },
  {
   "cell_type": "code",
   "execution_count": 2,
   "metadata": {},
   "outputs": [],
   "source": [
    "transcription = \"\"\" \n",
    " We have some breaking news from the president, who just announced he is repositioning nuclear\n",
    " submarines around Russia in response to what he called inflammatory statements from the former\n",
    " Russian president. Trump just posted, quote, \"Based on the highly provocative statements of\n",
    " the former president of Russia, Demetri Medvedev, who is now the deputy chairman of the Security\n",
    " Council of the Russian Federation, I have ordered two nuclear submarines to be positioned in the\n",
    " appropriate regions, just in case these foolish and inflammatory statements are more than just\n",
    " words. Words are very important and can often lead to unintended consequences. I hope this\n",
    " will not be one of those instances.\" He's apparently referring to Medvedev statements recently\n",
    " criticizing Trump's foreign policy and appearing to reference a nuclear strike.\n",
    "\"\"\""
   ]
  },
  {
   "cell_type": "code",
   "execution_count": 3,
   "metadata": {},
   "outputs": [
    {
     "name": "stderr",
     "output_type": "stream",
     "text": [
      "2025-08-06 13:23:35,310 - INFO - Loading mode cardiffnlp/twitter-roberta-base-sentiment-latest for language en\n",
      "Some weights of the model checkpoint at cardiffnlp/twitter-roberta-base-sentiment-latest were not used when initializing RobertaForSequenceClassification: ['roberta.pooler.dense.bias', 'roberta.pooler.dense.weight']\n",
      "- This IS expected if you are initializing RobertaForSequenceClassification from the checkpoint of a model trained on another task or with another architecture (e.g. initializing a BertForSequenceClassification model from a BertForPreTraining model).\n",
      "- This IS NOT expected if you are initializing RobertaForSequenceClassification from the checkpoint of a model that you expect to be exactly identical (initializing a BertForSequenceClassification model from a BertForSequenceClassification model).\n",
      "2025-08-06 13:23:37,343 - INFO - Successfully loaded model cardiffnlp/twitter-roberta-base-sentiment-latest\n",
      "/Users/rolandteslaru/Desktop/ZeruelNet/packages/DataEnrichment/venv/lib/python3.13/site-packages/torch/nn/modules/module.py:1762: FutureWarning: `encoder_attention_mask` is deprecated and will be removed in version 4.55.0 for `RobertaSdpaSelfAttention.forward`.\n",
      "  return forward_call(*args, **kwargs)\n",
      "2025-08-06 13:23:37,425 - INFO - SENTIMENT MODEL OUTPUT SequenceClassifierOutput(loss=None, logits=tensor([[-0.9222,  1.5386, -1.0261]], grad_fn=<AddmmBackward0>), hidden_states=None, attentions=None)\n",
      "2025-08-06 13:23:37,426 - INFO - SENTIMENT MODEL SCORES [0.07344533 0.860359   0.06619569]\n"
     ]
    }
   ],
   "source": [
    "sentiment_results = SentimentAnalyzer.get_sentiment(transcription, \"en\")"
   ]
  },
  {
   "cell_type": "code",
   "execution_count": 4,
   "metadata": {},
   "outputs": [
    {
     "data": {
      "text/plain": [
       "{'positive': 0.06619568914175034,\n",
       " 'neutral': 0.8603590130805969,\n",
       " 'negative': 0.07344532757997513}"
      ]
     },
     "execution_count": 4,
     "metadata": {},
     "output_type": "execute_result"
    }
   ],
   "source": [
    "sentiment_results"
   ]
  }
 ],
 "metadata": {
  "kernelspec": {
   "display_name": "venv",
   "language": "python",
   "name": "python3"
  },
  "language_info": {
   "codemirror_mode": {
    "name": "ipython",
    "version": 3
   },
   "file_extension": ".py",
   "mimetype": "text/x-python",
   "name": "python",
   "nbconvert_exporter": "python",
   "pygments_lexer": "ipython3",
   "version": "3.13.5"
  }
 },
 "nbformat": 4,
 "nbformat_minor": 2
}
