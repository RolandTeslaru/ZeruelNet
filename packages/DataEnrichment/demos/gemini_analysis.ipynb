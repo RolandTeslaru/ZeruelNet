{
 "cells": [
  {
   "cell_type": "markdown",
   "metadata": {},
   "source": [
    "# VideoProcessor Demo\n",
    "This is a demo showing the output for the gemini analysis"
   ]
  },
  {
   "cell_type": "code",
   "execution_count": 1,
   "metadata": {},
   "outputs": [],
   "source": [
    "import sys\n",
    "import os\n",
    "import logging\n",
    "import json\n",
    "from dotenv import load_dotenv\n",
    "\n",
    "# Change cwd to the DataEnrichment root folder\n",
    "data_enrichment_root_path = os.path.abspath(os.path.join(os.getcwd(), \"..\"))\n",
    "os.chdir(data_enrichment_root_path)\n",
    "\n",
    "if data_enrichment_root_path not in sys.path:\n",
    "    sys.path.append(data_enrichment_root_path)\n",
    "\n",
    "load_dotenv()\n",
    "\n",
    "from VideoProcessor.gemini import gemini"
   ]
  },
  {
   "cell_type": "code",
   "execution_count": 2,
   "metadata": {},
   "outputs": [
    {
     "data": {
      "text/plain": [
       "True"
      ]
     },
     "execution_count": 2,
     "metadata": {},
     "output_type": "execute_result"
    }
   ],
   "source": [
    "video_path = os.path.abspath(\"./tmp/video/7533678652916043021.mp4\")\n",
    "os.path.exists(video_path)"
   ]
  },
  {
   "cell_type": "code",
   "execution_count": 3,
   "metadata": {},
   "outputs": [
    {
     "name": "stderr",
     "output_type": "stream",
     "text": [
      "2025-08-06 13:52:06,526 - INFO - AFC is enabled with max remote calls: 10.\n",
      "2025-08-06 13:52:09,897 - INFO - HTTP Request: POST https://aiplatform.googleapis.com/v1beta1/projects/zeruel-ney/locations/global/publishers/google/models/gemini-2.5-flash-lite:generateContent \"HTTP/1.1 200 OK\"\n",
      "2025-08-06 13:52:09,902 - INFO - AFC remote call 1 is done.\n"
     ]
    }
   ],
   "source": [
    "analysis_result = gemini.analyze(video_path)"
   ]
  },
  {
   "cell_type": "code",
   "execution_count": 5,
   "metadata": {},
   "outputs": [
    {
     "name": "stderr",
     "output_type": "stream",
     "text": [
      "2025-08-06 13:52:28,373 - INFO - {\n",
      "  \"summary\": \"The video features a news anchor reporting on a statement made by Donald Trump. The statement, displayed as a tweet, indicates that Trump has ordered two nuclear submarines to be positioned in 'appropriate regions' in response to 'foolish and inflammatory statements' from former Russian President Dmitry Medvedev. The report suggests Trump's action is a reaction to Medvedev's criticism of Trump's foreign policy and a reference to a nuclear strike.\",\n",
      "  \"identified_subjects\": [\n",
      "    {\n",
      "      \"subject\": \"donald trump\",\n",
      "      \"stance\": 0.5\n",
      "    },\n",
      "    {\n",
      "      \"subject\": \"dimitri medvedev\",\n",
      "      \"stance\": -0.5\n",
      "    },\n",
      "    {\n",
      "      \"subject\": \"russia\",\n",
      "      \"stance\": -0.5\n",
      "    },\n",
      "    {\n",
      "      \"subject\": \"war\",\n",
      "      \"stance\": 0.0\n",
      "    }\n",
      "  ],\n",
      "  \"overall_alignment\": 0.0\n",
      "}\n"
     ]
    }
   ],
   "source": [
    "logging.info(json.dumps(analysis_result, indent=2))"
   ]
  }
 ],
 "metadata": {
  "kernelspec": {
   "display_name": "venv",
   "language": "python",
   "name": "python3"
  },
  "language_info": {
   "codemirror_mode": {
    "name": "ipython",
    "version": 3
   },
   "file_extension": ".py",
   "mimetype": "text/x-python",
   "name": "python",
   "nbconvert_exporter": "python",
   "pygments_lexer": "ipython3",
   "version": "3.13.5"
  }
 },
 "nbformat": 4,
 "nbformat_minor": 2
}
