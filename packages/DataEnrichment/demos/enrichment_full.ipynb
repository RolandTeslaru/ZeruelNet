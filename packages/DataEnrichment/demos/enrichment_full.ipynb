{
 "cells": [
  {
   "cell_type": "markdown",
   "metadata": {},
   "source": [
    "# Full Data Enrichment Pipeline Demo\n",
    "\n",
    "Downlaods the tiktok, runs it thru the AudioProcessor and VideoProcessor. <br/>\n",
    "Same as the cli.py"
   ]
  },
  {
   "cell_type": "code",
   "execution_count": 1,
   "metadata": {},
   "outputs": [
    {
     "name": "stderr",
     "output_type": "stream",
     "text": [
      "/Users/rolandteslaru/Desktop/ZeruelNet/packages/DataEnrichment/venv/lib/python3.13/site-packages/tqdm/auto.py:21: TqdmWarning: IProgress not found. Please update jupyter and ipywidgets. See https://ipywidgets.readthedocs.io/en/stable/user_install.html\n",
      "  from .autonotebook import tqdm as notebook_tqdm\n"
     ]
    }
   ],
   "source": [
    "import sys\n",
    "import os\n",
    "import logging\n",
    "import json\n",
    "from dotenv import load_dotenv\n",
    "\n",
    "# Change cwd to the DataEnrichment root folder\n",
    "data_enrichment_root_path = os.path.abspath(os.path.join(os.getcwd(), \"..\"))\n",
    "os.chdir(data_enrichment_root_path)\n",
    "\n",
    "if data_enrichment_root_path not in sys.path:\n",
    "    sys.path.append(data_enrichment_root_path)\n",
    "\n",
    "load_dotenv()\n",
    "\n",
    "import db\n",
    "from worker import process"
   ]
  },
  {
   "cell_type": "code",
   "execution_count": 2,
   "metadata": {},
   "outputs": [
    {
     "name": "stderr",
     "output_type": "stream",
     "text": [
      "INFO - [EnrichmentWorker] - Successfully Connected to Database\n"
     ]
    }
   ],
   "source": [
    "db_conn = db.get_connection()"
   ]
  },
  {
   "cell_type": "code",
   "execution_count": 4,
   "metadata": {},
   "outputs": [
    {
     "name": "stderr",
     "output_type": "stream",
     "text": [
      "INFO - [EnrichmentWorker] - Starting data enrichment process for video_id: 7525917317654449438\n",
      "INFO - [EnrichmentWorker] - Downloading MP4 for 7525917317654449438 → /Users/rolandteslaru/Desktop/ZeruelNet/packages/DataEnrichment/tmp/video/7525917317654449438.mp4\n",
      "INFO - [EnrichmentWorker] - Successfully extracted audio to: /Users/rolandteslaru/Desktop/ZeruelNet/packages/DataEnrichment/tmp/audio/7525917317654449438.wav\n",
      "INFO - [EnrichmentWorker] - Starting transcriber for audio in /Users/rolandteslaru/Desktop/ZeruelNet/packages/DataEnrichment/tmp/audio/7525917317654449438.wav\n",
      "INFO - [EnrichmentWorker] - Loading mode cardiffnlp/twitter-roberta-base-sentiment-latest for language en\n",
      "Some weights of the model checkpoint at cardiffnlp/twitter-roberta-base-sentiment-latest were not used when initializing RobertaForSequenceClassification: ['roberta.pooler.dense.bias', 'roberta.pooler.dense.weight']\n",
      "- This IS expected if you are initializing RobertaForSequenceClassification from the checkpoint of a model trained on another task or with another architecture (e.g. initializing a BertForSequenceClassification model from a BertForPreTraining model).\n",
      "- This IS NOT expected if you are initializing RobertaForSequenceClassification from the checkpoint of a model that you expect to be exactly identical (initializing a BertForSequenceClassification model from a BertForSequenceClassification model).\n",
      "INFO - [EnrichmentWorker] - Successfully loaded model cardiffnlp/twitter-roberta-base-sentiment-latest\n",
      "/Users/rolandteslaru/Desktop/ZeruelNet/packages/DataEnrichment/venv/lib/python3.13/site-packages/torch/nn/modules/module.py:1762: FutureWarning: `encoder_attention_mask` is deprecated and will be removed in version 4.55.0 for `RobertaSdpaSelfAttention.forward`.\n",
      "  return forward_call(*args, **kwargs)\n",
      "INFO - [EnrichmentWorker] - SENTIMENT MODEL OUTPUT SequenceClassifierOutput(loss=None, logits=tensor([[-1.4335,  1.5270, -0.3384]], grad_fn=<AddmmBackward0>), hidden_states=None, attentions=None)\n",
      "INFO - [EnrichmentWorker] - SENTIMENT MODEL SCORES [0.04292583 0.8287552  0.12831895]\n",
      "INFO - [EnrichmentWorker] - Starting video processing for /Users/rolandteslaru/Desktop/ZeruelNet/packages/DataEnrichment/tmp/video/7525917317654449438.mp4\n",
      "INFO - [EnrichmentWorker] - AFC is enabled with max remote calls: 10.\n",
      "INFO - [EnrichmentWorker] - HTTP Request: POST https://aiplatform.googleapis.com/v1beta1/projects/zeruel-ney/locations/global/publishers/google/models/gemini-2.5-flash-lite:generateContent \"HTTP/1.1 200 OK\"\n",
      "INFO - [EnrichmentWorker] - AFC remote call 1 is done.\n",
      "INFO - [EnrichmentWorker] - VIDEO Analysis result {'summary': 'The video appears to be a montage of various political figures, including Donald Trump, Volodymyr Zelenskyy, Vladimir Putin, Kim Jong Un, Joe Biden, and Barack Obama. The clips show them in different settings, such as on a boat with a bridge in the background, arm wrestling, playing a board game, and playing chess. The overall tone is lighthearted and possibly satirical, with no explicit dialogue or text overlays to indicate a specific political message.', 'identified_subjects': [{'subject': 'donald trump', 'stance': 0.0}, {'subject': 'volodymyr zelenskyy', 'stance': 0.0}, {'subject': 'vladimir putin', 'stance': 0.0}, {'subject': 'kim jong un', 'stance': 0.0}, {'subject': 'joe biden', 'stance': 0.0}, {'subject': 'barack obama', 'stance': 0.0}], 'overall_alignment': 0.0}\n",
      "INFO - [EnrichmentWorker] - Successfully comitted to database\n",
      "INFO - [EnrichmentWorker] - Deleted temporary video file: /Users/rolandteslaru/Desktop/ZeruelNet/packages/DataEnrichment/tmp/video/7525917317654449438.mp4\n",
      "INFO - [EnrichmentWorker] - Deleted temporary audio file: /Users/rolandteslaru/Desktop/ZeruelNet/packages/DataEnrichment/tmp/audio/7525917317654449438.wav\n"
     ]
    }
   ],
   "source": [
    "# The execution will fail if the video_id is also not present in the \"videos\" table in the database\n",
    "# because its a foreign key constraint that links \"video_features\" to \"videos\"\n",
    "# So just make sure the video_is is also in \"videos\"\n",
    "\n",
    "video_id = 7525917317654449438\n",
    "process(video_id, db_conn)"
   ]
  },
  {
   "cell_type": "code",
   "execution_count": null,
   "metadata": {},
   "outputs": [],
   "source": [
    "video_ids = [\n",
    "    7538980494180945174,\n",
    "    7539241671020530950,\n",
    "    7539203750419008791,\n",
    "    7481599447328214294,\n",
    "    7525917317654449438,\n",
    "    7538880118765194510\n",
    "]\n",
    "\n",
    "for vid_id in video_ids:\n",
    "    process(vid_id, db_conn)"
   ]
  }
 ],
 "metadata": {
  "kernelspec": {
   "display_name": "venv",
   "language": "python",
   "name": "python3"
  },
  "language_info": {
   "codemirror_mode": {
    "name": "ipython",
    "version": 3
   },
   "file_extension": ".py",
   "mimetype": "text/x-python",
   "name": "python",
   "nbconvert_exporter": "python",
   "pygments_lexer": "ipython3",
   "version": "3.13.5"
  }
 },
 "nbformat": 4,
 "nbformat_minor": 2
}
