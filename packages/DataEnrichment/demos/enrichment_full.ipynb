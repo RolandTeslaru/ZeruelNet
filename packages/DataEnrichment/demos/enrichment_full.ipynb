{
 "cells": [
  {
   "cell_type": "markdown",
   "metadata": {},
   "source": [
    "# Full Data Enrichment Pipeline Demo\n",
    "\n",
    "Downloads the tiktok video, runs it thru the AudioProcessor and VideoProcessor. <br/>\n",
    "Same as the cli.py"
   ]
  },
  {
   "cell_type": "code",
   "execution_count": 1,
   "metadata": {},
   "outputs": [
    {
     "name": "stderr",
     "output_type": "stream",
     "text": [
      "/Users/rolandteslaru/Desktop/ZeruelNet/packages/DataEnrichment/venv/lib/python3.13/site-packages/tqdm/auto.py:21: TqdmWarning: IProgress not found. Please update jupyter and ipywidgets. See https://ipywidgets.readthedocs.io/en/stable/user_install.html\n",
      "  from .autonotebook import tqdm as notebook_tqdm\n"
     ]
    }
   ],
   "source": [
    "import sys\n",
    "import os\n",
    "import logging\n",
    "import json\n",
    "from dotenv import load_dotenv\n",
    "\n",
    "# Change cwd to the DataEnrichment root folder\n",
    "data_enrichment_root_path = os.path.abspath(os.path.join(os.getcwd(), \"..\"))\n",
    "os.chdir(data_enrichment_root_path)\n",
    "\n",
    "if data_enrichment_root_path not in sys.path:\n",
    "    sys.path.append(data_enrichment_root_path)\n",
    "\n",
    "load_dotenv()\n",
    "\n",
    "import db\n",
    "from worker import process"
   ]
  },
  {
   "cell_type": "code",
   "execution_count": 2,
   "metadata": {},
   "outputs": [
    {
     "name": "stderr",
     "output_type": "stream",
     "text": [
      "INFO - [EnrichmentWorker] - Successfully Connected to Database\n"
     ]
    }
   ],
   "source": [
    "db_conn = db.get_connection()"
   ]
  },
  {
   "cell_type": "code",
   "execution_count": 3,
   "metadata": {},
   "outputs": [
    {
     "name": "stderr",
     "output_type": "stream",
     "text": [
      "INFO - [EnrichmentWorker] - Starting data enrichment process for video_id: 7539203750419008791\n",
      "INFO - [EnrichmentWorker] - Downloading MP4 for 7539203750419008791 → /Users/rolandteslaru/Desktop/ZeruelNet/packages/DataEnrichment/tmp/video/7539203750419008791.mp4\n",
      "INFO - [EnrichmentWorker] - Successfully extracted audio to: /Users/rolandteslaru/Desktop/ZeruelNet/packages/DataEnrichment/tmp/audio/7539203750419008791.wav\n",
      "INFO - [EnrichmentWorker] - Starting transcriber for audio in /Users/rolandteslaru/Desktop/ZeruelNet/packages/DataEnrichment/tmp/audio/7539203750419008791.wav\n",
      "INFO - [EnrichmentWorker] - Loading mode oliverguhr/german-sentiment-bert for language de\n",
      "INFO - [EnrichmentWorker] - Successfully loaded model oliverguhr/german-sentiment-bert\n",
      "/Users/rolandteslaru/Desktop/ZeruelNet/packages/DataEnrichment/venv/lib/python3.13/site-packages/torch/nn/modules/module.py:1762: FutureWarning: `encoder_attention_mask` is deprecated and will be removed in version 4.55.0 for `BertSdpaSelfAttention.forward`.\n",
      "  return forward_call(*args, **kwargs)\n",
      "INFO - [EnrichmentWorker] - SENTIMENT MODEL OUTPUT SequenceClassifierOutput(loss=None, logits=tensor([[-2.0487, -0.8831,  4.4924]], grad_fn=<AddmmBackward0>), hidden_states=None, attentions=None)\n",
      "INFO - [EnrichmentWorker] - SENTIMENT MODEL SCORES [0.00143418 0.00460083 0.99396497]\n",
      "INFO - [EnrichmentWorker] - Starting video processing for /Users/rolandteslaru/Desktop/ZeruelNet/packages/DataEnrichment/tmp/video/7539203750419008791.mp4\n",
      "INFO - [EnrichmentWorker] - AFC is enabled with max remote calls: 10.\n",
      "INFO - [EnrichmentWorker] - HTTP Request: POST https://aiplatform.googleapis.com/v1beta1/projects/zeruel-ney/locations/global/publishers/google/models/gemini-2.5-flash-lite:generateContent \"HTTP/1.1 200 OK\"\n",
      "INFO - [EnrichmentWorker] - AFC remote call 1 is done.\n",
      "INFO - [EnrichmentWorker] - VIDEO Analysis result {'summary': 'The video shows Vladimir Putin interacting with Donald Trump. The text overlay in German asks \"How sick is he really?\" and states \"Video shows Putin with a trembling leg.\" It further elaborates that during a summit meeting between Putin and Trump, Putin\\'s leg was observed to be trembling multiple times. The video suggests that observers, particularly from Ukraine, mocked these movements and speculated about Putin\\'s health, with some even suggesting he might be using an exoskeleton or special shoes to maintain his posture.', 'identified_subjects': [{'subject': 'vladimir putin', 'stance': -0.8}, {'subject': 'donald trump', 'stance': 0.2}, {'subject': 'ukraine', 'stance': 0.1}], 'overall_alignment': -0.5}\n",
      "INFO - [EnrichmentWorker] - Successfully comitted to database\n",
      "INFO - [EnrichmentWorker] - Deleted temporary video file: /Users/rolandteslaru/Desktop/ZeruelNet/packages/DataEnrichment/tmp/video/7539203750419008791.mp4\n",
      "INFO - [EnrichmentWorker] - Deleted temporary audio file: /Users/rolandteslaru/Desktop/ZeruelNet/packages/DataEnrichment/tmp/audio/7539203750419008791.wav\n"
     ]
    }
   ],
   "source": [
    "# The execution will fail if the video_id is also not present in the \"videos\" table in the database\n",
    "# because its a foreign key constraint that links \"video_features\" to \"videos\"\n",
    "# So just make sure the video_is is also in \"videos\"\n",
    "\n",
    "video_id = 7539203750419008791\n",
    "process(video_id, db_conn)"
   ]
  },
  {
   "cell_type": "code",
   "execution_count": null,
   "metadata": {},
   "outputs": [],
   "source": [
    "video_ids = [\n",
    "    7538980494180945174,\n",
    "    7539241671020530950,\n",
    "    7539203750419008791,\n",
    "    7481599447328214294,\n",
    "    7525917317654449438,\n",
    "    7538880118765194510\n",
    "]\n",
    "\n",
    "for vid_id in video_ids:\n",
    "    process(vid_id, db_conn)"
   ]
  }
 ],
 "metadata": {
  "kernelspec": {
   "display_name": "venv",
   "language": "python",
   "name": "python3"
  },
  "language_info": {
   "codemirror_mode": {
    "name": "ipython",
    "version": 3
   },
   "file_extension": ".py",
   "mimetype": "text/x-python",
   "name": "python",
   "nbconvert_exporter": "python",
   "pygments_lexer": "ipython3",
   "version": "3.13.5"
  }
 },
 "nbformat": 4,
 "nbformat_minor": 2
}
