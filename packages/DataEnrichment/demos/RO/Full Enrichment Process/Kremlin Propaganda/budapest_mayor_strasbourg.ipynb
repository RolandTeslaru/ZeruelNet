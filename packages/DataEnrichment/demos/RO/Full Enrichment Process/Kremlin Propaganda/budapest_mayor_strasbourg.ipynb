{
 "cells": [
  {
   "cell_type": "code",
   "execution_count": 1,
   "metadata": {},
   "outputs": [
    {
     "name": "stderr",
     "output_type": "stream",
     "text": [
      "/Users/rolandteslaru/Desktop/ZeruelNet/packages/DataEnrichment/venv/lib/python3.13/site-packages/tqdm/auto.py:21: TqdmWarning: IProgress not found. Please update jupyter and ipywidgets. See https://ipywidgets.readthedocs.io/en/stable/user_install.html\n",
      "  from .autonotebook import tqdm as notebook_tqdm\n"
     ]
    }
   ],
   "source": [
    "import sys\n",
    "import os\n",
    "import logging\n",
    "import json\n",
    "from dotenv import load_dotenv\n",
    "\n",
    "# Change cwd to the DataEnrichment root folder\n",
    "data_enrichment_root_path = os.path.abspath(os.path.join(os.getcwd(), \"..\", \"..\"))\n",
    "os.chdir(data_enrichment_root_path)\n",
    "\n",
    "if data_enrichment_root_path not in sys.path:\n",
    "    sys.path.append(data_enrichment_root_path)\n",
    "\n",
    "load_dotenv()\n",
    "\n",
    "import db\n",
    "from worker import process\n",
    "from utils import download\n",
    "from utils.get_video_description import get_video_description\n",
    "from AudioProcessor.transcriber import transcribe_audio\n",
    "from AudioProcessor.sentiment import SentimentAnalyzer\n",
    "import VideoProcessor\n",
    "import AudioProcessor"
   ]
  },
  {
   "cell_type": "code",
   "execution_count": 2,
   "metadata": {},
   "outputs": [
    {
     "name": "stderr",
     "output_type": "stream",
     "text": [
      "INFO - [EnrichmentWorker] - Successfully Connected to Database\n"
     ]
    }
   ],
   "source": [
    "db_conn = db.get_connection()\n",
    "video_id = \"7525069106249354518\""
   ]
  },
  {
   "cell_type": "code",
   "execution_count": null,
   "metadata": {},
   "outputs": [],
   "source": [
    "video_path = os.path.abspath(\"./tmp/video/7525069106249354518.mp4\")\n",
    "audio_path = os.path.abspath(\"./tmp/video/7525069106249354518.wav\")\n",
    "\n",
    "transcript = \"\"\"\n",
    "Vă salut, dragi prieteni, vă salut, dragi români!\n",
    " Un filmuleț de aici, din Parlamentul, din Strasburg, din Parlamentul European,\n",
    " despre ce s-a întâmplat astăzi în sala de plen, în această clădire rotundă pe care o vedeți, asta de lemn, este mai rotundă.\n",
    " Dragi prieteni, astăzi, în plen, a fost un scandal.\n",
    " Un scandal pentru că partidele, Revue, Verzii și ceilalți, PSD, PNL, USR, mai departe,\n",
    " au invitat în plen, au invitat pe primarul Budapestei, exact pe primarul ăla, LGBTQ bananier,\n",
    " care a sfidat legea și ordonanța pe care domnul...\n",
    " prim-ministrul al Ungariei, Orban, a interzis parada LGBT.\n",
    " Primarul a lăsat și a acceptat această paradă de bananieri să vină în Budapesta.\n",
    " Un lucru foarte greu.\n",
    " În sală, aici, au început, cum am spus, grupul Revue, Verzii, EPP și ăștia le-au început să aplaude pe unguri, pe primarul Budapestei, așa, pe primarul Budapestei,\n",
    " și în momentul ăla, pentru că a ieșit oribil, oribil, într-o Uniune Europeană să susții LGBTQ, așa cum fac ei, este un lucru foarte grav.\n",
    " Și pentru asta, doamna Diana Ioanoviț-Oșoacă a dat tonul, a început să strige, să huiduie, să... nu să înjure, dar să strige contra primarului, alături de ea s-au alăturat și alți suveraniști, alți europaralători, alți...\n",
    " parlamentari, care susțin familia tradițională și familia compusă din bărbat și femeie, și vă dați seama că a ieșit un mic show în Parlamentul European, provocat de globaliști,\n",
    " provocat de acei extrimiști care ne fac pe noi, sau pe Pipera, pe Oșoacă, pe Luis Lazarus, pe naționaliști, îi fac extrimiști.\n",
    " Nu, extrimiștii sunt exact...\n",
    " cum își fondă line și toată armata ei, care își bat joc, pur și simplu își bat joc de cetățenii Uniunii Europene și de copiii Uniunii Europeni, cât și de pensionarii Uniunii Europene.\n",
    " Deci, este un lucru grav ce s-a întâmplat astăzi, dar ce să-i facem decât să ne spunem părerea și decât să îi huiduim înapoi?\n",
    " Mare lucru nu putem.\n",
    " Pentru că suntem noi în minoritate.\n",
    " Asta au fost aici din Parlamentul European de la Strasburg.\n",
    " Vă salut!\n",
    "\"\"\"\n",
    "\n",
    "sentiment_results = {\n",
    "    'positive': 0.07932209223508835,\n",
    "    'neutral': 0.0,\n",
    "    'negative': 0.9206779599189758\n",
    " }\n",
    "\n",
    "description = \"\"\"\n",
    "primarul din Budapesta huiduit de suveranisti in plenul de la Strasbourg #Romania #luislazarus #dianasosoaca #suveranitate #bananierii\n",
    "\"\"\""
   ]
  },
  {
   "cell_type": "code",
   "execution_count": 3,
   "metadata": {},
   "outputs": [
    {
     "name": "stderr",
     "output_type": "stream",
     "text": [
      "INFO - [EnrichmentWorker] - Downloading MP4 for 7525069106249354518 → /Users/rolandteslaru/Desktop/ZeruelNet/packages/DataEnrichment/tmp/video/7525069106249354518.mp4\n",
      "INFO - [EnrichmentWorker] - Successfully extracted audio to: /Users/rolandteslaru/Desktop/ZeruelNet/packages/DataEnrichment/tmp/audio/7525069106249354518.wav\n"
     ]
    }
   ],
   "source": [
    "video_url, video_path, audio_path = download.tiktok_full(video_id)\n"
   ]
  },
  {
   "cell_type": "code",
   "execution_count": 4,
   "metadata": {},
   "outputs": [
    {
     "name": "stderr",
     "output_type": "stream",
     "text": [
      "INFO - [EnrichmentWorker] - Starting transcriber model ggml-large-v3.bin for audio in /Users/rolandteslaru/Desktop/ZeruelNet/packages/DataEnrichment/tmp/audio/7525069106249354518.wav\n",
      "INFO - [EnrichmentWorker] - Vă salut, dragi prieteni, vă salut, dragi români!\n",
      " Un filmuleț de aici, din Parlamentul, din Strasburg, din Parlamentul European,\n",
      " despre ce s-a întâmplat astăzi în sala de plen, în această clădire rotundă pe care o vedeți, asta de lemn, este mai rotundă.\n",
      " Dragi prieteni, astăzi, în plen, a fost un scandal.\n",
      " Un scandal pentru că partidele, Revue, Verzii și ceilalți, PSD, PNL, USR, mai departe,\n",
      " au invitat în plen, au invitat pe primarul Budapestei, exact pe primarul ăla, LGBTQ bananier,\n",
      " care a sfidat legea și ordonanța pe care domnul...\n",
      " prim-ministrul al Ungariei, Orban, a interzis parada LGBT.\n",
      " Primarul a lăsat și a acceptat această paradă de bananieri să vină în Budapesta.\n",
      " Un lucru foarte greu.\n",
      " În sală, aici, au început, cum am spus, grupul Revue, Verzii, EPP și ăștia le-au început să aplaude pe unguri, pe primarul Budapestei, așa, pe primarul Budapestei,\n",
      " și în momentul ăla, pentru că a ieșit oribil, oribil, într-o Uniune Europeană să susții LGBTQ, așa cum fac ei, este un lucru foarte grav.\n",
      " Și pentru asta, doamna Diana Ioanoviț-Oșoacă a dat tonul, a început să strige, să huiduie, să... nu să înjure, dar să strige contra primarului, alături de ea s-au alăturat și alți suveraniști, alți europaralători, alți...\n",
      " parlamentari, care susțin familia tradițională și familia compusă din bărbat și femeie, și vă dați seama că a ieșit un mic show în Parlamentul European, provocat de globaliști,\n",
      " provocat de acei extrimiști care ne fac pe noi, sau pe Pipera, pe Oșoacă, pe Luis Lazarus, pe naționaliști, îi fac extrimiști.\n",
      " Nu, extrimiștii sunt exact...\n",
      " cum își fondă line și toată armata ei, care își bat joc, pur și simplu își bat joc de cetățenii Uniunii Europene și de copiii Uniunii Europeni, cât și de pensionarii Uniunii Europene.\n",
      " Deci, este un lucru grav ce s-a întâmplat astăzi, dar ce să-i facem decât să ne spunem părerea și decât să îi huiduim înapoi?\n",
      " Mare lucru nu putem.\n",
      " Pentru că suntem noi în minoritate.\n",
      " Asta au fost aici din Parlamentul European de la Strasburg.\n",
      " Vă salut!\n"
     ]
    }
   ],
   "source": [
    "model_name = \"ggml-large-v3.bin\" \n",
    "transcript, lang, output = transcribe_audio(audio_path, model_name)\n",
    "logging.info(transcript)"
   ]
  },
  {
   "cell_type": "code",
   "execution_count": 5,
   "metadata": {},
   "outputs": [
    {
     "name": "stderr",
     "output_type": "stream",
     "text": [
      "INFO - [EnrichmentWorker] - Loading model DGurgurov/xlm-r_romanian_sentiment for language ro\n",
      "INFO - [EnrichmentWorker] - Successfully loaded model DGurgurov/xlm-r_romanian_sentiment\n",
      "/Users/rolandteslaru/Desktop/ZeruelNet/packages/DataEnrichment/venv/lib/python3.13/site-packages/torch/nn/modules/module.py:1762: FutureWarning: `encoder_attention_mask` is deprecated and will be removed in version 4.55.0 for `XLMRobertaSdpaSelfAttention.forward`.\n",
      "  return forward_call(*args, **kwargs)\n",
      "INFO - [EnrichmentWorker] - SENTIMENT MODEL OUTPUT SequenceClassifierOutput(loss=None, logits=tensor([[ 1.3207, -1.1309]], grad_fn=<AddmmBackward0>), hidden_states=None, attentions=None)\n",
      "INFO - [EnrichmentWorker] - SENTIMENT MODEL SCORES [0.92067796 0.07932209]\n"
     ]
    }
   ],
   "source": [
    "sentiment_results = SentimentAnalyzer.get_sentiment(transcript, \"ro\")\n",
    "sentiment_results"
   ]
  },
  {
   "cell_type": "code",
   "execution_count": 3,
   "metadata": {},
   "outputs": [],
   "source": [
    "description = get_video_description(video_id, db_conn)\n",
    "description"
   ]
  },
  {
   "cell_type": "code",
   "execution_count": 14,
   "metadata": {},
   "outputs": [
    {
     "name": "stderr",
     "output_type": "stream",
     "text": [
      "INFO - [EnrichmentWorker] - Starting video processing for /Users/rolandteslaru/Desktop/ZeruelNet/packages/DataEnrichment/tmp/video/7525069106249354518.mp4\n",
      "INFO - [EnrichmentWorker] - AFC is enabled with max remote calls: 10.\n",
      "INFO - [EnrichmentWorker] - HTTP Request: POST https://aiplatform.googleapis.com/v1beta1/projects/zeruel-ney/locations/global/publishers/google/models/gemini-2.5-flash-lite:generateContent \"HTTP/1.1 200 OK\"\n",
      "INFO - [EnrichmentWorker] - AFC remote call 1 is done.\n",
      "INFO - [EnrichmentWorker] - VIDEO Analysis result {'summary': \"The video features a man speaking in what appears to be the European Parliament in Strasbourg. He criticizes the presence of the Mayor of Budapest at a plenary session, referring to him as 'LGBTQ bananier' and accusing him of defying Hungarian Prime Minister Viktor Orbán's ban on an LGBT parade. The speaker alleges that European Parliament members from parties like the Greens, EPP, PSD, PNL, and USR applauded the Mayor, which he frames as a scandal and a sign of 'Western decay.' He contrasts this with 'traditional values' and the support for family composed of a man and a woman, implying that those who support LGBT rights are 'extremists' and 'globalists' who are undermining European citizens and pensioners. The speaker, along with Diana Iovanovici-Șoșoacă and other 'nationalists,' are portrayed as standing against this perceived agenda.\", 'identified_subjects': [{'subject': 'European Parliament', 'stance': -0.8}, {'subject': 'Viktor Orbán', 'stance': 0.8}, {'subject': 'Budapest Mayor', 'stance': -1.0}, {'subject': 'LGBTQ+ rights', 'stance': -1.0}, {'subject': 'Traditional Values', 'stance': 1.0}, {'subject': 'Globalists', 'stance': -1.0}, {'subject': 'Diana Iovanovici-Șoșoacă', 'stance': 1.0}, {'subject': 'Nationalists', 'stance': 1.0}, {'subject': 'European Union', 'stance': -0.8}], 'overall_alignment': -0.9}\n"
     ]
    }
   ],
   "source": [
    "analysis_result_json = VideoProcessor.process(video_path, transcript, sentiment_results, description)"
   ]
  },
  {
   "cell_type": "code",
   "execution_count": 15,
   "metadata": {},
   "outputs": [
    {
     "data": {
      "text/plain": [
       "{'summary': \"The video features a man speaking in what appears to be the European Parliament in Strasbourg. He criticizes the presence of the Mayor of Budapest at a plenary session, referring to him as 'LGBTQ bananier' and accusing him of defying Hungarian Prime Minister Viktor Orbán's ban on an LGBT parade. The speaker alleges that European Parliament members from parties like the Greens, EPP, PSD, PNL, and USR applauded the Mayor, which he frames as a scandal and a sign of 'Western decay.' He contrasts this with 'traditional values' and the support for family composed of a man and a woman, implying that those who support LGBT rights are 'extremists' and 'globalists' who are undermining European citizens and pensioners. The speaker, along with Diana Iovanovici-Șoșoacă and other 'nationalists,' are portrayed as standing against this perceived agenda.\",\n",
       " 'identified_subjects': [{'subject': 'European Parliament', 'stance': -0.8},\n",
       "  {'subject': 'Viktor Orbán', 'stance': 0.8},\n",
       "  {'subject': 'Budapest Mayor', 'stance': -1.0},\n",
       "  {'subject': 'LGBTQ+ rights', 'stance': -1.0},\n",
       "  {'subject': 'Traditional Values', 'stance': 1.0},\n",
       "  {'subject': 'Globalists', 'stance': -1.0},\n",
       "  {'subject': 'Diana Iovanovici-Șoșoacă', 'stance': 1.0},\n",
       "  {'subject': 'Nationalists', 'stance': 1.0},\n",
       "  {'subject': 'European Union', 'stance': -0.8}],\n",
       " 'overall_alignment': -0.9}"
      ]
     },
     "execution_count": 15,
     "metadata": {},
     "output_type": "execute_result"
    }
   ],
   "source": [
    "analysis_result_json"
   ]
  }
 ],
 "metadata": {
  "kernelspec": {
   "display_name": "venv",
   "language": "python",
   "name": "python3"
  },
  "language_info": {
   "codemirror_mode": {
    "name": "ipython",
    "version": 3
   },
   "file_extension": ".py",
   "mimetype": "text/x-python",
   "name": "python",
   "nbconvert_exporter": "python",
   "pygments_lexer": "ipython3",
   "version": "3.13.5"
  }
 },
 "nbformat": 4,
 "nbformat_minor": 2
}
