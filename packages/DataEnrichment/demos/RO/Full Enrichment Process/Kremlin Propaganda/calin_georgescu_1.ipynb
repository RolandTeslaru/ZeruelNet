{
 "cells": [
  {
   "cell_type": "code",
   "execution_count": 2,
   "metadata": {},
   "outputs": [
    {
     "name": "stderr",
     "output_type": "stream",
     "text": [
      "/Users/rolandteslaru/Desktop/ZeruelNet/packages/DataEnrichment/venv/lib/python3.13/site-packages/tqdm/auto.py:21: TqdmWarning: IProgress not found. Please update jupyter and ipywidgets. See https://ipywidgets.readthedocs.io/en/stable/user_install.html\n",
      "  from .autonotebook import tqdm as notebook_tqdm\n"
     ]
    }
   ],
   "source": [
    "import sys\n",
    "import os\n",
    "import logging\n",
    "import json\n",
    "from dotenv import load_dotenv\n",
    "\n",
    "# Change cwd to the DataEnrichment root folder\n",
    "data_enrichment_root_path = os.path.abspath(os.path.join(os.getcwd(), \"..\", \"..\"))\n",
    "os.chdir(data_enrichment_root_path)\n",
    "\n",
    "if data_enrichment_root_path not in sys.path:\n",
    "    sys.path.append(data_enrichment_root_path)\n",
    "\n",
    "load_dotenv()\n",
    "\n",
    "import db\n",
    "from worker import process\n",
    "from utils import download\n",
    "from utils.get_video_description import get_video_description\n",
    "from AudioProcessor.transcriber import transcribe_audio\n",
    "from AudioProcessor.sentiment import SentimentAnalyzer\n",
    "import VideoProcessor\n",
    "import AudioProcessor"
   ]
  },
  {
   "cell_type": "code",
   "execution_count": 3,
   "metadata": {},
   "outputs": [
    {
     "name": "stderr",
     "output_type": "stream",
     "text": [
      "INFO - [EnrichmentWorker] - Successfully Connected to Database\n"
     ]
    }
   ],
   "source": [
    "db_conn = db.get_connection()\n",
    "video_id = \"7520882134135868695\""
   ]
  },
  {
   "cell_type": "code",
   "execution_count": 4,
   "metadata": {},
   "outputs": [],
   "source": [
    "video_path = os.path.abspath(\"./tmp/video/7520882134135868695.mp4\")\n",
    "audio_path = os.path.abspath(\"./tmp/video/7520882134135868695.wav\")"
   ]
  },
  {
   "cell_type": "code",
   "execution_count": 5,
   "metadata": {},
   "outputs": [
    {
     "name": "stderr",
     "output_type": "stream",
     "text": [
      "INFO - [EnrichmentWorker] - Downloading MP4 for 7520882134135868695 → /Users/rolandteslaru/Desktop/ZeruelNet/packages/DataEnrichment/tmp/video/7520882134135868695.mp4\n",
      "INFO - [EnrichmentWorker] - Successfully extracted audio to: /Users/rolandteslaru/Desktop/ZeruelNet/packages/DataEnrichment/tmp/audio/7520882134135868695.wav\n"
     ]
    }
   ],
   "source": [
    "video_url, video_path, audio_path = download.tiktok_full(video_id)\n"
   ]
  },
  {
   "cell_type": "code",
   "execution_count": 4,
   "metadata": {},
   "outputs": [
    {
     "name": "stderr",
     "output_type": "stream",
     "text": [
      "INFO - [EnrichmentWorker] - Starting transcriber model ggml-large-v3.bin for audio in /Users/rolandteslaru/Desktop/ZeruelNet/packages/DataEnrichment/tmp/audio/7520882134135868695.wav\n",
      "INFO - [EnrichmentWorker] - Călin Georgescu este născut în ziua de 26 sub arhetipul împăratului.\n",
      " Nu este întâmplător că el vorbește despre ordine și adevăr.\n",
      " Este un destin care cere viziune, putere și disciplină.\n",
      " Dar în umbră apare conflictul cu autoritățile și lupta între adevăr și control.\n",
      " Tu ce crezi? Călin Georgescu este un lider sau un luptător cu sistemul?\n",
      " Dacă vrei să afli ziua ta de naștere, intră pe site-ul meu www.ralucaleahu.ro unde găsești karma zilei tale de naștere.\n"
     ]
    }
   ],
   "source": [
    "# model_name = \"ggml-large-v3.bin\" \n",
    "# transcript, lang, output = transcribe_audio(audio_path, model_name)\n",
    "# logging.info(transcript)"
   ]
  },
  {
   "cell_type": "code",
   "execution_count": 5,
   "metadata": {},
   "outputs": [
    {
     "name": "stderr",
     "output_type": "stream",
     "text": [
      "INFO - [EnrichmentWorker] - Loading model DGurgurov/xlm-r_romanian_sentiment for language ro\n",
      "INFO - [EnrichmentWorker] - Successfully loaded model DGurgurov/xlm-r_romanian_sentiment\n",
      "/Users/rolandteslaru/Desktop/ZeruelNet/packages/DataEnrichment/venv/lib/python3.13/site-packages/torch/nn/modules/module.py:1762: FutureWarning: `encoder_attention_mask` is deprecated and will be removed in version 4.55.0 for `XLMRobertaSdpaSelfAttention.forward`.\n",
      "  return forward_call(*args, **kwargs)\n",
      "INFO - [EnrichmentWorker] - SENTIMENT MODEL OUTPUT SequenceClassifierOutput(loss=None, logits=tensor([[0.3686, 0.0584]], grad_fn=<AddmmBackward0>), hidden_states=None, attentions=None)\n",
      "INFO - [EnrichmentWorker] - SENTIMENT MODEL SCORES [0.57691735 0.42308265]\n"
     ]
    }
   ],
   "source": [
    "# sentiment_results = SentimentAnalyzer.get_sentiment(transcript, \"ro\")\n",
    "# sentiment_results"
   ]
  },
  {
   "cell_type": "code",
   "execution_count": 7,
   "metadata": {},
   "outputs": [
    {
     "data": {
      "text/plain": [
       "'🎯 Călin Georgescu s-a născut sub arhetipul Împăratului. O zi care cere ordine, autoritate, viziune. Dar și o karmă grea: să nu abuzezi de putere și să-ți supui ego-ul Adevărului. 👁\\u200d🗨 În umbră, apare lupta cu autoritățile și conflictul dintre vocea interioară și sistem. ❓Tu ce vezi în el? Un lider? Sau un luptător cu sistemul? 👇 Lasă-mi părerea ta. 🔗 Și intră pe  https://www.ralucaleahu.ro/  să descoperi karma zilei tale de naștere. #ralucaleahu #calingeorgescupresedinte #suveranitate #foryiurpage #tiktokromania🇷🇴 #tarot '"
      ]
     },
     "execution_count": 7,
     "metadata": {},
     "output_type": "execute_result"
    }
   ],
   "source": [
    "# description = get_video_description(video_id, db_conn)\n",
    "# description"
   ]
  },
  {
   "cell_type": "code",
   "execution_count": 8,
   "metadata": {},
   "outputs": [
    {
     "name": "stderr",
     "output_type": "stream",
     "text": [
      "INFO - [EnrichmentWorker] - Starting video processing for /Users/rolandteslaru/Desktop/ZeruelNet/packages/DataEnrichment/tmp/video/7520882134135868695.mp4\n",
      "INFO - [EnrichmentWorker] - AFC is enabled with max remote calls: 10.\n",
      "INFO - [EnrichmentWorker] - HTTP Request: POST https://aiplatform.googleapis.com/v1beta1/projects/zeruel-ney/locations/global/publishers/google/models/gemini-2.5-flash-lite:generateContent \"HTTP/1.1 200 OK\"\n",
      "INFO - [EnrichmentWorker] - AFC remote call 1 is done.\n",
      "INFO - [EnrichmentWorker] - VIDEO Analysis result {'summary': \"The video discusses Călin Georgescu, stating he was born under the archetype of 'The Emperor,' which signifies a destiny requiring vision, power, and discipline, but also carries a karma of not abusing power and submitting ego to truth. The speaker claims that Georgescu's focus on order and truth is not coincidental. The video suggests that in his 'shadow,' conflict with authorities and a struggle between truth and control emerge. It poses a question to the viewer about whether Georgescu is a leader or a fighter against the system and invites them to visit the speaker's website to discover their own birth day karma.\", 'identified_subjects': [{'subject': 'calin georgescu', 'stance': 0.8}, {'subject': 'romania', 'stance': 0.7}, {'subject': 'order', 'stance': 0.8}, {'subject': 'truth', 'stance': 0.8}, {'subject': 'power', 'stance': 0.5}, {'subject': 'discipline', 'stance': 0.5}, {'subject': 'authority', 'stance': -0.7}, {'subject': 'control', 'stance': -0.7}, {'subject': 'system', 'stance': -0.7}], 'overall_alignment': -0.8}\n"
     ]
    }
   ],
   "source": [
    "analysis_result_json = VideoProcessor.process(video_path, transcript, sentiment_results, description)"
   ]
  },
  {
   "cell_type": "code",
   "execution_count": 9,
   "metadata": {},
   "outputs": [
    {
     "data": {
      "text/plain": [
       "{'summary': \"The video discusses Călin Georgescu, stating he was born under the archetype of 'The Emperor,' which signifies a destiny requiring vision, power, and discipline, but also carries a karma of not abusing power and submitting ego to truth. The speaker claims that Georgescu's focus on order and truth is not coincidental. The video suggests that in his 'shadow,' conflict with authorities and a struggle between truth and control emerge. It poses a question to the viewer about whether Georgescu is a leader or a fighter against the system and invites them to visit the speaker's website to discover their own birth day karma.\",\n",
       " 'identified_subjects': [{'subject': 'calin georgescu', 'stance': 0.8},\n",
       "  {'subject': 'romania', 'stance': 0.7},\n",
       "  {'subject': 'order', 'stance': 0.8},\n",
       "  {'subject': 'truth', 'stance': 0.8},\n",
       "  {'subject': 'power', 'stance': 0.5},\n",
       "  {'subject': 'discipline', 'stance': 0.5},\n",
       "  {'subject': 'authority', 'stance': -0.7},\n",
       "  {'subject': 'control', 'stance': -0.7},\n",
       "  {'subject': 'system', 'stance': -0.7}],\n",
       " 'overall_alignment': -0.8}"
      ]
     },
     "execution_count": 9,
     "metadata": {},
     "output_type": "execute_result"
    }
   ],
   "source": [
    "analysis_result_json"
   ]
  },
  {
   "cell_type": "code",
   "execution_count": 10,
   "metadata": {},
   "outputs": [
    {
     "data": {
      "text/plain": [
       "{'summary': \"The video discusses Călin Georgescu, stating he was born under the archetype of 'The Emperor,' which signifies a destiny requiring vision, power, and discipline, but also carries a karma of not abusing power and submitting ego to truth. The speaker claims that Georgescu's focus on order and truth is not coincidental. The video suggests that in his 'shadow,' conflict with authorities and a struggle between truth and control emerge. It poses a question to the viewer about whether Georgescu is a leader or a fighter against the system and invites them to visit the speaker's website to discover their own birth day karma.\",\n",
       " 'identified_subjects': [{'subject': 'calin georgescu', 'stance': 0.8},\n",
       "  {'subject': 'romania', 'stance': 0.7},\n",
       "  {'subject': 'order', 'stance': 0.8},\n",
       "  {'subject': 'truth', 'stance': 0.8},\n",
       "  {'subject': 'power', 'stance': 0.5},\n",
       "  {'subject': 'discipline', 'stance': 0.5},\n",
       "  {'subject': 'authority', 'stance': -0.7},\n",
       "  {'subject': 'control', 'stance': -0.7},\n",
       "  {'subject': 'system', 'stance': -0.7}],\n",
       " 'overall_alignment': -0.8}"
      ]
     },
     "execution_count": 10,
     "metadata": {},
     "output_type": "execute_result"
    }
   ],
   "source": [
    "analysis_result_json"
   ]
  }
 ],
 "metadata": {
  "kernelspec": {
   "display_name": "venv",
   "language": "python",
   "name": "python3"
  },
  "language_info": {
   "codemirror_mode": {
    "name": "ipython",
    "version": 3
   },
   "file_extension": ".py",
   "mimetype": "text/x-python",
   "name": "python",
   "nbconvert_exporter": "python",
   "pygments_lexer": "ipython3",
   "version": "3.13.5"
  }
 },
 "nbformat": 4,
 "nbformat_minor": 2
}
