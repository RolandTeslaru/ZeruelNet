{
 "cells": [
  {
   "cell_type": "code",
   "execution_count": 40,
   "metadata": {},
   "outputs": [],
   "source": [
    "import sys\n",
    "import os\n",
    "import logging\n",
    "import json\n",
    "from dotenv import load_dotenv\n",
    "\n",
    "# Change cwd to the DataEnrichment root folder\n",
    "data_enrichment_root_path = os.path.abspath(os.path.join(os.getcwd(), \"..\", \"..\"))\n",
    "os.chdir(data_enrichment_root_path)\n",
    "\n",
    "if data_enrichment_root_path not in sys.path:\n",
    "    sys.path.append(data_enrichment_root_path)\n",
    "\n",
    "load_dotenv()\n",
    "\n",
    "import db\n",
    "from worker import process\n",
    "from utils import download\n",
    "from utils.get_video_description import get_video_description\n",
    "from AudioProcessor.transcriber import transcribe_audio\n",
    "from AudioProcessor.sentiment import SentimentAnalyzer\n",
    "import VideoProcessor\n",
    "import AudioProcessor"
   ]
  },
  {
   "cell_type": "code",
   "execution_count": 29,
   "metadata": {},
   "outputs": [
    {
     "name": "stderr",
     "output_type": "stream",
     "text": [
      "INFO - [EnrichmentWorker] - Successfully Connected to Database\n"
     ]
    }
   ],
   "source": [
    "db_conn = db.get_connection()\n",
    "video_id = \"7490975051978820886\""
   ]
  },
  {
   "cell_type": "code",
   "execution_count": 30,
   "metadata": {},
   "outputs": [
    {
     "name": "stderr",
     "output_type": "stream",
     "text": [
      "INFO - [EnrichmentWorker] - Downloading MP4 for 7490975051978820886 → /Users/rolandteslaru/Desktop/ZeruelNet/packages/DataEnrichment/tmp/video/7490975051978820886.mp4\n",
      "INFO - [EnrichmentWorker] - Audio 7490975051978820886 is already downloaded in /Users/rolandteslaru/Desktop/ZeruelNet/packages/DataEnrichment/tmp/audio/7490975051978820886.wav. Skipping\n"
     ]
    }
   ],
   "source": [
    "video_url, video_path, audio_path = download.tiktok_full(video_id)\n"
   ]
  },
  {
   "cell_type": "code",
   "execution_count": 31,
   "metadata": {},
   "outputs": [
    {
     "name": "stderr",
     "output_type": "stream",
     "text": [
      "INFO - [EnrichmentWorker] - Starting transcriber model ggml-large-v3.bin for audio in /Users/rolandteslaru/Desktop/ZeruelNet/packages/DataEnrichment/tmp/audio/7490975051978820886.wav\n",
      "huggingface/tokenizers: The current process just got forked, after parallelism has already been used. Disabling parallelism to avoid deadlocks...\n",
      "To disable this warning, you can either:\n",
      "\t- Avoid using `tokenizers` before the fork if possible\n",
      "\t- Explicitly set the environment variable TOKENIZERS_PARALLELISM=(true | false)\n",
      "INFO - [EnrichmentWorker] - Pentru ăștia cu turul 2 înapoi, uite problemele reale.\n",
      " Mă bucur pentru voi că strigați prin stradă și că vă uitați la unul care se cațără prin copaci.\n",
      " Asta, Ucraina lui aprilie 2025.\n",
      " N-avem democrație la noi în țară, n-avem suveranitate.\n",
      " Să vină Rusia să ne salveze.\n",
      " Rusia care nu respectă suveranitatea Ucrainei și comite genocid, omorând copii.\n",
      " Aceeași Rusia pe care o să vezi cei care strigă acum pe străzi.\n",
      " Turul 2, înapoi.\n",
      " Turul 2, înapoi.\n",
      " Să vină Rusia să mai înceapă o operație militară specială la noi în țară, nu să salveze pe cine de cine.\n",
      " Apropo, steagul ăla pe care îl vezi a fost coborât la jumătate pentru că a fost declarată zi de doliu în Ucraina\n",
      " din cauza tapului de la Krivoynik de pe 4 aprilie, adică de vinerea trecută.\n",
      " Pentru mine e mult mai important să vadă oamenii adevărul decât să câștig eu ceva direct din asta.\n",
      " Așa că luați mesajul ăsta, repostați-l pe unde vreți, nu trebuie să-mi dați nici credit.\n",
      " Puteți să-l încărcați la voi, puteți să faceți ce vreți cu el.\n",
      " E important ca oamenii să vadă până la urmă adevărul și ce se întâmplă cu adevărat în țara asta.\n"
     ]
    }
   ],
   "source": [
    "model_name = \"ggml-large-v3.bin\" \n",
    "transcript, lang, output = transcribe_audio(audio_path, model_name)\n",
    "logging.info(transcript)"
   ]
  },
  {
   "cell_type": "code",
   "execution_count": 32,
   "metadata": {},
   "outputs": [
    {
     "name": "stderr",
     "output_type": "stream",
     "text": [
      "INFO - [EnrichmentWorker] - SENTIMENT MODEL OUTPUT SequenceClassifierOutput(loss=None, logits=tensor([[ 1.1580, -0.9222]], grad_fn=<AddmmBackward0>), hidden_states=None, attentions=None)\n",
      "INFO - [EnrichmentWorker] - SENTIMENT MODEL SCORES [0.8889624  0.11103762]\n"
     ]
    }
   ],
   "source": [
    "sentiment_results = SentimentAnalyzer.get_sentiment(transcript, \"ro\")"
   ]
  },
  {
   "cell_type": "code",
   "execution_count": 33,
   "metadata": {},
   "outputs": [
    {
     "data": {
      "text/plain": [
       "{'positive': 0.11103761941194534,\n",
       " 'neutral': 0.0,\n",
       " 'negative': 0.8889623880386353}"
      ]
     },
     "execution_count": 33,
     "metadata": {},
     "output_type": "execute_result"
    }
   ],
   "source": [
    "sentiment_results"
   ]
  },
  {
   "cell_type": "code",
   "execution_count": 34,
   "metadata": {},
   "outputs": [],
   "source": [
    "description = get_video_description(video_id, db_conn)"
   ]
  },
  {
   "cell_type": "code",
   "execution_count": 41,
   "metadata": {},
   "outputs": [
    {
     "name": "stderr",
     "output_type": "stream",
     "text": [
      "INFO - [EnrichmentWorker] - Starting video processing for /Users/rolandteslaru/Desktop/ZeruelNet/packages/DataEnrichment/tmp/video/7490975051978820886.mp4\n",
      "INFO - [EnrichmentWorker] - AFC is enabled with max remote calls: 10.\n",
      "INFO - [EnrichmentWorker] - HTTP Request: POST https://aiplatform.googleapis.com/v1beta1/projects/zeruel-ney/locations/global/publishers/google/models/gemini-2.5-flash-lite:generateContent \"HTTP/1.1 200 OK\"\n",
      "INFO - [EnrichmentWorker] - AFC remote call 1 is done.\n",
      "INFO - [EnrichmentWorker] - VIDEO Analysis result {'summary': \"The video features a man speaking directly to the camera, criticizing those who he claims are ignorant of the realities of the war in Ukraine. He contrasts the suffering in Ukraine, citing a Russian bombing in Kryvyi Rih that killed children, with the perceived political posturing of others. The video includes text overlays identifying the location as Kyiv, Ukraine, and referencing a 'round 2 back' and a date of April 4th. It also shows a Ukrainian flag flying at half-mast, indicating a day of mourning. The speaker urges viewers to share the message to spread awareness of the truth.\", 'identified_subjects': [{'subject': 'Ukraine', 'stance': 1.0}, {'subject': 'Russia', 'stance': -1.0}, {'subject': 'Democracy', 'stance': -1.0}, {'subject': 'National Sovereignty', 'stance': -1.0}, {'subject': 'War', 'stance': -1.0}, {'subject': 'Vladimir Putin', 'stance': -1.0}], 'overall_alignment': 0.5}\n"
     ]
    }
   ],
   "source": [
    "analysis_result_json = VideoProcessor.process(video_path, transcript, sentiment_results, description)"
   ]
  },
  {
   "cell_type": "code",
   "execution_count": 42,
   "metadata": {},
   "outputs": [
    {
     "data": {
      "text/plain": [
       "{'summary': \"The video features a man speaking directly to the camera, criticizing those who he claims are ignorant of the realities of the war in Ukraine. He contrasts the suffering in Ukraine, citing a Russian bombing in Kryvyi Rih that killed children, with the perceived political posturing of others. The video includes text overlays identifying the location as Kyiv, Ukraine, and referencing a 'round 2 back' and a date of April 4th. It also shows a Ukrainian flag flying at half-mast, indicating a day of mourning. The speaker urges viewers to share the message to spread awareness of the truth.\",\n",
       " 'identified_subjects': [{'subject': 'Ukraine', 'stance': 1.0},\n",
       "  {'subject': 'Russia', 'stance': -1.0},\n",
       "  {'subject': 'Democracy', 'stance': -1.0},\n",
       "  {'subject': 'National Sovereignty', 'stance': -1.0},\n",
       "  {'subject': 'War', 'stance': -1.0},\n",
       "  {'subject': 'Vladimir Putin', 'stance': -1.0}],\n",
       " 'overall_alignment': 0.5}"
      ]
     },
     "execution_count": 42,
     "metadata": {},
     "output_type": "execute_result"
    }
   ],
   "source": [
    "analysis_result_json"
   ]
  },
  {
   "cell_type": "code",
   "execution_count": 39,
   "metadata": {},
   "outputs": [
    {
     "data": {
      "text/plain": [
       "{'summary': \"The video features a man speaking directly to the camera, criticizing those who he believes are not facing reality regarding the war in Ukraine. He contrasts the suffering in Ukraine, citing a bombing in Kryvyi Rih that killed children, with what he perceives as a lack of focus on real issues by some people in Romania. He sarcastically suggests Russia should 'save' Romania and criticizes those who praise Russia while claiming their own country lacks democracy and sovereignty. The video also shows footage of a Ukrainian flag flying at half-mast, indicating a day of mourning.\",\n",
       " 'identified_subjects': [{'subject': 'Ukraine', 'stance': 0.8},\n",
       "  {'subject': 'Russia', 'stance': -1.0},\n",
       "  {'subject': 'Democracy', 'stance': -0.5},\n",
       "  {'subject': 'National Sovereignty', 'stance': -0.5},\n",
       "  {'subject': 'War', 'stance': -0.8},\n",
       "  {'subject': 'Vladimir Putin', 'stance': -1.0}],\n",
       " 'overall_alignment': 0.6}"
      ]
     },
     "execution_count": 39,
     "metadata": {},
     "output_type": "execute_result"
    }
   ],
   "source": [
    "analysis_result_json"
   ]
  },
  {
   "cell_type": "code",
   "execution_count": 36,
   "metadata": {},
   "outputs": [
    {
     "data": {
      "text/plain": [
       "{'summary': 'The video features a man speaking directly to the camera, with a backdrop of a damaged apartment building and trees. He criticizes people who complain about a lack of democracy and sovereignty in Romania while praising those who do not respect the sovereignty of other countries. He references Ukraine, mentioning a bombing in Kryvyi Rih on April 4th and a day of mourning. The speaker emphasizes the importance of people seeing the truth about what is happening in Ukraine and encourages sharing the message.',\n",
       " 'identified_subjects': [{'subject': 'Ukraine', 'stance': -0.8},\n",
       "  {'subject': 'Russia', 'stance': -1.0},\n",
       "  {'subject': 'Democracy', 'stance': -0.5},\n",
       "  {'subject': 'National Sovereignty', 'stance': -0.8},\n",
       "  {'subject': 'War', 'stance': -0.9}],\n",
       " 'overall_alignment': 0.8}"
      ]
     },
     "execution_count": 36,
     "metadata": {},
     "output_type": "execute_result"
    }
   ],
   "source": [
    "analysis_result_json"
   ]
  }
 ],
 "metadata": {
  "kernelspec": {
   "display_name": "venv",
   "language": "python",
   "name": "python3"
  },
  "language_info": {
   "codemirror_mode": {
    "name": "ipython",
    "version": 3
   },
   "file_extension": ".py",
   "mimetype": "text/x-python",
   "name": "python",
   "nbconvert_exporter": "python",
   "pygments_lexer": "ipython3",
   "version": "3.13.5"
  }
 },
 "nbformat": 4,
 "nbformat_minor": 2
}
