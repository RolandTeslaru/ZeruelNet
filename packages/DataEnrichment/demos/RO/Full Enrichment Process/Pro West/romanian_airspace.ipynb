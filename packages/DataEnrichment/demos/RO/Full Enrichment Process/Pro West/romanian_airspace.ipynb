{
 "cells": [
  {
   "cell_type": "code",
   "execution_count": 10,
   "metadata": {},
   "outputs": [],
   "source": [
    "import sys\n",
    "import os\n",
    "import logging\n",
    "import json\n",
    "from dotenv import load_dotenv\n",
    "\n",
    "# Change cwd to the DataEnrichment root folder\n",
    "data_enrichment_root_path = os.path.abspath(os.path.join(os.getcwd(), \"..\", \"..\"))\n",
    "os.chdir(data_enrichment_root_path)\n",
    "\n",
    "if data_enrichment_root_path not in sys.path:\n",
    "    sys.path.append(data_enrichment_root_path)\n",
    "\n",
    "load_dotenv()\n",
    "\n",
    "import db\n",
    "from worker import process\n",
    "from utils import download\n",
    "from utils.get_video_description import get_video_description\n",
    "from AudioProcessor.transcriber import transcribe_audio\n",
    "from AudioProcessor.sentiment import SentimentAnalyzer\n",
    "import VideoProcessor\n",
    "import AudioProcessor"
   ]
  },
  {
   "cell_type": "code",
   "execution_count": 2,
   "metadata": {},
   "outputs": [
    {
     "name": "stderr",
     "output_type": "stream",
     "text": [
      "INFO - [EnrichmentWorker] - Successfully Connected to Database\n"
     ]
    }
   ],
   "source": [
    "db_conn = db.get_connection()\n",
    "video_id = \"7478689689231248662\""
   ]
  },
  {
   "cell_type": "code",
   "execution_count": 3,
   "metadata": {},
   "outputs": [
    {
     "name": "stderr",
     "output_type": "stream",
     "text": [
      "INFO - [EnrichmentWorker] - Downloading MP4 for 7478689689231248662 → /Users/rolandteslaru/Desktop/ZeruelNet/packages/DataEnrichment/tmp/video/7478689689231248662.mp4\n",
      "INFO - [EnrichmentWorker] - Successfully extracted audio to: /Users/rolandteslaru/Desktop/ZeruelNet/packages/DataEnrichment/tmp/audio/7478689689231248662.wav\n"
     ]
    }
   ],
   "source": [
    "video_url, video_path, audio_path = download.tiktok_full(video_id)\n"
   ]
  },
  {
   "cell_type": "code",
   "execution_count": 4,
   "metadata": {},
   "outputs": [
    {
     "name": "stderr",
     "output_type": "stream",
     "text": [
      "INFO - [EnrichmentWorker] - Starting transcriber model ggml-large-v3.bin for audio in /Users/rolandteslaru/Desktop/ZeruelNet/packages/DataEnrichment/tmp/audio/7478689689231248662.wav\n",
      "INFO - [EnrichmentWorker] - România cedează spațiul aerian aliaților?\n",
      " Greșit!\n",
      " Ce se întâmplă de fapt?\n",
      " Noua lege nu cedează controlul asupra spațiului aerian,\n",
      " ci stabilește măsuri clare pentru apărarea acestuia\n",
      " împotriva dronelor și altor amenințări.\n",
      " Spațiul aerian național este integrat în spațiul aerian al NATO.\n",
      " Încă de acum 20 de ani, odată cu aderarea României la alianță,\n",
      " integrarea spațiilor aeriene ale aliaților\n",
      " este în conformitate cu tratatele la care România este parte.\n",
      " Degeaba permite intervenția rapidă pentru distrugerea,\n",
      " neutralizarea și preluarea controlului asupra dronelor\n",
      " care încalcă spațiul aerian.\n",
      " Toate deciziile se iau în funcție de nivelul amenințării\n",
      " și protejarea vieții civile este prioritară.\n",
      " România nu pierde controlul asupra spațiului său aerian.\n",
      " Oferă aliaților cadrul legal să ne sprijine\n",
      " la solicitarea noastră să doborâm dronele.\n",
      " Nu e haos, nu e pierdere de suveranitate.\n",
      " România rămâne la butoane și își poate impune oricând restricții.\n",
      " Siguranță, nu cedare.\n",
      " Citește legea, informează-te corect și nu pica în capcana dezinformării.\n",
      " Dacă ai întrebări, lasă-o în comentariu și hai să combatem împreună dezinformarea.\n"
     ]
    }
   ],
   "source": [
    "model_name = \"ggml-large-v3.bin\" \n",
    "transcript, lang, output = transcribe_audio(audio_path, model_name)\n",
    "logging.info(transcript)"
   ]
  },
  {
   "cell_type": "code",
   "execution_count": 5,
   "metadata": {},
   "outputs": [
    {
     "name": "stderr",
     "output_type": "stream",
     "text": [
      "INFO - [EnrichmentWorker] - Loading model DGurgurov/xlm-r_romanian_sentiment for language ro\n",
      "INFO - [EnrichmentWorker] - Successfully loaded model DGurgurov/xlm-r_romanian_sentiment\n",
      "/Users/rolandteslaru/Desktop/ZeruelNet/packages/DataEnrichment/venv/lib/python3.13/site-packages/torch/nn/modules/module.py:1762: FutureWarning: `encoder_attention_mask` is deprecated and will be removed in version 4.55.0 for `XLMRobertaSdpaSelfAttention.forward`.\n",
      "  return forward_call(*args, **kwargs)\n",
      "INFO - [EnrichmentWorker] - SENTIMENT MODEL OUTPUT SequenceClassifierOutput(loss=None, logits=tensor([[ 1.4409, -1.2958]], grad_fn=<AddmmBackward0>), hidden_states=None, attentions=None)\n",
      "INFO - [EnrichmentWorker] - SENTIMENT MODEL SCORES [0.93915755 0.06084239]\n"
     ]
    }
   ],
   "source": [
    "sentiment_results = SentimentAnalyzer.get_sentiment(transcript, \"ro\")"
   ]
  },
  {
   "cell_type": "code",
   "execution_count": 6,
   "metadata": {},
   "outputs": [
    {
     "data": {
      "text/plain": [
       "{'positive': 0.06084238737821579,\n",
       " 'neutral': 0.0,\n",
       " 'negative': 0.9391575455665588}"
      ]
     },
     "execution_count": 6,
     "metadata": {},
     "output_type": "execute_result"
    }
   ],
   "source": [
    "sentiment_results"
   ]
  },
  {
   "cell_type": "code",
   "execution_count": 7,
   "metadata": {},
   "outputs": [],
   "source": [
    "description = get_video_description(video_id, db_conn)"
   ]
  },
  {
   "cell_type": "code",
   "execution_count": 11,
   "metadata": {},
   "outputs": [
    {
     "name": "stderr",
     "output_type": "stream",
     "text": [
      "INFO - [EnrichmentWorker] - Starting video processing for /Users/rolandteslaru/Desktop/ZeruelNet/packages/DataEnrichment/tmp/video/7478689689231248662.mp4\n",
      "INFO - [EnrichmentWorker] - AFC is enabled with max remote calls: 10.\n",
      "INFO - [EnrichmentWorker] - HTTP Request: POST https://aiplatform.googleapis.com/v1beta1/projects/zeruel-ney/locations/global/publishers/google/models/gemini-2.5-flash-lite:generateContent \"HTTP/1.1 200 OK\"\n",
      "INFO - [EnrichmentWorker] - AFC remote call 1 is done.\n",
      "INFO - [EnrichmentWorker] - VIDEO Analysis result {'summary': \"The video features a man in a military uniform discussing Romanian airspace regulations. It addresses the question of whether Romania is ceding its airspace to allies, stating that this is incorrect. The video explains that new legislation establishes clear measures for defending national airspace against drones and other threats. It clarifies that Romania's airspace is integrated into NATO's, a situation that has existed since Romania joined the alliance. The law allows for rapid intervention to destroy, neutralize, or take control of drones violating airspace, with decisions based on threat levels and prioritizing civilian safety. The video asserts that Romania retains control, can impose restrictions, and that this framework provides legal grounds for allies to assist upon request, emphasizing security over cession and encouraging viewers to read the law and avoid disinformation.\", 'identified_subjects': [{'subject': 'romania', 'stance': 1.0}, {'subject': 'nato', 'stance': 1.0}, {'subject': 'national sovereignty', 'stance': 1.0}, {'subject': 'drones', 'stance': -1.0}, {'subject': 'disinformation', 'stance': -1.0}], 'overall_alignment': 1.0}\n"
     ]
    }
   ],
   "source": [
    "analysis_result_json = VideoProcessor.process(video_path, transcript, sentiment_results, description)"
   ]
  },
  {
   "cell_type": "code",
   "execution_count": 12,
   "metadata": {},
   "outputs": [
    {
     "data": {
      "text/plain": [
       "{'summary': \"The video features a man in a military uniform discussing Romanian airspace regulations. It addresses the question of whether Romania is ceding its airspace to allies, stating that this is incorrect. The video explains that new legislation establishes clear measures for defending national airspace against drones and other threats. It clarifies that Romania's airspace is integrated into NATO's, a situation that has existed since Romania joined the alliance. The law allows for rapid intervention to destroy, neutralize, or take control of drones violating airspace, with decisions based on threat levels and prioritizing civilian safety. The video asserts that Romania retains control, can impose restrictions, and that this framework provides legal grounds for allies to assist upon request, emphasizing security over cession and encouraging viewers to read the law and avoid disinformation.\",\n",
       " 'identified_subjects': [{'subject': 'romania', 'stance': 1.0},\n",
       "  {'subject': 'nato', 'stance': 1.0},\n",
       "  {'subject': 'national sovereignty', 'stance': 1.0},\n",
       "  {'subject': 'drones', 'stance': -1.0},\n",
       "  {'subject': 'disinformation', 'stance': -1.0}],\n",
       " 'overall_alignment': 1.0}"
      ]
     },
     "execution_count": 12,
     "metadata": {},
     "output_type": "execute_result"
    }
   ],
   "source": [
    "analysis_result_json"
   ]
  },
  {
   "cell_type": "code",
   "execution_count": 9,
   "metadata": {},
   "outputs": [
    {
     "data": {
      "text/plain": [
       "{'summary': \"The video features a man in a military uniform discussing Romanian airspace regulations. It clarifies that a new law does not cede airspace control to allies but rather establishes measures for its defense against drones and other threats. The speaker emphasizes that Romania's integration into NATO airspace is in line with treaties and that the law allows for rapid intervention to neutralize drones, prioritizing civilian safety. The message aims to counter misinformation by stating that Romania retains control, can impose restrictions, and that the situation is about security, not a loss of sovereignty.\",\n",
       " 'identified_subjects': [{'subject': 'romania', 'stance': 1.0},\n",
       "  {'subject': 'nato', 'stance': 1.0},\n",
       "  {'subject': 'national sovereignty', 'stance': 1.0},\n",
       "  {'subject': 'drones', 'stance': -0.5},\n",
       "  {'subject': 'misinformation', 'stance': -1.0}],\n",
       " 'overall_alignment': 1.0}"
      ]
     },
     "execution_count": 9,
     "metadata": {},
     "output_type": "execute_result"
    }
   ],
   "source": [
    "analysis_result_json"
   ]
  }
 ],
 "metadata": {
  "kernelspec": {
   "display_name": "venv",
   "language": "python",
   "name": "python3"
  },
  "language_info": {
   "codemirror_mode": {
    "name": "ipython",
    "version": 3
   },
   "file_extension": ".py",
   "mimetype": "text/x-python",
   "name": "python",
   "nbconvert_exporter": "python",
   "pygments_lexer": "ipython3",
   "version": "3.13.5"
  }
 },
 "nbformat": 4,
 "nbformat_minor": 2
}
