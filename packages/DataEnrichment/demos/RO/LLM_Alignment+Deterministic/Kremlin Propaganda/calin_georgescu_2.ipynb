{
 "cells": [
  {
   "cell_type": "code",
   "execution_count": 1,
   "metadata": {},
   "outputs": [
    {
     "name": "stderr",
     "output_type": "stream",
     "text": [
      "/Users/rolandteslaru/Desktop/ZeruelNet/packages/DataEnrichment/venv/lib/python3.13/site-packages/tqdm/auto.py:21: TqdmWarning: IProgress not found. Please update jupyter and ipywidgets. See https://ipywidgets.readthedocs.io/en/stable/user_install.html\n",
      "  from .autonotebook import tqdm as notebook_tqdm\n"
     ]
    }
   ],
   "source": [
    "import sys\n",
    "import os\n",
    "import logging\n",
    "import json\n",
    "from dotenv import load_dotenv\n",
    "\n",
    "# Change cwd to the DataEnrichment root folder\n",
    "data_enrichment_root_path = os.path.abspath(os.path.join(os.getcwd(), \"..\", \"..\", \"..\"))\n",
    "os.chdir(data_enrichment_root_path)\n",
    "\n",
    "if data_enrichment_root_path not in sys.path:\n",
    "    sys.path.append(data_enrichment_root_path)\n",
    "\n",
    "load_dotenv()\n",
    "\n",
    "import db\n",
    "from worker import process\n",
    "from utils import download\n",
    "from utils.get_video_description import get_video_description\n",
    "from AudioProcessor.transcriber import transcribe_audio\n",
    "from AudioProcessor.sentiment import SentimentAnalyzer\n",
    "import AlignmentCalculator\n",
    "import VideoProcessor\n",
    "import AudioProcessor"
   ]
  },
  {
   "cell_type": "code",
   "execution_count": 2,
   "metadata": {},
   "outputs": [
    {
     "name": "stderr",
     "output_type": "stream",
     "text": [
      "INFO - [EnrichmentWorker] - Successfully Connected to Database\n"
     ]
    }
   ],
   "source": [
    "db_conn = db.get_connection()\n",
    "video_id = \"7527601571677441302\""
   ]
  },
  {
   "cell_type": "code",
   "execution_count": 3,
   "metadata": {},
   "outputs": [],
   "source": [
    "video_path = os.path.abspath(\"./tmp/video/7527601571677441302.mp4\")\n",
    "audio_path = os.path.abspath(\"./tmp/video/7527601571677441302.wav\")\n",
    "\n",
    "transcript = \"\"\"\n",
    "Dragii mei, ce se întâmplă astăzi în scandalul USAID este absolut șocant la nivel global, dar minunat în același timp. Trezirea în conștiința întregii lumi se produce mai profund ca niciodată. Ceea ce credeam că este democrație se dovedește că a fost doară cionzură globală. O mită împachetată într-o formă de ajutor social cu implicații teribile la adresa libertății civile. În întreaga lume, inclusiv în România, au fost demascate televiziuni și publicații care se dovedește că au avut o singură și unică misiune a ceea de a manipula percepția publică în interes globalist, fiind profund dăunătoare democrației interne și, mai grav, producând un atac direct. Acest lucru a fost destul de răbdăcut și a fost îndreptat la suveranitatea fiecărei țări. Felicit și mulțumesc US Doge pentru curajul de a demasca această rețea și adevărul, evident, ne va elibera și corupții vor plăti pentru fiecare ticăroșie și minciună pe care au emis-o în vederea manipulării și alterării realității în defavoarea poporului roman. Corupția este un fenomen pe care îl îndreptăm. Este un fenomen pe care trebuie distrus definitiv. Toate problemele noastre vin în acest fenomen oribil, în această voală ce părea incurabilă, până la venirea președintelui Donald Trump la conducerea Statelor Unitele Merge. Acum jocul s-a schimbat și se numește libertate, suveranitate, sinceritate. Vedeam că Uniunea Europeană este un pilon al democrației și civilizației. Ei bine, vom afla curând că în conducerea de la Brusel se află doar o grupare de prădători care au atacat parșit democrația din România și care acum a pus ochii și pe alte state din Europa, începând cu Germania și Polonia. Televiziunele românești? Televiziunele românești? Televiziunele românești? Contribuitori a economiei românești, adică întrepindele miști și mijlocii, antreprenorul român și tot ceea ce este românesc și produs românesc. Am în mână doar câteva din datele publice cu privire la cele mai mari companii din România. Am în mână doar câteva din datele publice cu privire la cele mai mari companii din România. Am în mână doar câteva din datele publice cu privire la cele mai mari companii din România. Am în mână doar câteva din datele publice cu privire la cele mai mari companii din România. Am în mână doar câteva din datele publice cu privire la cele mai mari companii din România. Am în mână doar câteva din datele publice cu privire la cele mai mari companii din România. Am în mână doar câteva din datele publice cu privire la cele mai mari companii din România. Am în mână doar câteva din datele publice cu privire la cele mai mari companii din România. Am în mână doar câteva din datele publice cu privire la cele mai mari companii din România. Am în mână doar câteva din datele publice cu privire la cele mai mari companii din România. Am în mână doar câteva din datele publice cu privire la cele mai mari companii din România. Am în mână doar câteva din datele publice cu privire la cele mai mari companii din România. Am în mână doar câteva din datele publice cu privire la cele mai mari companii din România. Am în mână doar câteva din datele publice cu privire la cele mai mari companii din România. Am în mână doar câteva din datele publice cu privire la cele mai mari companii din România. Am în mână doar câteva din datele publice cu privire la cele mai mari companii din România. Am în mână doar câteva din datele publice cu privire la cele mai mari companii din România. Am în mână doar câteva din datele publice cu privire la cele mai mari companii din România. Am în mână doar câteva din datele publice cu privire la cele mai mari companii din România. Am în mână doar câteva din datele publice cu privire la cele mai mari companii din România. Am în mână doar câteva din datele publice cu privire la cele mai mari companii din România. Mă gândesc că nu v-ați fi extins în fiecare oraș dacă nu vă mergea bine. Eu știu că dacă nu ai profit într-o afacere, atunci e închis afacerea. Dar voi extindeți afacerile, evident, cu profit zero. Interesant. Eu vă spun așa, se apropie momentul în care și în România, ca și în America, vom afla cum este posibil că există aceste minuni. De asemenea, am văzut că plâng toți de mila marilor magazine sub pretextul că aceștia ne-au făcut favoruri și au angajat români de-ai noștrii pe care trebuie să-i protejam. Serios? Dar ce facem cu toate reducele de personal pe care aceste magazine le-au făcut? Prin introducerea forțată a caselor de marcat rapide. Adică acele case unde vă duceți și vă plătiți singuri produsele? De câte ori ați rugat angajații magazinilor să se mai deschidă o casă de marcat? Pentru că erau pozimense. De multe ori nu e așa. Asta e realitatea. Pentru că în aceste magazine angajații sunt împovărați să lucreze, și la casă de marcat, și în depozit, și în magazin. Sunt doar o mână de oameni în fiecare magazin, care sunt folosiți până la epuizare, în timp ce noi, clienții, trebuie să ne achităm singuri produsele. Cam asta este cu aceste magazine cărora le plângem de milă că le boicotăm. Azi nu-i știți. Oricum declară profit zero. Deci în condițiile astea, nu cred că le afectăm existența, corect? Atenție, ați venit în România să faceți afaceri. Atunci plătiți corect impozitările. Nu mai jucați șifrele în contabilitate. Angajați românii pe care să-i plătiți de-amn și să-l oferiți respect, așa cum faceți și în Occident. Cumpărați și revindeți produsele românești la prețuri corecte. Ajutați micii producători români să crească producția, oferiți-ne produse de bună calitate și terminați cu creșterea artificială de prețuri. Încetați cu casele rapide de mercat menite doar să vă maximizeze vouă profitul acela de zero lei sau zero euro. Respectați Românii și România. Și apropo, dacă am înțeles bine că vă permiteți pe 10 februarie să faceți reduceri, atunci tot mai ați dovedit că aveți de unde reduce. Pentru că prețurile sunt nejustificate mari doar ca voi să aveți profit. Da, profitul acela zero pe care îl declarați cu mare enfază. Și mai vorbiți de etică în afaceri? Păi nu aveți deloc, nici voi, nici propaganda deșansată care susține boicotul la adresa interesului național. Voi, marile companii multinazionale cu zero profit, sunteți de fapt singurii care boicotați economii în România de ani de zile. Și în acest motiv, vă rog, dragii mei români, ca luni, pe 10 februarie, să dăm un semnal clar de demnitate și verticalitate, că poporul nu mai tolerează exploatarea și păcălirea noastră ca neam și țară. Cu atât mai mult. Cu cât această zi, nu a fost aleasă întâmplător. Este ziua Sfântului Haralambie. Sfântul rodului care o crotește de lipsuri și de foamete, care aduce belșug în familie și în locul unde este cinstit. Așa s-ajute Dumnezeu România, familia noastră mare. Noi suntem poporul, noi suntem România.\n",
    "\"\"\"\n",
    "\n",
    "sentiment_results = {\n",
    "    'positive': 0.11895617842674255,\n",
    "    'neutral': 0.0,\n",
    "    'negative': 0.8810438513755798\n",
    " }\n",
    "\n",
    "description = \"\"\"\n",
    "'#doamneajuta #🙏❤️🇷🇴 #suveranitate #romania #@calin.georgescu.real #fyp #OnoaresiRespect🙏❤️🇷🇴 '\n",
    " \"\"\""
   ]
  },
  {
   "cell_type": "code",
   "execution_count": 4,
   "metadata": {},
   "outputs": [
    {
     "name": "stderr",
     "output_type": "stream",
     "text": [
      "INFO - [EnrichmentWorker] - Starting video processing for /Users/rolandteslaru/Desktop/ZeruelNet/packages/DataEnrichment/tmp/video/7520882134135868695.mp4\n",
      "INFO - [EnrichmentWorker] - AFC is enabled with max remote calls: 10.\n",
      "INFO - [EnrichmentWorker] - HTTP Request: POST https://aiplatform.googleapis.com/v1beta1/projects/zeruel-ney/locations/global/publishers/google/models/gemini-2.5-flash-lite:generateContent \"HTTP/1.1 200 OK\"\n",
      "INFO - [EnrichmentWorker] - AFC remote call 1 is done.\n",
      "INFO - [EnrichmentWorker] - VIDEO Analysis result {'summary': \"The video discusses Călin Georgescu's birth under the archetype of 'The Emperor,' suggesting it signifies a destiny requiring vision, power, and discipline, but also carries a karma of not abusing power and submitting ego to truth. It alleges that in his 'shadow,' conflict with authorities and a struggle between truth and control emerge. The speaker poses a question to the audience about whether Georgescu is a leader or a fighter against the system and invites them to visit a website to discover their own birth day karma.\", 'identified_subjects': [{'subject': 'calin georgescu', 'stance': 0.6}, {'subject': 'fighter against the system', 'stance': 0.7}], 'overall_alignment': -0.9}\n"
     ]
    },
    {
     "data": {
      "text/plain": [
       "{'summary': \"The video discusses Călin Georgescu's birth under the archetype of 'The Emperor,' suggesting it signifies a destiny requiring vision, power, and discipline, but also carries a karma of not abusing power and submitting ego to truth. It alleges that in his 'shadow,' conflict with authorities and a struggle between truth and control emerge. The speaker poses a question to the audience about whether Georgescu is a leader or a fighter against the system and invites them to visit a website to discover their own birth day karma.\",\n",
       " 'identified_subjects': [{'subject': 'calin georgescu', 'stance': 0.6},\n",
       "  {'subject': 'fighter against the system', 'stance': 0.7}],\n",
       " 'overall_alignment': -0.9}"
      ]
     },
     "execution_count": 4,
     "metadata": {},
     "output_type": "execute_result"
    }
   ],
   "source": [
    "analysis_result_json = VideoProcessor.process(video_path, transcript, sentiment_results, description)\n",
    "analysis_result_json"
   ]
  },
  {
   "cell_type": "code",
   "execution_count": 6,
   "metadata": {},
   "outputs": [
    {
     "name": "stdout",
     "output_type": "stream",
     "text": [
      "llm_overall_alignment: -0.9 \n",
      "final_alignment: -0.8333333333333334 \n",
      "deterministic_alignment: -0.6333333333333333 \n",
      "alignment_conflict: 0.2666666666666667\n"
     ]
    }
   ],
   "source": [
    "identified_subjects = analysis_result_json[\"identified_subjects\"]\n",
    "llm_overall_alignment = analysis_result_json[\"overall_alignment\"]\n",
    "final_alignment, deterministic_alignment, alignment_conflict = AlignmentCalculator.calculate(identified_subjects, llm_overall_alignment, alpha=0.25)\n",
    "print(f\"llm_overall_alignment: {llm_overall_alignment} \\nfinal_alignment: {final_alignment} \\ndeterministic_alignment: {deterministic_alignment} \\nalignment_conflict: {alignment_conflict}\")"
   ]
  }
 ],
 "metadata": {
  "kernelspec": {
   "display_name": "venv",
   "language": "python",
   "name": "python3"
  },
  "language_info": {
   "codemirror_mode": {
    "name": "ipython",
    "version": 3
   },
   "file_extension": ".py",
   "mimetype": "text/x-python",
   "name": "python",
   "nbconvert_exporter": "python",
   "pygments_lexer": "ipython3",
   "version": "3.13.5"
  }
 },
 "nbformat": 4,
 "nbformat_minor": 2
}
