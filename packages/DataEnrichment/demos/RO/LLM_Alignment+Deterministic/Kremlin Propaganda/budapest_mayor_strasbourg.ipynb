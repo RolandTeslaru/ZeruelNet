{
 "cells": [
  {
   "cell_type": "code",
   "execution_count": 1,
   "metadata": {},
   "outputs": [
    {
     "name": "stderr",
     "output_type": "stream",
     "text": [
      "/Users/rolandteslaru/Desktop/ZeruelNet/packages/DataEnrichment/venv/lib/python3.13/site-packages/tqdm/auto.py:21: TqdmWarning: IProgress not found. Please update jupyter and ipywidgets. See https://ipywidgets.readthedocs.io/en/stable/user_install.html\n",
      "  from .autonotebook import tqdm as notebook_tqdm\n"
     ]
    }
   ],
   "source": [
    "import sys\n",
    "import os\n",
    "import logging\n",
    "import json\n",
    "from dotenv import load_dotenv\n",
    "\n",
    "# Change cwd to the DataEnrichment root folder\n",
    "data_enrichment_root_path = os.path.abspath(os.path.join(os.getcwd(), \"..\", \"..\", \"..\"))\n",
    "os.chdir(data_enrichment_root_path)\n",
    "\n",
    "if data_enrichment_root_path not in sys.path:\n",
    "    sys.path.append(data_enrichment_root_path)\n",
    "\n",
    "load_dotenv()\n",
    "\n",
    "import db\n",
    "from worker import process\n",
    "from utils import download\n",
    "from utils.get_video_description import get_video_description\n",
    "from AudioProcessor.transcriber import transcribe_audio\n",
    "from AudioProcessor.sentiment import SentimentAnalyzer\n",
    "import AlignmentCalculator\n",
    "import VideoProcessor\n",
    "import AudioProcessor"
   ]
  },
  {
   "cell_type": "code",
   "execution_count": 2,
   "metadata": {},
   "outputs": [
    {
     "name": "stderr",
     "output_type": "stream",
     "text": [
      "INFO - [EnrichmentWorker] - Successfully Connected to Database\n"
     ]
    }
   ],
   "source": [
    "db_conn = db.get_connection()\n",
    "video_id = \"7525069106249354518\""
   ]
  },
  {
   "cell_type": "code",
   "execution_count": 3,
   "metadata": {},
   "outputs": [],
   "source": [
    "video_path = os.path.abspath(\"./tmp/video/7525069106249354518.mp4\")\n",
    "audio_path = os.path.abspath(\"./tmp/video/7525069106249354518.wav\")\n",
    "\n",
    "transcript = \"\"\"\n",
    "Vă salut, dragi prieteni, vă salut, dragi români!\n",
    " Un filmuleț de aici, din Parlamentul, din Strasburg, din Parlamentul European,\n",
    " despre ce s-a întâmplat astăzi în sala de plen, în această clădire rotundă pe care o vedeți, asta de lemn, este mai rotundă.\n",
    " Dragi prieteni, astăzi, în plen, a fost un scandal.\n",
    " Un scandal pentru că partidele, Revue, Verzii și ceilalți, PSD, PNL, USR, mai departe,\n",
    " au invitat în plen, au invitat pe primarul Budapestei, exact pe primarul ăla, LGBTQ bananier,\n",
    " care a sfidat legea și ordonanța pe care domnul...\n",
    " prim-ministrul al Ungariei, Orban, a interzis parada LGBT.\n",
    " Primarul a lăsat și a acceptat această paradă de bananieri să vină în Budapesta.\n",
    " Un lucru foarte greu.\n",
    " În sală, aici, au început, cum am spus, grupul Revue, Verzii, EPP și ăștia le-au început să aplaude pe unguri, pe primarul Budapestei, așa, pe primarul Budapestei,\n",
    " și în momentul ăla, pentru că a ieșit oribil, oribil, într-o Uniune Europeană să susții LGBTQ, așa cum fac ei, este un lucru foarte grav.\n",
    " Și pentru asta, doamna Diana Ioanoviț-Oșoacă a dat tonul, a început să strige, să huiduie, să... nu să înjure, dar să strige contra primarului, alături de ea s-au alăturat și alți suveraniști, alți europaralători, alți...\n",
    " parlamentari, care susțin familia tradițională și familia compusă din bărbat și femeie, și vă dați seama că a ieșit un mic show în Parlamentul European, provocat de globaliști,\n",
    " provocat de acei extrimiști care ne fac pe noi, sau pe Pipera, pe Oșoacă, pe Luis Lazarus, pe naționaliști, îi fac extrimiști.\n",
    " Nu, extrimiștii sunt exact...\n",
    " cum își fondă line și toată armata ei, care își bat joc, pur și simplu își bat joc de cetățenii Uniunii Europene și de copiii Uniunii Europeni, cât și de pensionarii Uniunii Europene.\n",
    " Deci, este un lucru grav ce s-a întâmplat astăzi, dar ce să-i facem decât să ne spunem părerea și decât să îi huiduim înapoi?\n",
    " Mare lucru nu putem.\n",
    " Pentru că suntem noi în minoritate.\n",
    " Asta au fost aici din Parlamentul European de la Strasburg.\n",
    " Vă salut!\n",
    "\"\"\"\n",
    "\n",
    "sentiment_results = {\n",
    "    'positive': 0.07932209223508835,\n",
    "    'neutral': 0.0,\n",
    "    'negative': 0.9206779599189758\n",
    " }\n",
    "\n",
    "description = \"\"\"\n",
    "primarul din Budapesta huiduit de suveranisti in plenul de la Strasbourg #Romania #luislazarus #dianasosoaca #suveranitate #bananierii\n",
    "\"\"\""
   ]
  },
  {
   "cell_type": "code",
   "execution_count": 4,
   "metadata": {},
   "outputs": [
    {
     "name": "stderr",
     "output_type": "stream",
     "text": [
      "INFO - [EnrichmentWorker] - Starting video processing for /Users/rolandteslaru/Desktop/ZeruelNet/packages/DataEnrichment/tmp/video/7525069106249354518.mp4\n",
      "INFO - [EnrichmentWorker] - AFC is enabled with max remote calls: 10.\n",
      "INFO - [EnrichmentWorker] - HTTP Request: POST https://aiplatform.googleapis.com/v1beta1/projects/zeruel-ney/locations/global/publishers/google/models/gemini-2.5-flash-lite:generateContent \"HTTP/1.1 200 OK\"\n",
      "INFO - [EnrichmentWorker] - AFC remote call 1 is done.\n",
      "INFO - [EnrichmentWorker] - VIDEO Analysis result {'summary': \"The speaker shares a video from the European Parliament in Strasbourg, describing an incident where the Mayor of Budapest was allegedly booed by nationalist and sovereignist MEPs, including Diana Sosoaca. The speaker frames this event as a scandal, alleging that the Mayor defied the Hungarian Prime Minister's ban on an LGBTQ+ parade and that MEPs from Renew, Greens, EPP, and S&D groups applauded the Mayor. The speaker criticizes this support for LGBTQ+ rights as a sign of 'Western decay' and claims that 'globalists' and 'extremists' are mischaracterizing nationalists and patriots.\", 'identified_subjects': [{'subject': 'diana sosoaca', 'stance': 0.8}, {'subject': 'viktor orbán', 'stance': 0.7}, {'subject': 'european parliament', 'stance': -0.8}, {'subject': 'european union', 'stance': -0.9}, {'subject': 'greens', 'stance': -0.8}, {'subject': 'renew europe', 'stance': -0.8}, {'subject': \"european people's party\", 'stance': -0.8}, {'subject': 'progressive alliance of socialists and democrats', 'stance': -0.8}, {'subject': 'nationalism', 'stance': 0.9}, {'subject': 'traditional values', 'stance': 0.9}, {'subject': 'globalists', 'stance': -1.0}, {'subject': 'lgbtq+ rights', 'stance': -1.0}], 'overall_alignment': -0.98}\n"
     ]
    },
    {
     "data": {
      "text/plain": [
       "{'summary': \"The speaker shares a video from the European Parliament in Strasbourg, describing an incident where the Mayor of Budapest was allegedly booed by nationalist and sovereignist MEPs, including Diana Sosoaca. The speaker frames this event as a scandal, alleging that the Mayor defied the Hungarian Prime Minister's ban on an LGBTQ+ parade and that MEPs from Renew, Greens, EPP, and S&D groups applauded the Mayor. The speaker criticizes this support for LGBTQ+ rights as a sign of 'Western decay' and claims that 'globalists' and 'extremists' are mischaracterizing nationalists and patriots.\",\n",
       " 'identified_subjects': [{'subject': 'diana sosoaca', 'stance': 0.8},\n",
       "  {'subject': 'viktor orbán', 'stance': 0.7},\n",
       "  {'subject': 'european parliament', 'stance': -0.8},\n",
       "  {'subject': 'european union', 'stance': -0.9},\n",
       "  {'subject': 'greens', 'stance': -0.8},\n",
       "  {'subject': 'renew europe', 'stance': -0.8},\n",
       "  {'subject': \"european people's party\", 'stance': -0.8},\n",
       "  {'subject': 'progressive alliance of socialists and democrats',\n",
       "   'stance': -0.8},\n",
       "  {'subject': 'nationalism', 'stance': 0.9},\n",
       "  {'subject': 'traditional values', 'stance': 0.9},\n",
       "  {'subject': 'globalists', 'stance': -1.0},\n",
       "  {'subject': 'lgbtq+ rights', 'stance': -1.0}],\n",
       " 'overall_alignment': -0.98}"
      ]
     },
     "execution_count": 4,
     "metadata": {},
     "output_type": "execute_result"
    }
   ],
   "source": [
    "analysis_result_json = VideoProcessor.process(video_path, transcript, sentiment_results, description)\n",
    "identified_subjects = analysis_result_json[\"identified_subjects\"]\n",
    "llm_overall_alignment = analysis_result_json[\"overall_alignment\"]\n",
    "analysis_result_json"
   ]
  },
  {
   "cell_type": "code",
   "execution_count": 5,
   "metadata": {},
   "outputs": [
    {
     "name": "stdout",
     "output_type": "stream",
     "text": [
      "llm_overall_alignment: -0.98 \n",
      "final_alignment: -0.9501011560693642 \n",
      "deterministic_alignment: -0.8604046242774567 \n",
      "alignment_conflict: 0.1195953757225433\n"
     ]
    }
   ],
   "source": [
    "final_alignment, deterministic_alignment, alignment_conflict = AlignmentCalculator.calculate(identified_subjects, llm_overall_alignment, alpha=0.25)\n",
    "print(f\"llm_overall_alignment: {llm_overall_alignment} \\nfinal_alignment: {final_alignment} \\ndeterministic_alignment: {deterministic_alignment} \\nalignment_conflict: {alignment_conflict}\")"
   ]
  }
 ],
 "metadata": {
  "kernelspec": {
   "display_name": "venv",
   "language": "python",
   "name": "python3"
  },
  "language_info": {
   "codemirror_mode": {
    "name": "ipython",
    "version": 3
   },
   "file_extension": ".py",
   "mimetype": "text/x-python",
   "name": "python",
   "nbconvert_exporter": "python",
   "pygments_lexer": "ipython3",
   "version": "3.13.5"
  }
 },
 "nbformat": 4,
 "nbformat_minor": 2
}
