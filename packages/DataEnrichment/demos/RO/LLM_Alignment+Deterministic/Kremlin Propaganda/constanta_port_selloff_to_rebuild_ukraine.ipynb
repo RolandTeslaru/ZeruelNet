{
 "cells": [
  {
   "cell_type": "code",
   "execution_count": 1,
   "metadata": {},
   "outputs": [
    {
     "name": "stderr",
     "output_type": "stream",
     "text": [
      "/Users/rolandteslaru/Desktop/ZeruelNet/packages/DataEnrichment/venv/lib/python3.13/site-packages/tqdm/auto.py:21: TqdmWarning: IProgress not found. Please update jupyter and ipywidgets. See https://ipywidgets.readthedocs.io/en/stable/user_install.html\n",
      "  from .autonotebook import tqdm as notebook_tqdm\n"
     ]
    }
   ],
   "source": [
    "import sys\n",
    "import os\n",
    "import logging\n",
    "import json\n",
    "from dotenv import load_dotenv\n",
    "\n",
    "# Change cwd to the DataEnrichment root folder\n",
    "data_enrichment_root_path = os.path.abspath(os.path.join(os.getcwd(), \"..\", \"..\", \"..\"))\n",
    "os.chdir(data_enrichment_root_path)\n",
    "\n",
    "if data_enrichment_root_path not in sys.path:\n",
    "    sys.path.append(data_enrichment_root_path)\n",
    "\n",
    "load_dotenv()\n",
    "\n",
    "import db\n",
    "from worker import process\n",
    "from utils import download\n",
    "from utils.get_video_description import get_video_description\n",
    "from AudioProcessor.transcriber import transcribe_audio\n",
    "from AudioProcessor.sentiment import SentimentAnalyzer\n",
    "import VideoProcessor\n",
    "import AlignmentCalculator\n",
    "import AudioProcessor"
   ]
  },
  {
   "cell_type": "code",
   "execution_count": 2,
   "metadata": {},
   "outputs": [
    {
     "name": "stderr",
     "output_type": "stream",
     "text": [
      "INFO - [EnrichmentWorker] - Successfully Connected to Database\n"
     ]
    }
   ],
   "source": [
    "db_conn = db.get_connection()\n",
    "video_id = \"7520243908438134038\""
   ]
  },
  {
   "cell_type": "code",
   "execution_count": 3,
   "metadata": {},
   "outputs": [],
   "source": [
    "video_path = os.path.abspath(\"./tmp/video/7520243908438134038.mp4\")\n",
    "audio_path = os.path.abspath(\"./tmp/video/7520243908438134038.wav\")\n",
    "\n",
    "transcript = \"\"\"\n",
    "Știai că România vrea să vândă portul Constanța pentru a reconstrui Ucraina?\n",
    " Sună nebunesc? Din păcate e real.\n",
    " În cercurile guvernamentale de la București se discută tot mai intens despre vânzarea portului Constanța,\n",
    " iar banii obținuți ar urma să fie direcționați către reconstrucția Ucrainei.\n",
    " Nu este o glumă, vorbim despre cel mai important port românesc,\n",
    " o poartă strategică la Marea Neagră, cu valoare geo-economică și militară uriașă.\n",
    " Și se ia în calcul cedarea acestuia, în plină criză globală,\n",
    " în favoarea unui plan de solidaritate internațional.\n",
    " Întrebarea dură este, solidaritate cu cine și pe spatele cui?\n",
    " Ce câștigă România concret din această tranzacție?\n",
    " Cine va controla portul după vânzare?\n",
    " Cum ajută acest lucru românii care plătesc taxe, facturi și rate tot mai mari?\n",
    " În timp ce alte state își apără infrastructura vitală,\n",
    " România pare gata să renunțe la ea în numele unor interese geopolitice impuse din afară.\n",
    " Nu e doar o problemă economică, e o problemă de suveranitate națională.\n",
    " Tu ce crezi? România trebuie să ajute cu orice preț chiar dacă își vinde viitorul?\n",
    " Sau ar trebui să punem pe primul loc?\n",
    " interesul național, distribuie ca să afle toți ce se pregătește în tăcere.\n",
    "\"\"\"\n",
    "\n",
    "sentiment_results = {\n",
    "    'positive': 0.15972021222114563,\n",
    "    'neutral': 0.0,\n",
    "    'negative': 0.840279757976532\n",
    " }\n",
    "description = 'Portul Constanța, una dintre cele mai importante infrastructuri strategice ale României, ar putea fi vândut. Guvernul discută ca banii să fie direcționați spre reconstrucția Ucrainei. E o decizie corectă? Sau o  a interesului național #Romania2025 #PortulConstanta #Ucraina #Suveranitate #DistribuieAdevărul'"
   ]
  },
  {
   "cell_type": "code",
   "execution_count": 6,
   "metadata": {},
   "outputs": [
    {
     "name": "stderr",
     "output_type": "stream",
     "text": [
      "INFO - [EnrichmentWorker] - Starting video processing for /Users/rolandteslaru/Desktop/ZeruelNet/packages/DataEnrichment/tmp/video/7520243908438134038.mp4\n",
      "INFO - [EnrichmentWorker] - AFC is enabled with max remote calls: 10.\n",
      "INFO - [EnrichmentWorker] - HTTP Request: POST https://aiplatform.googleapis.com/v1beta1/projects/zeruel-ney/locations/global/publishers/google/models/gemini-2.5-flash-lite:generateContent \"HTTP/1.1 200 OK\"\n",
      "INFO - [EnrichmentWorker] - AFC remote call 1 is done.\n",
      "INFO - [EnrichmentWorker] - VIDEO Analysis result {'summary': \"The video alleges that Romania is considering selling its strategic Port of Constanța to fund Ukraine's reconstruction. It questions the wisdom of this decision, framing it as potentially detrimental to Romania's national interests and sovereignty, especially during a global crisis. The speaker implies that this move might be driven by external geopolitical interests rather than Romania's own benefit, asking whether Romania should help at any cost, even at the expense of its future, or prioritize its national interests.\", 'identified_subjects': [{'subject': 'romania', 'stance': -0.8}, {'subject': 'ukraine', 'stance': 0.5}, {'subject': 'european union', 'stance': -0.7}, {'subject': 'national sovereignty', 'stance': -0.9}], 'overall_alignment': -0.95}\n"
     ]
    },
    {
     "data": {
      "text/plain": [
       "{'summary': \"The video alleges that Romania is considering selling its strategic Port of Constanța to fund Ukraine's reconstruction. It questions the wisdom of this decision, framing it as potentially detrimental to Romania's national interests and sovereignty, especially during a global crisis. The speaker implies that this move might be driven by external geopolitical interests rather than Romania's own benefit, asking whether Romania should help at any cost, even at the expense of its future, or prioritize its national interests.\",\n",
       " 'identified_subjects': [{'subject': 'romania', 'stance': -0.8},\n",
       "  {'subject': 'ukraine', 'stance': 0.5},\n",
       "  {'subject': 'european union', 'stance': -0.7},\n",
       "  {'subject': 'national sovereignty', 'stance': -0.9}],\n",
       " 'overall_alignment': -0.95}"
      ]
     },
     "execution_count": 6,
     "metadata": {},
     "output_type": "execute_result"
    }
   ],
   "source": [
    "analysis_result_json = VideoProcessor.process(video_path, transcript, sentiment_results, description)\n",
    "analysis_result_json"
   ]
  },
  {
   "cell_type": "code",
   "execution_count": 7,
   "metadata": {},
   "outputs": [
    {
     "name": "stdout",
     "output_type": "stream",
     "text": [
      "llm_overall_alignment: -0.95 \n",
      "final_alignment: -0.7701530612244897 \n",
      "deterministic_alignment: -0.23061224489795915 \n",
      "alignment_conflict: 0.7193877551020408\n"
     ]
    }
   ],
   "source": [
    "identified_subjects = analysis_result_json[\"identified_subjects\"]\n",
    "llm_overall_alignment = analysis_result_json[\"overall_alignment\"]\n",
    "final_alignment, deterministic_alignment, alignment_conflict = AlignmentCalculator.calculate(identified_subjects, llm_overall_alignment, alpha=0.25)\n",
    "print(f\"llm_overall_alignment: {llm_overall_alignment} \\nfinal_alignment: {final_alignment} \\ndeterministic_alignment: {deterministic_alignment} \\nalignment_conflict: {alignment_conflict}\")"
   ]
  }
 ],
 "metadata": {
  "kernelspec": {
   "display_name": "venv",
   "language": "python",
   "name": "python3"
  },
  "language_info": {
   "codemirror_mode": {
    "name": "ipython",
    "version": 3
   },
   "file_extension": ".py",
   "mimetype": "text/x-python",
   "name": "python",
   "nbconvert_exporter": "python",
   "pygments_lexer": "ipython3",
   "version": "3.13.5"
  }
 },
 "nbformat": 4,
 "nbformat_minor": 2
}
