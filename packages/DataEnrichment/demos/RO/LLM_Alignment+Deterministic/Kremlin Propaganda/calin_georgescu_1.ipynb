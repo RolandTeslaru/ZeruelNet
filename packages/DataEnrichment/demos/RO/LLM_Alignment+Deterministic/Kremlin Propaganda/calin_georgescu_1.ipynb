{
 "cells": [
  {
   "cell_type": "code",
   "execution_count": 1,
   "metadata": {},
   "outputs": [
    {
     "name": "stderr",
     "output_type": "stream",
     "text": [
      "/Users/rolandteslaru/Desktop/ZeruelNet/packages/DataEnrichment/venv/lib/python3.13/site-packages/tqdm/auto.py:21: TqdmWarning: IProgress not found. Please update jupyter and ipywidgets. See https://ipywidgets.readthedocs.io/en/stable/user_install.html\n",
      "  from .autonotebook import tqdm as notebook_tqdm\n"
     ]
    }
   ],
   "source": [
    "import sys\n",
    "import os\n",
    "import logging\n",
    "import json\n",
    "from dotenv import load_dotenv\n",
    "\n",
    "# Change cwd to the DataEnrichment root folder\n",
    "data_enrichment_root_path = os.path.abspath(os.path.join(os.getcwd(), \"..\", \"..\", \"..\"))\n",
    "os.chdir(data_enrichment_root_path)\n",
    "\n",
    "if data_enrichment_root_path not in sys.path:\n",
    "    sys.path.append(data_enrichment_root_path)\n",
    "\n",
    "load_dotenv()\n",
    "\n",
    "import db\n",
    "from worker import process\n",
    "from utils import download\n",
    "from utils.get_video_description import get_video_description\n",
    "from AudioProcessor.transcriber import transcribe_audio\n",
    "from AudioProcessor.sentiment import SentimentAnalyzer\n",
    "import AlignmentCalculator\n",
    "import VideoProcessor\n",
    "import AudioProcessor"
   ]
  },
  {
   "cell_type": "code",
   "execution_count": 2,
   "metadata": {},
   "outputs": [
    {
     "name": "stderr",
     "output_type": "stream",
     "text": [
      "INFO - [EnrichmentWorker] - Successfully Connected to Database\n"
     ]
    }
   ],
   "source": [
    "db_conn = db.get_connection()\n",
    "video_id = \"7520882134135868695\""
   ]
  },
  {
   "cell_type": "code",
   "execution_count": 3,
   "metadata": {},
   "outputs": [],
   "source": [
    "video_path = os.path.abspath(\"./tmp/video/7520882134135868695.mp4\")\n",
    "audio_path = os.path.abspath(\"./tmp/video/7520882134135868695.wav\")\n",
    "\n",
    "transcript = \"\"\"\n",
    "Călin Georgescu este născut în ziua de 26 sub arhetipul împăratului.\n",
    " Nu este întâmplător că el vorbește despre ordine și adevăr.\n",
    " Este un destin care cere viziune, putere și disciplină.\n",
    " Dar în umbră apare conflictul cu autoritățile și lupta între adevăr și control.\n",
    " Tu ce crezi? Călin Georgescu este un lider sau un luptător cu sistemul?\n",
    " Dacă vrei să afli ziua ta de naștere, intră pe site-ul meu www.ralucaleahu.ro unde găsești karma zilei tale de naștere.\n",
    "\"\"\"\n",
    "\n",
    "sentiment_results = {\n",
    "    'positive': 0.4230826497077942,\n",
    "    'neutral': 0.0,\n",
    "    'negative': 0.5769173502922058\n",
    " }\n",
    "\n",
    "description = \"\"\"\n",
    " 🎯 Călin Georgescu s-a născut sub arhetipul Împăratului. O zi care cere ordine, autoritate, viziune. Dar și o karmă grea: să nu abuzezi de putere și să-ți supui ego-ul Adevărului. 👁\\u200d🗨 În umbră, apare lupta cu autoritățile și conflictul dintre vocea interioară și sistem. ❓Tu ce vezi în el? Un lider? Sau un luptător cu sistemul? 👇 Lasă-mi părerea ta. 🔗 Și intră pe  https://www.ralucaleahu.ro/  să descoperi karma zilei tale de naștere. #ralucaleahu #calingeorgescupresedinte #suveranitate #foryiurpage #tiktokromania🇷🇴 #tarot\n",
    " \"\"\""
   ]
  },
  {
   "cell_type": "code",
   "execution_count": 4,
   "metadata": {},
   "outputs": [
    {
     "name": "stderr",
     "output_type": "stream",
     "text": [
      "INFO - [EnrichmentWorker] - Starting video processing for /Users/rolandteslaru/Desktop/ZeruelNet/packages/DataEnrichment/tmp/video/7520882134135868695.mp4\n",
      "INFO - [EnrichmentWorker] - AFC is enabled with max remote calls: 10.\n",
      "INFO - [EnrichmentWorker] - HTTP Request: POST https://aiplatform.googleapis.com/v1beta1/projects/zeruel-ney/locations/global/publishers/google/models/gemini-2.5-flash-lite:generateContent \"HTTP/1.1 200 OK\"\n",
      "INFO - [EnrichmentWorker] - AFC remote call 1 is done.\n",
      "INFO - [EnrichmentWorker] - VIDEO Analysis result {'summary': \"The video discusses Călin Georgescu, stating he was born under the Emperor archetype, which signifies a need for order, authority, and vision. It alleges that his destiny requires him to avoid abusing power and to submit his ego to truth. The video suggests that in his 'shadow,' Georgescu faces conflict with authorities and a struggle between his inner voice and the system. It poses the question of whether he is a leader or a fighter against the system and invites viewer opinions. The speaker also promotes their website for discovering the karma of one's birth day.\", 'identified_subjects': [{'subject': 'calin georgescu', 'stance': 0.8}, {'subject': 'fighter against the system', 'stance': -1.0}, {'subject': 'leader', 'stance': 0.0}], 'overall_alignment': -0.9}\n"
     ]
    },
    {
     "data": {
      "text/plain": [
       "{'summary': \"The video discusses Călin Georgescu, stating he was born under the Emperor archetype, which signifies a need for order, authority, and vision. It alleges that his destiny requires him to avoid abusing power and to submit his ego to truth. The video suggests that in his 'shadow,' Georgescu faces conflict with authorities and a struggle between his inner voice and the system. It poses the question of whether he is a leader or a fighter against the system and invites viewer opinions. The speaker also promotes their website for discovering the karma of one's birth day.\",\n",
       " 'identified_subjects': [{'subject': 'calin georgescu', 'stance': 0.8},\n",
       "  {'subject': 'fighter against the system', 'stance': -1.0},\n",
       "  {'subject': 'leader', 'stance': 0.0}],\n",
       " 'overall_alignment': -0.9}"
      ]
     },
     "execution_count": 4,
     "metadata": {},
     "output_type": "execute_result"
    }
   ],
   "source": [
    "analysis_result_json = VideoProcessor.process(video_path, transcript, sentiment_results, description)\n",
    "analysis_result_json"
   ]
  },
  {
   "cell_type": "code",
   "execution_count": 5,
   "metadata": {},
   "outputs": [
    {
     "name": "stdout",
     "output_type": "stream",
     "text": [
      "llm_overall_alignment: -0.9 \n",
      "final_alignment: -0.7250000000000001 \n",
      "deterministic_alignment: -0.20000000000000004 \n",
      "alignment_conflict: 0.7\n"
     ]
    }
   ],
   "source": [
    "identified_subjects = analysis_result_json[\"identified_subjects\"]\n",
    "llm_overall_alignment = analysis_result_json[\"overall_alignment\"]\n",
    "final_alignment, deterministic_alignment, alignment_conflict = AlignmentCalculator.calculate(identified_subjects, llm_overall_alignment, alpha=0.25)\n",
    "print(f\"llm_overall_alignment: {llm_overall_alignment} \\nfinal_alignment: {final_alignment} \\ndeterministic_alignment: {deterministic_alignment} \\nalignment_conflict: {alignment_conflict}\")"
   ]
  }
 ],
 "metadata": {
  "kernelspec": {
   "display_name": "venv",
   "language": "python",
   "name": "python3"
  },
  "language_info": {
   "codemirror_mode": {
    "name": "ipython",
    "version": 3
   },
   "file_extension": ".py",
   "mimetype": "text/x-python",
   "name": "python",
   "nbconvert_exporter": "python",
   "pygments_lexer": "ipython3",
   "version": "3.13.5"
  }
 },
 "nbformat": 4,
 "nbformat_minor": 2
}
