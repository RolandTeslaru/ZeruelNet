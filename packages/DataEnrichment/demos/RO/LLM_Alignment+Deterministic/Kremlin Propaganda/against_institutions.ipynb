{
 "cells": [
  {
   "cell_type": "code",
   "execution_count": 1,
   "metadata": {},
   "outputs": [
    {
     "name": "stderr",
     "output_type": "stream",
     "text": [
      "/Users/rolandteslaru/Desktop/ZeruelNet/packages/DataEnrichment/venv/lib/python3.13/site-packages/tqdm/auto.py:21: TqdmWarning: IProgress not found. Please update jupyter and ipywidgets. See https://ipywidgets.readthedocs.io/en/stable/user_install.html\n",
      "  from .autonotebook import tqdm as notebook_tqdm\n"
     ]
    }
   ],
   "source": [
    "import sys\n",
    "import os\n",
    "import logging\n",
    "import json\n",
    "from dotenv import load_dotenv\n",
    "\n",
    "# Change cwd to the DataEnrichment root folder\n",
    "data_enrichment_root_path = os.path.abspath(os.path.join(os.getcwd(), \"..\", \"..\", \"..\", \"..\"))\n",
    "os.chdir(data_enrichment_root_path)\n",
    "\n",
    "if data_enrichment_root_path not in sys.path:\n",
    "    sys.path.append(data_enrichment_root_path)\n",
    "\n",
    "load_dotenv()\n",
    "\n",
    "import db\n",
    "from worker import process\n",
    "from utils import download\n",
    "from utils.get_video_description import get_video_description\n",
    "from AudioProcessor.transcriber import transcribe_audio\n",
    "from AudioProcessor.sentiment import SentimentAnalyzer\n",
    "import AlignmentCalculator\n",
    "import VideoProcessor\n",
    "import AudioProcessor"
   ]
  },
  {
   "cell_type": "code",
   "execution_count": 2,
   "metadata": {},
   "outputs": [
    {
     "name": "stderr",
     "output_type": "stream",
     "text": [
      "INFO - [EnrichmentWorker] - Successfully Connected to Database\n"
     ]
    }
   ],
   "source": [
    "db_conn = db.get_connection()\n",
    "video_id = \"7526924411681656086\""
   ]
  },
  {
   "cell_type": "code",
   "execution_count": 3,
   "metadata": {},
   "outputs": [],
   "source": [
    "video_path = os.path.abspath(f\"./tmp/video/{video_id}.mp4\")\n",
    "audio_path = os.path.abspath(f\"./tmp/video/{video_id}.wav\")\n",
    "\n",
    "transcript = \"\"\"\n",
    "This is where we hold them, this is where we fight, this is where they die, as these shields fall.\n",
    "\"\"\"\n",
    "\n",
    "sentiment_results = {\n",
    "    'positive': 0.01686652,\n",
    "    'neutral': 0.2764731,\n",
    "    'negative':0.70666033\n",
    " }\n",
    "\n",
    "description = '#doamneajuta #🙏❤️🇷🇴 #@calin.georgescu.real #suveranitate #romania #fyp #OnoaresiRespect🙏❤️🇷🇴 '"
   ]
  },
  {
   "cell_type": "code",
   "execution_count": 4,
   "metadata": {},
   "outputs": [
    {
     "name": "stderr",
     "output_type": "stream",
     "text": [
      "INFO - [EnrichmentWorker] - Starting video processing for /Users/rolandteslaru/Desktop/ZeruelNet/packages/DataEnrichment/tmp/video/7526924411681656086.mp4\n",
      "INFO - [EnrichmentWorker] - AFC is enabled with max remote calls: 10.\n",
      "INFO - [EnrichmentWorker] - HTTP Request: POST https://aiplatform.googleapis.com/v1beta1/projects/zeruel-ney/locations/global/publishers/google/models/gemini-2.5-flash-lite:generateContent \"HTTP/1.1 200 OK\"\n",
      "INFO - [EnrichmentWorker] - AFC remote call 1 is done.\n",
      "INFO - [EnrichmentWorker] - VIDEO Analysis result {'summary': 'The video alleges that on July 14, 2025, Romania was not honest, and on July 20, 2025, Bogdan Peschir was arrested for donations in Bucharest. It further claims that Stegarul Dac was arrested for waving the Romanian flag and that Călin Georgescu was annulled by the CCR and blocked by BEC. The video questions whether this is the Romania people want, asking how much more can be accepted and why Romanians cannot stand up for themselves, concluding with a call for \"DEMISIA\" (Resignation).', 'identified_subjects': [{'subject': 'calin georgescu', 'stance': -1.0}, {'subject': 'romania', 'stance': -1.0}, {'subject': 'national sovereignty', 'stance': -1.0}, {'subject': 'ccr', 'stance': -1.0}, {'subject': 'bogdan peschir', 'stance': -1.0}], 'overall_alignment': -1.0}\n"
     ]
    },
    {
     "data": {
      "text/plain": [
       "{'summary': 'The video alleges that on July 14, 2025, Romania was not honest, and on July 20, 2025, Bogdan Peschir was arrested for donations in Bucharest. It further claims that Stegarul Dac was arrested for waving the Romanian flag and that Călin Georgescu was annulled by the CCR and blocked by BEC. The video questions whether this is the Romania people want, asking how much more can be accepted and why Romanians cannot stand up for themselves, concluding with a call for \"DEMISIA\" (Resignation).',\n",
       " 'identified_subjects': [{'subject': 'calin georgescu', 'stance': -1.0},\n",
       "  {'subject': 'romania', 'stance': -1.0},\n",
       "  {'subject': 'national sovereignty', 'stance': -1.0},\n",
       "  {'subject': 'ccr', 'stance': -1.0},\n",
       "  {'subject': 'bogdan peschir', 'stance': -1.0}],\n",
       " 'overall_alignment': -1.0}"
      ]
     },
     "execution_count": 4,
     "metadata": {},
     "output_type": "execute_result"
    }
   ],
   "source": [
    "analysis_result_json = VideoProcessor.process(video_path, transcript, sentiment_results, description)\n",
    "analysis_result_json"
   ]
  },
  {
   "cell_type": "code",
   "execution_count": 5,
   "metadata": {},
   "outputs": [
    {
     "name": "stdout",
     "output_type": "stream",
     "text": [
      "llm_overall_alignment: -1.0 \n",
      "final_alignment: 0.9879518072289156 \n",
      "deterministic_alignment: 0.9879518072289156 \n",
      "alignment_conflict: 1.9879518072289155\n"
     ]
    }
   ],
   "source": [
    "identified_subjects = analysis_result_json[\"identified_subjects\"]\n",
    "llm_overall_alignment = analysis_result_json[\"overall_alignment\"]\n",
    "final_alignment, deterministic_alignment, alignment_conflict = AlignmentCalculator.calculate(identified_subjects, llm_overall_alignment, alpha=0.25)\n",
    "print(f\"llm_overall_alignment: {llm_overall_alignment} \\nfinal_alignment: {final_alignment} \\ndeterministic_alignment: {deterministic_alignment} \\nalignment_conflict: {alignment_conflict}\")"
   ]
  }
 ],
 "metadata": {
  "kernelspec": {
   "display_name": "venv",
   "language": "python",
   "name": "python3"
  },
  "language_info": {
   "codemirror_mode": {
    "name": "ipython",
    "version": 3
   },
   "file_extension": ".py",
   "mimetype": "text/x-python",
   "name": "python",
   "nbconvert_exporter": "python",
   "pygments_lexer": "ipython3",
   "version": "3.13.5"
  }
 },
 "nbformat": 4,
 "nbformat_minor": 2
}
