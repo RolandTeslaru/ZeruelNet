{
 "cells": [
  {
   "cell_type": "code",
   "execution_count": 1,
   "metadata": {},
   "outputs": [
    {
     "name": "stderr",
     "output_type": "stream",
     "text": [
      "/Users/rolandteslaru/Desktop/ZeruelNet/packages/DataEnrichment/venv/lib/python3.13/site-packages/tqdm/auto.py:21: TqdmWarning: IProgress not found. Please update jupyter and ipywidgets. See https://ipywidgets.readthedocs.io/en/stable/user_install.html\n",
      "  from .autonotebook import tqdm as notebook_tqdm\n"
     ]
    }
   ],
   "source": [
    "import sys\n",
    "import os\n",
    "import logging\n",
    "import json\n",
    "from dotenv import load_dotenv\n",
    "\n",
    "# Change cwd to the DataEnrichment root folder\n",
    "data_enrichment_root_path = os.path.abspath(os.path.join(os.getcwd(), \"..\", \"..\", \"..\"))\n",
    "os.chdir(data_enrichment_root_path)\n",
    "\n",
    "if data_enrichment_root_path not in sys.path:\n",
    "    sys.path.append(data_enrichment_root_path)\n",
    "\n",
    "load_dotenv()\n",
    "\n",
    "import db\n",
    "from worker import process\n",
    "from utils import download\n",
    "from utils.get_video_description import get_video_description\n",
    "from AudioProcessor.transcriber import transcribe_audio\n",
    "from AudioProcessor.sentiment import SentimentAnalyzer\n",
    "import AlignmentCalculator\n",
    "import VideoProcessor\n",
    "import AudioProcessor"
   ]
  },
  {
   "cell_type": "code",
   "execution_count": 2,
   "metadata": {},
   "outputs": [
    {
     "name": "stderr",
     "output_type": "stream",
     "text": [
      "INFO - [EnrichmentWorker] - Successfully Connected to Database\n"
     ]
    }
   ],
   "source": [
    "db_conn = db.get_connection()\n",
    "video_id = \"7478689689231248662\""
   ]
  },
  {
   "cell_type": "code",
   "execution_count": 3,
   "metadata": {},
   "outputs": [],
   "source": [
    "video_path = os.path.abspath(\"./tmp/video/7478689689231248662.mp4\")\n",
    "audio_path = os.path.abspath(\"./tmp/video/7478689689231248662.wav\")\n",
    "\n",
    "transcript = \"\"\"\n",
    "România cedează spațiul aerian aliaților?\n",
    "Greșit!\n",
    "Ce se întâmplă de fapt?\n",
    "Noua lege nu cedează controlul asupra spațiului aerian,\n",
    "ci stabilește măsuri clare pentru apărarea acestuia\n",
    "împotriva dronelor și altor amenințări.\n",
    "Spațiul aerian național este integrat în spațiul aerian al NATO.\n",
    "Încă de acum 20 de ani, odată cu aderarea României la alianță,\n",
    "integrarea spațiilor aeriene ale aliaților\n",
    "este în conformitate cu tratatele la care România este parte.\n",
    "Degeaba permite intervenția rapidă pentru distrugerea,\n",
    "neutralizarea și preluarea controlului asupra dronelor\n",
    "care încalcă spațiul aerian.\n",
    "Toate deciziile se iau în funcție de nivelul amenințării\n",
    "și protejarea vieții civile este prioritară.\n",
    "România nu pierde controlul asupra spațiului său aerian.\n",
    "Oferă aliaților cadrul legal să ne sprijine\n",
    "la solicitarea noastră să doborâm dronele.\n",
    "Nu e haos, nu e pierdere de suveranitate.\n",
    "România rămâne la butoane și își poate impune oricând restricții.\n",
    "Siguranță, nu cedare.\n",
    "Citește legea, informează-te corect și nu pica în capcana dezinformării.\n",
    "Dacă ai întrebări, lasă-o în comentariu și hai să combatem împreună dezinformarea.\n",
    "\"\"\"\n",
    "\n",
    "sentiment_results = {\n",
    "    'positive': 0.06084238737821579,\n",
    "    'neutral': 0.0,\n",
    "    'negative': 0.9391575455665588\n",
    " }\n",
    "description = '#MinisterulAparariiNationale #Romania #Securitate #Suveranitate #StopFakeNews #RomaniaPuternica 🇷🇴'"
   ]
  },
  {
   "cell_type": "code",
   "execution_count": 4,
   "metadata": {},
   "outputs": [
    {
     "name": "stderr",
     "output_type": "stream",
     "text": [
      "INFO - [EnrichmentWorker] - Starting video processing for /Users/rolandteslaru/Desktop/ZeruelNet/packages/DataEnrichment/tmp/video/7478689689231248662.mp4\n",
      "INFO - [EnrichmentWorker] - AFC is enabled with max remote calls: 10.\n",
      "INFO - [EnrichmentWorker] - HTTP Request: POST https://aiplatform.googleapis.com/v1beta1/projects/zeruel-ney/locations/global/publishers/google/models/gemini-2.5-flash-lite:generateContent \"HTTP/1.1 200 OK\"\n",
      "INFO - [EnrichmentWorker] - AFC remote call 1 is done.\n",
      "INFO - [EnrichmentWorker] - VIDEO Analysis result {'summary': \"The video addresses the question of whether Romania is ceding its airspace to allies, stating that this is incorrect. It clarifies that a new law establishes measures for defending national airspace against drones and other threats, integrating it with NATO's airspace. The video emphasizes that Romania retains control, can impose restrictions, and that the law provides a legal framework for allies to assist Romania in downing drones when requested, prioritizing civilian safety. It encourages viewers to read the law and avoid disinformation.\", 'identified_subjects': [{'subject': 'romania', 'stance': 0.8}, {'subject': 'nato', 'stance': 0.8}], 'overall_alignment': 0.9}\n"
     ]
    },
    {
     "data": {
      "text/plain": [
       "{'summary': \"The video addresses the question of whether Romania is ceding its airspace to allies, stating that this is incorrect. It clarifies that a new law establishes measures for defending national airspace against drones and other threats, integrating it with NATO's airspace. The video emphasizes that Romania retains control, can impose restrictions, and that the law provides a legal framework for allies to assist Romania in downing drones when requested, prioritizing civilian safety. It encourages viewers to read the law and avoid disinformation.\",\n",
       " 'identified_subjects': [{'subject': 'romania', 'stance': 0.8},\n",
       "  {'subject': 'nato', 'stance': 0.8}],\n",
       " 'overall_alignment': 0.9}"
      ]
     },
     "execution_count": 4,
     "metadata": {},
     "output_type": "execute_result"
    }
   ],
   "source": [
    "analysis_result_json = VideoProcessor.process(video_path, transcript, sentiment_results, description)\n",
    "analysis_result_json"
   ]
  },
  {
   "cell_type": "code",
   "execution_count": 5,
   "metadata": {},
   "outputs": [
    {
     "name": "stdout",
     "output_type": "stream",
     "text": [
      "llm_overall_alignment: 0.9 \n",
      "final_alignment: 0.8750000000000001 \n",
      "deterministic_alignment: 0.8000000000000002 \n",
      "alignment_conflict: 0.09999999999999987\n"
     ]
    }
   ],
   "source": [
    "identified_subjects = analysis_result_json[\"identified_subjects\"]\n",
    "llm_overall_alignment = analysis_result_json[\"overall_alignment\"]\n",
    "final_alignment, deterministic_alignment, alignment_conflict = AlignmentCalculator.calculate(identified_subjects, llm_overall_alignment, alpha=0.25)\n",
    "print(f\"llm_overall_alignment: {llm_overall_alignment} \\nfinal_alignment: {final_alignment} \\ndeterministic_alignment: {deterministic_alignment} \\nalignment_conflict: {alignment_conflict}\")"
   ]
  }
 ],
 "metadata": {
  "kernelspec": {
   "display_name": "venv",
   "language": "python",
   "name": "python3"
  },
  "language_info": {
   "codemirror_mode": {
    "name": "ipython",
    "version": 3
   },
   "file_extension": ".py",
   "mimetype": "text/x-python",
   "name": "python",
   "nbconvert_exporter": "python",
   "pygments_lexer": "ipython3",
   "version": "3.13.5"
  }
 },
 "nbformat": 4,
 "nbformat_minor": 2
}
