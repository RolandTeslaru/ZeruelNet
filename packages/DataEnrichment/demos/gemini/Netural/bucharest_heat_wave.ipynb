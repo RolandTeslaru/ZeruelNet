{
 "cells": [
  {
   "cell_type": "code",
   "execution_count": 1,
   "metadata": {},
   "outputs": [
    {
     "name": "stderr",
     "output_type": "stream",
     "text": [
      "/Users/rolandteslaru/Desktop/ZeruelNet/packages/DataEnrichment/venv/lib/python3.13/site-packages/tqdm/auto.py:21: TqdmWarning: IProgress not found. Please update jupyter and ipywidgets. See https://ipywidgets.readthedocs.io/en/stable/user_install.html\n",
      "  from .autonotebook import tqdm as notebook_tqdm\n"
     ]
    }
   ],
   "source": [
    "import sys\n",
    "import os\n",
    "import logging\n",
    "import json\n",
    "from dotenv import load_dotenv\n",
    "\n",
    "# Change cwd to the DataEnrichment root folder\n",
    "data_enrichment_root_path = os.path.abspath(os.path.join(os.getcwd(), \"..\", \"..\", \"..\"))\n",
    "os.chdir(data_enrichment_root_path)\n",
    "\n",
    "if data_enrichment_root_path not in sys.path:\n",
    "    sys.path.append(data_enrichment_root_path)\n",
    "\n",
    "load_dotenv()\n",
    "\n",
    "import db\n",
    "from worker import process\n",
    "from utils import download\n",
    "from utils.get_video_description import get_video_description\n",
    "from AudioProcessor.transcriber import transcribe_audio\n",
    "from AudioProcessor.sentiment import SentimentAnalyzer\n",
    "import VideoProcessor\n",
    "import AlignmentCalculator\n",
    "import AudioProcessor"
   ]
  },
  {
   "cell_type": "code",
   "execution_count": 2,
   "metadata": {},
   "outputs": [
    {
     "name": "stderr",
     "output_type": "stream",
     "text": [
      "INFO - [EnrichmentWorker] - Successfully Connected to Database\n"
     ]
    }
   ],
   "source": [
    "db_conn = db.get_connection()\n",
    "video_id = \"7528105592339090710\""
   ]
  },
  {
   "cell_type": "code",
   "execution_count": 3,
   "metadata": {},
   "outputs": [],
   "source": [
    "video_path = os.path.abspath(\"./tmp/video/7528105592339090710.mp4\")\n",
    "audio_path = os.path.abspath(\"./tmp/video/7528105592339090710.wav\")\n",
    "\n",
    "transcript = \"\"\"\n",
    "Capitala a fost măturată în urmă cu două ore de o vijelie adusă de un codroșu.\n",
    " Populația a fost avertizată prin mesaj rău alert să se adăpostească.\n",
    " Însă, din păcate, o femeie de 49 de ani din Otopen a fost lovită de resturile unui acoperiș smuls de vânt și a murit.\n",
    " Daniel Nițoi, oara mănunte. Bună seara, Daniel!\n",
    " Bună seara, Oana! Bună seara, doamnelor și domnilor!\n",
    " Incidentul s-a petrecut într-o zonă de case din orașul Otopen.\n",
    " Este vorba de un cartier situat la aproximativ un kilometru de aeroportul Otopen.\n",
    " Din primele informații, rafalele puternice de vânt au smuls acoperișul unei case vecine\n",
    " și l-au prăvălit peste o altă casă din vecinătate în care se afla această femeie, biată femeie.\n",
    " Nici nu știa ce i s-a întâmplat. Pur și simplu, resturile au zdrobit-o, se pare, în interior.\n",
    " Salvatorii care au ajuns la fața locului nu au putut decât să constate decesul.\n",
    " Vorbim de o vijelie.\n",
    " Scată din senin, oana sunt peste tot în București.\n",
    " Astfel de copaci căzuți, rupti de vânt, prăvăliți peste zeci, poate sute de autoturisme.\n",
    " Peste tot, pompieri încearcă să intervină.\n",
    " Vorbim de o celulă foarte puternică, spun meteorologii, care s-a format în vestul capitalei.\n",
    " A traversat orașul către sud, iar acum cod roșu de vijelii avem în județele învecinate\n",
    " pentru că această furtună se îndreaptă către Brăila, către Ialomita,\n",
    " către Călăraș și acolo s-ar putea să vorbim de pagube.\n",
    " În zona Otopeni, acolo unde a lovit prima dată această vijelie,\n",
    " sunt 15 avioane care așteptau să aterizeze.\n",
    " Această procedură a fost amânată până când rafalele de vânt au scăzut.\n",
    " Vă spuneam, meteorologii au măsurat la stațiile meteo 90 de km pe oră.\n",
    " Este o viteză foarte mare a vântului.\n",
    " Astfel de vijelii se pot isca din senin și în zilele următoare\n",
    " spun meteorologii.\n",
    " Vorbim de o altă femeie care a fost și ea lovită de o creangă,\n",
    " se pare cel puțin așa, spun apelurile la 112,\n",
    " pentru că au fost foarte multe apeluri la 112.\n",
    " Oamenii au sunat panicați când au văzut că cerul se întunecă brusc.\n",
    " Era o alertă de cod roșu pentru că vorbeam și de posibilitatea\n",
    " să cadă grindină de mari dimensiuni,\n",
    " vorbim de bucăți de gheață de 5 cm peste tot prețele de socializare\n",
    " au apărut foarte multe clipuri cu oameni care s-au speriat în propriile case\n",
    " când au văzut furia cu care s-a dezlănțuit vijelia.\n",
    " Vântul a bătut atât de tare, au fost oameni care n-au apucat\n",
    " să se adăpostească chiar dacă au primit mesajele ro-alert.\n",
    " Vorbim de o oră la care orașul era plin de oameni,\n",
    " iar cei care au fost surprinși pe străzi, pe trotoare, pur și simplu păreau\n",
    " că sunt luați pe sus de rafalele puternice de vânt, sunt imagini în care oamenii se țin\n",
    " de stâlpi, de copaci, sunt imagini cu rafalele de vânt care au luat pur și simplu scaune\n",
    " sau elemente de mobilier de pe la terase. Încă se evaluează pagubele.\n",
    "\"\"\"\n",
    "\n",
    "sentiment_results = {\n",
    "    'positive': 0.062060002237558365,\n",
    "    'neutral': 0.0,\n",
    "    'negative': 0.9379400014877319\n",
    " }\n",
    "description = 'Capitala a fost măturată de o vijelie, adusă de un cod roșu. Populația a fost avertizată prin mesaje RO-Alert să se adăpostească, însă din păcate o femeie de 49 de ani din Otopeni a fost lovită de resturile unui acoperiș smuls de vânt și a murit. #stirileprotvdeastazi #news #stiri #protv #stirileprotv'"
   ]
  },
  {
   "cell_type": "code",
   "execution_count": 4,
   "metadata": {},
   "outputs": [
    {
     "name": "stderr",
     "output_type": "stream",
     "text": [
      "INFO - [EnrichmentWorker] - Starting video processing for /Users/rolandteslaru/Desktop/ZeruelNet/packages/DataEnrichment/tmp/video/7528105592339090710.mp4\n",
      "INFO - [EnrichmentWorker] - AFC is enabled with max remote calls: 10.\n",
      "INFO - [EnrichmentWorker] - HTTP Request: POST https://aiplatform.googleapis.com/v1beta1/projects/zeruel-ney/locations/global/publishers/google/models/gemini-2.5-flash-lite:generateContent \"HTTP/1.1 200 OK\"\n",
      "INFO - [EnrichmentWorker] - AFC remote call 1 is done.\n",
      "INFO - [EnrichmentWorker] - VIDEO Analysis result {'summary': \"The video reports on a severe storm with red code warnings in Bucharest, Romania, which caused significant damage, including a fatal incident where a woman died after a roof was blown onto her house. The report details the storm's intensity, the warnings issued, and the widespread impact, such as fallen trees and damaged vehicles, while also mentioning the storm's path towards other counties and its effect on airport operations.\", 'identified_subjects': [{'subject': 'romania', 'stance': 0.0}], 'overall_alignment': 0.0}\n"
     ]
    },
    {
     "data": {
      "text/plain": [
       "{'summary': \"The video reports on a severe storm with red code warnings in Bucharest, Romania, which caused significant damage, including a fatal incident where a woman died after a roof was blown onto her house. The report details the storm's intensity, the warnings issued, and the widespread impact, such as fallen trees and damaged vehicles, while also mentioning the storm's path towards other counties and its effect on airport operations.\",\n",
       " 'identified_subjects': [{'subject': 'romania', 'stance': 0.0}],\n",
       " 'overall_alignment': 0.0}"
      ]
     },
     "execution_count": 4,
     "metadata": {},
     "output_type": "execute_result"
    }
   ],
   "source": [
    "analysis_result_json = VideoProcessor.process(video_path, transcript, sentiment_results, description)\n",
    "analysis_result_json"
   ]
  },
  {
   "cell_type": "code",
   "execution_count": 5,
   "metadata": {},
   "outputs": [
    {
     "name": "stdout",
     "output_type": "stream",
     "text": [
      "llm_overall_alignment: 0.0 \n",
      "final_alignment: 0.0 \n",
      "deterministic_alignment: 0.0 \n",
      "alignment_conflict: 0.0\n"
     ]
    }
   ],
   "source": [
    "identified_subjects = analysis_result_json[\"identified_subjects\"]\n",
    "llm_overall_alignment = analysis_result_json[\"overall_alignment\"]\n",
    "final_alignment, deterministic_alignment, alignment_conflict = AlignmentCalculator.calculate(identified_subjects, llm_overall_alignment, alpha=0.25)\n",
    "print(f\"llm_overall_alignment: {llm_overall_alignment} \\nfinal_alignment: {final_alignment} \\ndeterministic_alignment: {deterministic_alignment} \\nalignment_conflict: {alignment_conflict}\")"
   ]
  }
 ],
 "metadata": {
  "kernelspec": {
   "display_name": "venv",
   "language": "python",
   "name": "python3"
  },
  "language_info": {
   "codemirror_mode": {
    "name": "ipython",
    "version": 3
   },
   "file_extension": ".py",
   "mimetype": "text/x-python",
   "name": "python",
   "nbconvert_exporter": "python",
   "pygments_lexer": "ipython3",
   "version": "3.13.5"
  }
 },
 "nbformat": 4,
 "nbformat_minor": 2
}
