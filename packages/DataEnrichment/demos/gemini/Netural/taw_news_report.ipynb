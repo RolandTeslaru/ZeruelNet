{
 "cells": [
  {
   "cell_type": "code",
   "execution_count": 1,
   "metadata": {},
   "outputs": [
    {
     "name": "stderr",
     "output_type": "stream",
     "text": [
      "/Users/rolandteslaru/Desktop/ZeruelNet/packages/DataEnrichment/venv/lib/python3.13/site-packages/tqdm/auto.py:21: TqdmWarning: IProgress not found. Please update jupyter and ipywidgets. See https://ipywidgets.readthedocs.io/en/stable/user_install.html\n",
      "  from .autonotebook import tqdm as notebook_tqdm\n"
     ]
    }
   ],
   "source": [
    "import sys\n",
    "import os\n",
    "import logging\n",
    "import json\n",
    "from dotenv import load_dotenv\n",
    "\n",
    "# Change cwd to the DataEnrichment root folder\n",
    "data_enrichment_root_path = os.path.abspath(os.path.join(os.getcwd(), \"..\", \"..\", \"..\"))\n",
    "os.chdir(data_enrichment_root_path)\n",
    "\n",
    "if data_enrichment_root_path not in sys.path:\n",
    "    sys.path.append(data_enrichment_root_path)\n",
    "\n",
    "load_dotenv()\n",
    "\n",
    "import db\n",
    "from worker import process\n",
    "from utils import download\n",
    "from utils.get_video_description import get_video_description\n",
    "from AudioProcessor.transcriber import transcribe_audio\n",
    "from AudioProcessor.sentiment import SentimentAnalyzer\n",
    "import VideoProcessor\n",
    "import AlignmentCalculator\n",
    "import AudioProcessor"
   ]
  },
  {
   "cell_type": "code",
   "execution_count": 2,
   "metadata": {},
   "outputs": [
    {
     "name": "stderr",
     "output_type": "stream",
     "text": [
      "INFO - [EnrichmentWorker] - Successfully Connected to Database\n"
     ]
    }
   ],
   "source": [
    "db_conn = db.get_connection()\n",
    "video_id = \"7528389380721904918\""
   ]
  },
  {
   "cell_type": "code",
   "execution_count": 3,
   "metadata": {},
   "outputs": [],
   "source": [
    "video_path = os.path.abspath(\"./tmp/video/7528389380721904918.mp4\")\n",
    "audio_path = os.path.abspath(\"./tmp/video/7528389380721904918.wav\")\n",
    "\n",
    "transcript = \"\"\"\n",
    "De la 1 ianuarie, impozitul pe proprietate va fi mai mare.\n",
    " Asta pentru că va fi calculat în funcție de valoarea de piață a locuinței\n",
    " și nu de cea veche înregistrată la primărie și neactualizată de ani de zile.\n",
    " Schimbarea va aduce mai mulți bani la buget,\n",
    " mai ales că România este țara din Uniunea Europeană cu cei mai mulți proprietari.\n",
    " Efectele vor fi resimțite de cei care au case și apartamente în orașe mari,\n",
    " precum București, Cluj-Napoca sau Iași, unde impozitele ar putea să se dubleze.\n",
    " Modificarea este o condiție asumată de România în PNRR.\n",
    " De la 1 ianuarie vom plăti impozit pe proprietate în funcție de valoarea de piață reală a locuinței.\n",
    " La guvern se lucrează în aceste zile la dezvoltarea aplicației e-Proprietatea,\n",
    " care va centraliza datele despre prețurile reale de tranzacționare ale proprietăților imobiliare.\n",
    " Informațiile vor ajunge într-un sistem centralizat controlat de Ministerul Finanțelor.\n",
    " Se va lucra cu hărți digitale, coordonate GPS, date cadastrale,\n",
    " imagini din satelit și detalii despre autorizațiile de construcție.\n",
    " Fiecare proprietate va avea un ID unic.\n",
    " Asociat CNP-ului sau CIF-ului proprietarului.\n",
    " Cea mai importantă schimbare se referă la modul de calcul al impozitelor.\n",
    " În prezent, cota este stabilită pe baza unor grile vechi de evaluare aflate la primărie,\n",
    " care nu reflectă mereu valoarea reală a proprietății.\n",
    " În sistemul e-Proprietate, evaluarea va fi făcută automat pe baza unor algoritmi\n",
    " care țin cont de prețurile cu care se vând locuințele pe piața imobiliară.\n",
    " De asemenea, vor fi luate în calcul, printre altele, și zona în care se află imobilul,\n",
    " accesul la utilități și starea juridică.\n",
    " Iar asta ar putea duce la o majorare substanțială a impozitelor.\n",
    " Experții spun că se poate ajunge la dublarea sau chiar triplarea lor.\n",
    " De exemplu, pentru un apartament cu două camere,\n",
    " achiziționat la finalul anului trecut pentru suma de 78.000 de euro situată în județul Ilfov,\n",
    " proprietarul a plătit un impozit de 241 de lei.\n",
    " Asta pentru că primăria i-a stabilit valoarea impozabilă de doar 40.000 de euro.\n",
    " O dată introdus în platformă, din calculul impozitorului,\n",
    " realizat cu ajutorul valorii reale a proprietății înregistrat la notar,\n",
    " ar urma să rezulte un impozit de 474 de lei, cu 233 de lei mai mult, adică o majorare cu 90%.\n",
    " Taxele locale pentru locuințe și mai ales case sunt divizorii.\n",
    " Trebuie să ne așteptăm la creșteri peste tot, eu zic între 50 și 100%.\n",
    " În orașele principale ale țării, cel puțin, la partea de locuințe, case și imobile,\n",
    " simtă o creștere mai mare.\n",
    " La guvern s-a creat un grup de lucru care pregătește implementarea platformei e-proprietatea,\n",
    " dar și modalitatea de calcul a impozitului.\n",
    " Pentru început ar urma să fie lansat un proiect pilot în următoarele luni\n",
    " în orașele cu cel mai mare număr de locuitori, București, Cluj-Napoca și Iași.\n",
    " Guvernul speră să strângă anual în plus 6 miliarde de lei doar din noul impozit pe proprietăți.\n",
    " Trebuie să facem reforma impozitolul pe proprietate, care va duce cu siguranță,\n",
    " la o creștere a impozitelor pe proprietate la persoanele fizice de la începutul anului viitor.\n",
    " Mi se pare corect să le spunem asta românilor.\n",
    " De ce? Pentru că avem o pondere foarte mică ai acestor impozite în veniturile statului.\n",
    " Conform Eurostat, în 2023, țara noastră avea cei mai mulți proprietari din Uniunea Europeană.\n",
    " 96% din familiile din România dețin o locuință.\n",
    "\"\"\"\n",
    "\n",
    "sentiment_results = {\n",
    "    'positive': 0.3146532475948334,\n",
    "    'neutral': 0.0,\n",
    "    'negative': 0.6853467226028442\n",
    " }\n",
    "description = 'De la 1 ianuarie, impozitul pe proprietate va fi mai mare, pentru că va fi calculat în funcție de valoarea de piață a locuinței și nu de cea veche, înregistrată la primărie și neactualizată de ani de zile. #stirileprotvdeastazi #news #stiri #protv\\xa0#stirileprotv'"
   ]
  },
  {
   "cell_type": "code",
   "execution_count": 4,
   "metadata": {},
   "outputs": [
    {
     "name": "stderr",
     "output_type": "stream",
     "text": [
      "INFO - [EnrichmentWorker] - Starting video processing for /Users/rolandteslaru/Desktop/ZeruelNet/packages/DataEnrichment/tmp/video/7528389380721904918.mp4\n",
      "INFO - [EnrichmentWorker] - AFC is enabled with max remote calls: 10.\n",
      "INFO - [EnrichmentWorker] - HTTP Request: POST https://aiplatform.googleapis.com/v1beta1/projects/zeruel-ney/locations/global/publishers/google/models/gemini-2.5-flash-lite:generateContent \"HTTP/1.1 200 OK\"\n",
      "INFO - [EnrichmentWorker] - AFC remote call 1 is done.\n",
      "INFO - [EnrichmentWorker] - VIDEO Analysis result {'summary': \"The video discusses upcoming changes to property tax in Romania, effective January 1st, where taxes will be calculated based on the property's market value rather than outdated registered values. This change, mandated by Romania's PNRR, is expected to increase tax revenue and potentially double taxes in major cities. The system will utilize a digital platform, e-Proprietatea, to centralize data from various sources, including cadastral information and satellite imagery, to determine property values. Experts predict significant tax increases, potentially between 50% and 100%, with a specific example showing a 90% increase for an apartment in Ilfov county. The government aims to collect an additional 6 billion lei annually from these new property taxes.\", 'identified_subjects': [{'subject': 'romania', 'stance': 0.5}, {'subject': 'european union', 'stance': 0.5}, {'subject': 'pnrr', 'stance': 0.5}, {'subject': 'taxes', 'stance': 0.5}], 'overall_alignment': 0.75}\n"
     ]
    },
    {
     "data": {
      "text/plain": [
       "{'summary': \"The video discusses upcoming changes to property tax in Romania, effective January 1st, where taxes will be calculated based on the property's market value rather than outdated registered values. This change, mandated by Romania's PNRR, is expected to increase tax revenue and potentially double taxes in major cities. The system will utilize a digital platform, e-Proprietatea, to centralize data from various sources, including cadastral information and satellite imagery, to determine property values. Experts predict significant tax increases, potentially between 50% and 100%, with a specific example showing a 90% increase for an apartment in Ilfov county. The government aims to collect an additional 6 billion lei annually from these new property taxes.\",\n",
       " 'identified_subjects': [{'subject': 'romania', 'stance': 0.5},\n",
       "  {'subject': 'european union', 'stance': 0.5},\n",
       "  {'subject': 'pnrr', 'stance': 0.5},\n",
       "  {'subject': 'taxes', 'stance': 0.5}],\n",
       " 'overall_alignment': 0.75}"
      ]
     },
     "execution_count": 4,
     "metadata": {},
     "output_type": "execute_result"
    }
   ],
   "source": [
    "analysis_result_json = VideoProcessor.process(video_path, transcript, sentiment_results, description)\n",
    "analysis_result_json"
   ]
  },
  {
   "cell_type": "code",
   "execution_count": 5,
   "metadata": {},
   "outputs": [
    {
     "name": "stdout",
     "output_type": "stream",
     "text": [
      "llm_overall_alignment: 0.75 \n",
      "final_alignment: 0.6875 \n",
      "deterministic_alignment: 0.5 \n",
      "alignment_conflict: 0.25\n"
     ]
    }
   ],
   "source": [
    "identified_subjects = analysis_result_json[\"identified_subjects\"]\n",
    "llm_overall_alignment = analysis_result_json[\"overall_alignment\"]\n",
    "final_alignment, deterministic_alignment, alignment_conflict = AlignmentCalculator.calculate(identified_subjects, llm_overall_alignment, alpha=0.25)\n",
    "print(f\"llm_overall_alignment: {llm_overall_alignment} \\nfinal_alignment: {final_alignment} \\ndeterministic_alignment: {deterministic_alignment} \\nalignment_conflict: {alignment_conflict}\")"
   ]
  }
 ],
 "metadata": {
  "kernelspec": {
   "display_name": "venv",
   "language": "python",
   "name": "python3"
  },
  "language_info": {
   "codemirror_mode": {
    "name": "ipython",
    "version": 3
   },
   "file_extension": ".py",
   "mimetype": "text/x-python",
   "name": "python",
   "nbconvert_exporter": "python",
   "pygments_lexer": "ipython3",
   "version": "3.13.5"
  }
 },
 "nbformat": 4,
 "nbformat_minor": 2
}
